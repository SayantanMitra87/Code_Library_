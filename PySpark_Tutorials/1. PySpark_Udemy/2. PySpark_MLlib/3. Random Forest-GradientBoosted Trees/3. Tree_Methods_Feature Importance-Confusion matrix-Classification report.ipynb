{
 "cells": [
  {
   "cell_type": "markdown",
   "metadata": {},
   "source": [
    "# Tree Methods Consulting Project "
   ]
  },
  {
   "cell_type": "markdown",
   "metadata": {},
   "source": [
    "You've been hired by a dog food company to try to predict why some batches of their dog food are spoiling much quicker than intended! Unfortunately this Dog Food company hasn't upgraded to the latest machinery, meaning that the amounts of the five preservative chemicals they are using can vary a lot, but which is the chemical that has the strongest effect? The dog food company first mixes up a batch of preservative that contains 4 different preservative chemicals (A,B,C,D) and then is completed with a \"filler\" chemical. The food scientists beelive one of the A,B,C, or D preservatives is causing the problem, but need your help to figure out which one!\n",
    "Use Machine Learning with RF to find out which parameter had the most predicitive power, thus finding out which chemical causes the early spoiling! So create a model and then find out how you can decide which chemical is the problem!\n",
    "\n",
    "* Pres_A : Percentage of preservative A in the mix\n",
    "* Pres_B : Percentage of preservative B in the mix\n",
    "* Pres_C : Percentage of preservative C in the mix\n",
    "* Pres_D : Percentage of preservative D in the mix\n",
    "* Spoiled: Label indicating whether or not the dog food batch was spoiled.\n",
    "___\n",
    "\n",
    "**Think carefully about what this problem is really asking you to solve. While we will use Machine Learning to solve this, it won't be with your typical train/test split workflow. If this confuses you, skip ahead to the solution code along walk-through!**\n",
    "____"
   ]
  },
  {
   "cell_type": "code",
   "execution_count": 39,
   "metadata": {},
   "outputs": [],
   "source": [
    "from pyspark.sql import SparkSession\n",
    "spark = SparkSession.builder.appName('dog_foog').getOrCreate()"
   ]
  },
  {
   "cell_type": "code",
   "execution_count": 40,
   "metadata": {},
   "outputs": [
    {
     "name": "stdout",
     "output_type": "stream",
     "text": [
      "+---+---+----+---+-------+\n",
      "|  A|  B|   C|  D|Spoiled|\n",
      "+---+---+----+---+-------+\n",
      "|  4|  2|12.0|  3|    1.0|\n",
      "+---+---+----+---+-------+\n",
      "only showing top 1 row\n",
      "\n"
     ]
    }
   ],
   "source": [
    "df = spark.read.csv('dog_food.csv', header=True, inferSchema=True)\n",
    "df.show(1)"
   ]
  },
  {
   "cell_type": "code",
   "execution_count": 41,
   "metadata": {},
   "outputs": [
    {
     "name": "stdout",
     "output_type": "stream",
     "text": [
      "root\n",
      " |-- A: integer (nullable = true)\n",
      " |-- B: integer (nullable = true)\n",
      " |-- C: double (nullable = true)\n",
      " |-- D: integer (nullable = true)\n",
      " |-- Spoiled: double (nullable = true)\n",
      "\n"
     ]
    }
   ],
   "source": [
    "df.printSchema()"
   ]
  },
  {
   "cell_type": "code",
   "execution_count": 42,
   "metadata": {},
   "outputs": [
    {
     "name": "stdout",
     "output_type": "stream",
     "text": [
      "+-----------------------+\n",
      "|count(DISTINCT Spoiled)|\n",
      "+-----------------------+\n",
      "|                      2|\n",
      "+-----------------------+\n",
      "\n"
     ]
    }
   ],
   "source": [
    "# All numerical feature no need of string Indexer or categorical encoding \n",
    "# Target: Spoiled\n",
    "from pyspark.sql.functions import countDistinct\n",
    "# binary classification\n",
    "df.agg(countDistinct(df['Spoiled'])).show()"
   ]
  },
  {
   "cell_type": "code",
   "execution_count": 47,
   "metadata": {},
   "outputs": [
    {
     "name": "stdout",
     "output_type": "stream",
     "text": [
      "+-------+-----+\n",
      "|Spoiled|count|\n",
      "+-------+-----+\n",
      "|    0.0|  350|\n",
      "|    1.0|  140|\n",
      "+-------+-----+\n",
      "\n"
     ]
    }
   ],
   "source": [
    "# DataImbalaned-but we will ignore that here\n",
    "# In a detailed ML model we have to fix imbalance with syntehtic data/downsample\n",
    "df.groupBy('Spoiled').count().show()"
   ]
  },
  {
   "cell_type": "markdown",
   "metadata": {},
   "source": [
    "### Data transformation for Spark"
   ]
  },
  {
   "cell_type": "code",
   "execution_count": 48,
   "metadata": {},
   "outputs": [
    {
     "data": {
      "text/plain": [
       "['A', 'B', 'C', 'D', 'Spoiled']"
      ]
     },
     "execution_count": 48,
     "metadata": {},
     "output_type": "execute_result"
    }
   ],
   "source": [
    "df.columns"
   ]
  },
  {
   "cell_type": "code",
   "execution_count": 49,
   "metadata": {},
   "outputs": [
    {
     "name": "stdout",
     "output_type": "stream",
     "text": [
      "+---+---+----+---+-------+------------------+\n",
      "|  A|  B|   C|  D|Spoiled|          features|\n",
      "+---+---+----+---+-------+------------------+\n",
      "|  4|  2|12.0|  3|    1.0|[4.0,2.0,12.0,3.0]|\n",
      "|  5|  6|12.0|  7|    1.0|[5.0,6.0,12.0,7.0]|\n",
      "+---+---+----+---+-------+------------------+\n",
      "only showing top 2 rows\n",
      "\n"
     ]
    }
   ],
   "source": [
    "from pyspark.ml.feature import VectorAssembler\n",
    "assembler = VectorAssembler(inputCols=['A', 'B', 'C', 'D'], \n",
    "                            outputCol='features')\n",
    "df2 = assembler.transform(df)\n",
    "df2.show(2)"
   ]
  },
  {
   "cell_type": "code",
   "execution_count": 50,
   "metadata": {},
   "outputs": [],
   "source": [
    "# train-test split\n",
    "train_Data, test_Data = df2.randomSplit([0.7,0.3])"
   ]
  },
  {
   "cell_type": "code",
   "execution_count": 51,
   "metadata": {},
   "outputs": [
    {
     "name": "stdout",
     "output_type": "stream",
     "text": [
      "+-------+------------------+------------------+-----------------+-----------------+-------------------+\n",
      "|summary|                 A|                 B|                C|                D|            Spoiled|\n",
      "+-------+------------------+------------------+-----------------+-----------------+-------------------+\n",
      "|  count|               337|               337|              337|              337|                337|\n",
      "|   mean| 5.560830860534125| 5.462908011869437| 9.12166172106825|5.614243323442136| 0.2789317507418398|\n",
      "| stddev|2.9180284069567755|2.8763125110383694|2.114302112031551|2.816750297459208|0.44914076510131523|\n",
      "|    min|                 1|                 1|              5.0|                1|                0.0|\n",
      "|    max|                10|                10|             14.0|               10|                1.0|\n",
      "+-------+------------------+------------------+-----------------+-----------------+-------------------+\n",
      "\n"
     ]
    }
   ],
   "source": [
    "train_Data.describe().show()"
   ]
  },
  {
   "cell_type": "code",
   "execution_count": 52,
   "metadata": {},
   "outputs": [
    {
     "name": "stdout",
     "output_type": "stream",
     "text": [
      "+-------+-----------------+------------------+-----------------+-----------------+-------------------+\n",
      "|summary|                A|                 B|                C|                D|            Spoiled|\n",
      "+-------+-----------------+------------------+-----------------+-----------------+-------------------+\n",
      "|  count|              153|               153|              153|              153|                153|\n",
      "|   mean|5.477124183006536| 5.594771241830065|9.137254901960784|5.503267973856209| 0.3006535947712418|\n",
      "| stddev| 3.03290065978243|2.8107825949385754|1.926473542407869|2.944942549271046|0.46004815709395613|\n",
      "|    min|                1|                 1|              6.0|                1|                0.0|\n",
      "|    max|               10|                10|             13.0|               10|                1.0|\n",
      "+-------+-----------------+------------------+-----------------+-----------------+-------------------+\n",
      "\n"
     ]
    }
   ],
   "source": [
    "test_Data.describe().show()"
   ]
  },
  {
   "cell_type": "code",
   "execution_count": 53,
   "metadata": {},
   "outputs": [],
   "source": [
    "# Selecting only feature and label before splitting is NOT necessary"
   ]
  },
  {
   "cell_type": "code",
   "execution_count": 54,
   "metadata": {},
   "outputs": [],
   "source": [
    "train_Data = train_Data.select(train_Data['features'], \n",
    "                               train_Data['Spoiled'])\n",
    "test_Data = test_Data.select(test_Data['features'], \n",
    "                             test_Data['Spoiled'])"
   ]
  },
  {
   "cell_type": "code",
   "execution_count": 55,
   "metadata": {},
   "outputs": [
    {
     "name": "stdout",
     "output_type": "stream",
     "text": [
      "+-------------------+-------+\n",
      "|           features|Spoiled|\n",
      "+-------------------+-------+\n",
      "| [1.0,1.0,10.0,8.0]|    1.0|\n",
      "| [1.0,1.0,12.0,2.0]|    1.0|\n",
      "| [1.0,1.0,13.0,3.0]|    1.0|\n",
      "|  [1.0,2.0,9.0,1.0]|    0.0|\n",
      "|  [1.0,3.0,8.0,3.0]|    0.0|\n",
      "|  [1.0,3.0,8.0,5.0]|    0.0|\n",
      "|[1.0,4.0,13.0,10.0]|    1.0|\n",
      "| [1.0,5.0,8.0,10.0]|    0.0|\n",
      "|[1.0,5.0,12.0,10.0]|    1.0|\n",
      "|[1.0,5.0,13.0,10.0]|    1.0|\n",
      "|  [1.0,6.0,7.0,8.0]|    0.0|\n",
      "|  [1.0,6.0,8.0,1.0]|    0.0|\n",
      "|  [1.0,6.0,8.0,3.0]|    0.0|\n",
      "|[1.0,6.0,11.0,10.0]|    1.0|\n",
      "|  [1.0,7.0,7.0,2.0]|    0.0|\n",
      "|  [1.0,7.0,7.0,6.0]|    0.0|\n",
      "|  [1.0,7.0,8.0,4.0]|    0.0|\n",
      "| [1.0,7.0,11.0,9.0]|    1.0|\n",
      "|  [1.0,8.0,6.0,6.0]|    0.0|\n",
      "| [1.0,8.0,7.0,10.0]|    0.0|\n",
      "+-------------------+-------+\n",
      "only showing top 20 rows\n",
      "\n"
     ]
    }
   ],
   "source": [
    "train_Data.show()"
   ]
  },
  {
   "cell_type": "markdown",
   "metadata": {},
   "source": [
    "### ML model preparation"
   ]
  },
  {
   "cell_type": "code",
   "execution_count": 56,
   "metadata": {},
   "outputs": [],
   "source": [
    "from pyspark.ml.classification import (DecisionTreeClassifier,\n",
    "                                       RandomForestClassifier, \n",
    "                                       GBTClassifier)"
   ]
  },
  {
   "cell_type": "code",
   "execution_count": 57,
   "metadata": {},
   "outputs": [],
   "source": [
    "det = DecisionTreeClassifier(featuresCol='features',\n",
    "                             labelCol='Spoiled',\n",
    "                             predictionCol='prediction')\n",
    "\n",
    "rfc = RandomForestClassifier(featuresCol='features',\n",
    "                             labelCol='Spoiled',\n",
    "                             predictionCol='prediction', \n",
    "                             numTrees=200)\n",
    "\n",
    "gbt = GBTClassifier(featuresCol='features',\n",
    "                    labelCol='Spoiled',\n",
    "                    predictionCol='prediction', \n",
    "                    maxIter=200)"
   ]
  },
  {
   "cell_type": "code",
   "execution_count": 58,
   "metadata": {},
   "outputs": [],
   "source": [
    "# Fitting models\n",
    "dt_model = det.fit(train_Data)\n",
    "rfc_model = rfc.fit(train_Data)\n",
    "gbt_model = gbt.fit(train_Data)"
   ]
  },
  {
   "cell_type": "code",
   "execution_count": 59,
   "metadata": {},
   "outputs": [],
   "source": [
    "# Prediction\n",
    "dt_pred = dt_model.transform(test_Data)\n",
    "rfc_pred = rfc_model.transform(test_Data)\n",
    "gbt_pred = gbt_model.transform(test_Data)"
   ]
  },
  {
   "cell_type": "code",
   "execution_count": 60,
   "metadata": {},
   "outputs": [
    {
     "name": "stdout",
     "output_type": "stream",
     "text": [
      "+------------------+-------+-------------+-----------+----------+\n",
      "|          features|Spoiled|rawPrediction|probability|prediction|\n",
      "+------------------+-------+-------------+-----------+----------+\n",
      "|[1.0,1.0,12.0,4.0]|    1.0|   [0.0,63.0]|  [0.0,1.0]|       1.0|\n",
      "| [1.0,2.0,9.0,4.0]|    0.0|  [185.0,0.0]|  [1.0,0.0]|       0.0|\n",
      "| [1.0,3.0,9.0,8.0]|    0.0|  [185.0,0.0]|  [1.0,0.0]|       0.0|\n",
      "| [1.0,4.0,8.0,1.0]|    0.0|   [27.0,0.0]|  [1.0,0.0]|       0.0|\n",
      "| [1.0,4.0,8.0,5.0]|    0.0|  [185.0,0.0]|  [1.0,0.0]|       0.0|\n",
      "+------------------+-------+-------------+-----------+----------+\n",
      "only showing top 5 rows\n",
      "\n"
     ]
    }
   ],
   "source": [
    "dt_pred.show(5)"
   ]
  },
  {
   "cell_type": "markdown",
   "metadata": {},
   "source": [
    "### Hyperparameter tuning: https://docs.databricks.com/applications/machine-learning/mllib/binary-classification-mllib-pipelines.html"
   ]
  },
  {
   "cell_type": "markdown",
   "metadata": {},
   "source": [
    "### Evaluate the ML models"
   ]
  },
  {
   "cell_type": "code",
   "execution_count": 61,
   "metadata": {},
   "outputs": [],
   "source": [
    "from pyspark.ml.evaluation import MulticlassClassificationEvaluator\n",
    "evaluator = MulticlassClassificationEvaluator(predictionCol='prediction',\n",
    "                                              labelCol='Spoiled',\n",
    "                                              metricName=\"accuracy\")"
   ]
  },
  {
   "cell_type": "code",
   "execution_count": 62,
   "metadata": {},
   "outputs": [
    {
     "data": {
      "text/plain": [
       "0.9673202614379085"
      ]
     },
     "execution_count": 62,
     "metadata": {},
     "output_type": "execute_result"
    }
   ],
   "source": [
    "acc_dt = evaluator.evaluate(dt_pred)\n",
    "acc_dt"
   ]
  },
  {
   "cell_type": "code",
   "execution_count": 63,
   "metadata": {},
   "outputs": [
    {
     "data": {
      "text/plain": [
       "0.9738562091503268"
      ]
     },
     "execution_count": 63,
     "metadata": {},
     "output_type": "execute_result"
    }
   ],
   "source": [
    "acc_rfc = evaluator.evaluate(rfc_pred)\n",
    "acc_rfc"
   ]
  },
  {
   "cell_type": "code",
   "execution_count": 64,
   "metadata": {},
   "outputs": [
    {
     "data": {
      "text/plain": [
       "0.9673202614379085"
      ]
     },
     "execution_count": 64,
     "metadata": {},
     "output_type": "execute_result"
    }
   ],
   "source": [
    "acc_gbt = evaluator.evaluate(gbt_pred)\n",
    "acc_gbt"
   ]
  },
  {
   "cell_type": "markdown",
   "metadata": {},
   "source": [
    "## Making confusion matrix and classification report"
   ]
  },
  {
   "cell_type": "code",
   "execution_count": 65,
   "metadata": {},
   "outputs": [
    {
     "name": "stdout",
     "output_type": "stream",
     "text": [
      "+------------------+-------+--------------------+--------------------+----------+\n",
      "|          features|Spoiled|       rawPrediction|         probability|prediction|\n",
      "+------------------+-------+--------------------+--------------------+----------+\n",
      "|[1.0,1.0,12.0,4.0]|    1.0|[10.8338986077273...|[0.05416949303863...|       1.0|\n",
      "+------------------+-------+--------------------+--------------------+----------+\n",
      "only showing top 1 row\n",
      "\n"
     ]
    }
   ],
   "source": [
    "rfc_pred.show(1)"
   ]
  },
  {
   "cell_type": "markdown",
   "metadata": {},
   "source": [
    "**confusion matrix using pySpark**"
   ]
  },
  {
   "cell_type": "code",
   "execution_count": 66,
   "metadata": {},
   "outputs": [],
   "source": [
    "from pyspark.mllib.evaluation import MulticlassMetrics\n",
    "#rfc_pred = rfc_model.transform(test_Data)\n",
    "predictionRDD = rfc_pred.select(['Spoiled',\n",
    "                                 'prediction']).rdd.map(lambda line: \n",
    "                                                        (line[1], line[0]))"
   ]
  },
  {
   "cell_type": "code",
   "execution_count": 67,
   "metadata": {},
   "outputs": [
    {
     "name": "stdout",
     "output_type": "stream",
     "text": [
      "[[107.   0.]\n",
      " [  4.  42.]]\n"
     ]
    }
   ],
   "source": [
    "metrics = MulticlassMetrics(predictionAndLabels=predictionRDD)\n",
    "print(metrics.confusionMatrix().toArray())"
   ]
  },
  {
   "cell_type": "code",
   "execution_count": 68,
   "metadata": {},
   "outputs": [
    {
     "data": {
      "text/plain": [
       "0.9738562091503268"
      ]
     },
     "execution_count": 68,
     "metadata": {},
     "output_type": "execute_result"
    }
   ],
   "source": [
    "acc_rfc"
   ]
  },
  {
   "cell_type": "code",
   "execution_count": 70,
   "metadata": {},
   "outputs": [
    {
     "data": {
      "text/plain": [
       "0.9738562091503268"
      ]
     },
     "execution_count": 70,
     "metadata": {},
     "output_type": "execute_result"
    }
   ],
   "source": [
    "# This matches with acc_rfc\n",
    "(107+42)/(107+42+4)"
   ]
  },
  {
   "cell_type": "markdown",
   "metadata": {},
   "source": [
    "**Classification report and confusion matrix using scikit-learn**"
   ]
  },
  {
   "cell_type": "code",
   "execution_count": 71,
   "metadata": {},
   "outputs": [
    {
     "name": "stdout",
     "output_type": "stream",
     "text": [
      "[[107   0]\n",
      " [  4  42]]\n"
     ]
    }
   ],
   "source": [
    "y_true = rfc_pred.select('Spoiled').collect()\n",
    "y_pred = rfc_pred.select('prediction').collect()\n",
    "\n",
    "from sklearn.metrics import classification_report, confusion_matrix\n",
    "# we get same output as done before\n",
    "print(confusion_matrix(y_true,y_pred))"
   ]
  },
  {
   "cell_type": "code",
   "execution_count": 72,
   "metadata": {},
   "outputs": [
    {
     "name": "stdout",
     "output_type": "stream",
     "text": [
      "              precision    recall  f1-score   support\n",
      "\n",
      "         0.0       0.96      1.00      0.98       107\n",
      "         1.0       1.00      0.91      0.95        46\n",
      "\n",
      "    accuracy                           0.97       153\n",
      "   macro avg       0.98      0.96      0.97       153\n",
      "weighted avg       0.97      0.97      0.97       153\n",
      "\n"
     ]
    }
   ],
   "source": [
    "# Classification report\n",
    "print(classification_report(y_true,y_pred))"
   ]
  },
  {
   "cell_type": "markdown",
   "metadata": {},
   "source": [
    "### Feature importance"
   ]
  },
  {
   "cell_type": "code",
   "execution_count": 73,
   "metadata": {},
   "outputs": [
    {
     "data": {
      "text/plain": [
       "SparseVector(4, {0: 0.0058, 1: 0.0247, 2: 0.9578, 3: 0.0118})"
      ]
     },
     "execution_count": 73,
     "metadata": {},
     "output_type": "execute_result"
    }
   ],
   "source": [
    "dt_model.featureImportances"
   ]
  },
  {
   "cell_type": "code",
   "execution_count": 74,
   "metadata": {},
   "outputs": [
    {
     "data": {
      "text/plain": [
       "SparseVector(4, {0: 0.0277, 1: 0.023, 2: 0.9223, 3: 0.0269})"
      ]
     },
     "execution_count": 74,
     "metadata": {},
     "output_type": "execute_result"
    }
   ],
   "source": [
    "rfc_model.featureImportances"
   ]
  },
  {
   "cell_type": "code",
   "execution_count": 75,
   "metadata": {},
   "outputs": [
    {
     "data": {
      "text/plain": [
       "['A', 'B', 'C', 'D', 'Spoiled']"
      ]
     },
     "execution_count": 75,
     "metadata": {},
     "output_type": "execute_result"
    }
   ],
   "source": [
    "df.columns"
   ]
  },
  {
   "cell_type": "code",
   "execution_count": 76,
   "metadata": {},
   "outputs": [
    {
     "data": {
      "text/plain": [
       "SparseVector(4, {0: 0.0325, 1: 0.0312, 2: 0.9093, 3: 0.0269})"
      ]
     },
     "execution_count": 76,
     "metadata": {},
     "output_type": "execute_result"
    }
   ],
   "source": [
    "gbt_model.featureImportances"
   ]
  },
  {
   "cell_type": "code",
   "execution_count": 77,
   "metadata": {},
   "outputs": [
    {
     "data": {
      "text/plain": [
       "array([0.03254089, 0.0312051 , 0.90931327, 0.02694074])"
      ]
     },
     "execution_count": 77,
     "metadata": {},
     "output_type": "execute_result"
    }
   ],
   "source": [
    "gbt_model.featureImportances.values"
   ]
  },
  {
   "cell_type": "code",
   "execution_count": null,
   "metadata": {},
   "outputs": [],
   "source": [
    "# Feature C is really important for predicting whether dog food will go bad or NOT!"
   ]
  }
 ],
 "metadata": {
  "anaconda-cloud": {},
  "hide_input": false,
  "kernelspec": {
   "display_name": "Python 3",
   "language": "python",
   "name": "python3"
  },
  "language_info": {
   "codemirror_mode": {
    "name": "ipython",
    "version": 3
   },
   "file_extension": ".py",
   "mimetype": "text/x-python",
   "name": "python",
   "nbconvert_exporter": "python",
   "pygments_lexer": "ipython3",
   "version": "3.7.4"
  },
  "varInspector": {
   "cols": {
    "lenName": 16,
    "lenType": 16,
    "lenVar": 40
   },
   "kernels_config": {
    "python": {
     "delete_cmd_postfix": "",
     "delete_cmd_prefix": "del ",
     "library": "var_list.py",
     "varRefreshCmd": "print(var_dic_list())"
    },
    "r": {
     "delete_cmd_postfix": ") ",
     "delete_cmd_prefix": "rm(",
     "library": "var_list.r",
     "varRefreshCmd": "cat(var_dic_list()) "
    }
   },
   "types_to_exclude": [
    "module",
    "function",
    "builtin_function_or_method",
    "instance",
    "_Feature"
   ],
   "window_display": false
  }
 },
 "nbformat": 4,
 "nbformat_minor": 1
}
