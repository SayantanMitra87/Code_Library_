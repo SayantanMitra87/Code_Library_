{
 "cells": [
  {
   "cell_type": "markdown",
   "metadata": {},
   "source": [
    "https://www.kaggle.com/mlg-ulb/creditcardfraud"
   ]
  },
  {
   "cell_type": "markdown",
   "metadata": {},
   "source": [
    "https://pandas-ml.readthedocs.io/en/latest/modelframe.html"
   ]
  },
  {
   "cell_type": "markdown",
   "metadata": {},
   "source": [
    "https://pandas-ml.readthedocs.io/en/latest/imbalance.html"
   ]
  },
  {
   "cell_type": "code",
   "execution_count": 17,
   "metadata": {},
   "outputs": [
    {
     "name": "stdout",
     "output_type": "stream",
     "text": [
      "Collecting imbalanced-learn\n",
      "\u001b[?25l  Downloading https://files.pythonhosted.org/packages/e5/4c/7557e1c2e791bd43878f8c82065bddc5798252084f26ef44527c02262af1/imbalanced_learn-0.4.3-py3-none-any.whl (166kB)\n",
      "\u001b[K     |████████████████████████████████| 174kB 895kB/s eta 0:00:01\n",
      "\u001b[?25hRequirement already satisfied, skipping upgrade: scikit-learn>=0.20 in /anaconda3/lib/python3.6/site-packages (from imbalanced-learn) (0.20.3)\n",
      "Requirement already satisfied, skipping upgrade: numpy>=1.8.2 in /anaconda3/lib/python3.6/site-packages (from imbalanced-learn) (1.14.5)\n",
      "Requirement already satisfied, skipping upgrade: scipy>=0.13.3 in /anaconda3/lib/python3.6/site-packages (from imbalanced-learn) (1.0.0)\n",
      "Installing collected packages: imbalanced-learn\n",
      "Successfully installed imbalanced-learn-0.4.3\n",
      "\u001b[33mWARNING: You are using pip version 19.1, however version 19.1.1 is available.\n",
      "You should consider upgrading via the 'pip install --upgrade pip' command.\u001b[0m\n"
     ]
    }
   ],
   "source": [
    "!pip install -U imbalanced-learn"
   ]
  },
  {
   "cell_type": "code",
   "execution_count": 18,
   "metadata": {},
   "outputs": [
    {
     "name": "stdout",
     "output_type": "stream",
     "text": [
      "Requirement already up-to-date: pandas_ml in /anaconda3/lib/python3.6/site-packages (0.6.1)\n",
      "Requirement already satisfied, skipping upgrade: enum34 in /anaconda3/lib/python3.6/site-packages (from pandas_ml) (1.1.6)\n",
      "Requirement already satisfied, skipping upgrade: pandas>=0.19.0 in /anaconda3/lib/python3.6/site-packages (from pandas_ml) (0.22.0)\n",
      "Requirement already satisfied, skipping upgrade: python-dateutil>=2 in /anaconda3/lib/python3.6/site-packages (from pandas>=0.19.0->pandas_ml) (2.6.1)\n",
      "Requirement already satisfied, skipping upgrade: pytz>=2011k in /anaconda3/lib/python3.6/site-packages (from pandas>=0.19.0->pandas_ml) (2017.3)\n",
      "Requirement already satisfied, skipping upgrade: numpy>=1.9.0 in /anaconda3/lib/python3.6/site-packages (from pandas>=0.19.0->pandas_ml) (1.14.5)\n",
      "Requirement already satisfied, skipping upgrade: six>=1.5 in /anaconda3/lib/python3.6/site-packages (from python-dateutil>=2->pandas>=0.19.0->pandas_ml) (1.11.0)\n",
      "\u001b[33mWARNING: You are using pip version 19.1, however version 19.1.1 is available.\n",
      "You should consider upgrading via the 'pip install --upgrade pip' command.\u001b[0m\n"
     ]
    }
   ],
   "source": [
    "!pip install -U pandas_ml"
   ]
  },
  {
   "cell_type": "markdown",
   "metadata": {},
   "source": [
    "## Introduction to pandas_ml by handling data"
   ]
  },
  {
   "cell_type": "markdown",
   "metadata": {},
   "source": [
    "#### `ModelFrame` can call other statistics/ML functions in more simple way\n",
    "  * Creation `ModelFram` is similar to `Pandas Dataframe`"
   ]
  },
  {
   "cell_type": "code",
   "execution_count": 19,
   "metadata": {},
   "outputs": [],
   "source": [
    "import pandas as pd\n",
    "import numpy as np\n",
    "\n",
    "import pandas_ml as pdml"
   ]
  },
  {
   "cell_type": "markdown",
   "metadata": {},
   "source": [
    "## Handling `Imbalance` Dataset\n",
    "#### Creating a modelframe where the `target` values are `0 `, `1` and the propotion of the values is `80%` and `20%` respectively"
   ]
  },
  {
   "cell_type": "code",
   "execution_count": 20,
   "metadata": {},
   "outputs": [],
   "source": [
    "mf = pdml.ModelFrame(np.random.randn(100, 5),\n",
    "                     target = np.array([0, 1]).repeat([80, 20]),\n",
    "                     columns = list('ABCDE'))"
   ]
  },
  {
   "cell_type": "code",
   "execution_count": 21,
   "metadata": {},
   "outputs": [
    {
     "data": {
      "text/html": [
       "<div>\n",
       "<style scoped>\n",
       "    .dataframe tbody tr th:only-of-type {\n",
       "        vertical-align: middle;\n",
       "    }\n",
       "\n",
       "    .dataframe tbody tr th {\n",
       "        vertical-align: top;\n",
       "    }\n",
       "\n",
       "    .dataframe thead th {\n",
       "        text-align: right;\n",
       "    }\n",
       "</style>\n",
       "<table border=\"1\" class=\"dataframe\">\n",
       "  <thead>\n",
       "    <tr style=\"text-align: right;\">\n",
       "      <th></th>\n",
       "      <th>.target</th>\n",
       "      <th>A</th>\n",
       "      <th>B</th>\n",
       "      <th>C</th>\n",
       "      <th>D</th>\n",
       "      <th>E</th>\n",
       "    </tr>\n",
       "  </thead>\n",
       "  <tbody>\n",
       "    <tr>\n",
       "      <th>0</th>\n",
       "      <td>0</td>\n",
       "      <td>0.110225</td>\n",
       "      <td>1.841503</td>\n",
       "      <td>-0.019234</td>\n",
       "      <td>1.351317</td>\n",
       "      <td>0.505961</td>\n",
       "    </tr>\n",
       "    <tr>\n",
       "      <th>1</th>\n",
       "      <td>0</td>\n",
       "      <td>-0.540562</td>\n",
       "      <td>-0.367921</td>\n",
       "      <td>1.762666</td>\n",
       "      <td>0.034601</td>\n",
       "      <td>1.591332</td>\n",
       "    </tr>\n",
       "    <tr>\n",
       "      <th>2</th>\n",
       "      <td>0</td>\n",
       "      <td>-0.858470</td>\n",
       "      <td>0.297982</td>\n",
       "      <td>0.084310</td>\n",
       "      <td>-0.980489</td>\n",
       "      <td>0.923869</td>\n",
       "    </tr>\n",
       "    <tr>\n",
       "      <th>3</th>\n",
       "      <td>0</td>\n",
       "      <td>-0.275151</td>\n",
       "      <td>0.761847</td>\n",
       "      <td>1.342142</td>\n",
       "      <td>-0.406492</td>\n",
       "      <td>0.400381</td>\n",
       "    </tr>\n",
       "    <tr>\n",
       "      <th>4</th>\n",
       "      <td>0</td>\n",
       "      <td>-0.065462</td>\n",
       "      <td>0.961480</td>\n",
       "      <td>1.072228</td>\n",
       "      <td>1.699816</td>\n",
       "      <td>-1.319097</td>\n",
       "    </tr>\n",
       "  </tbody>\n",
       "</table>\n",
       "</div>"
      ],
      "text/plain": [
       "   .target         A         B         C         D         E\n",
       "0        0  0.110225  1.841503 -0.019234  1.351317  0.505961\n",
       "1        0 -0.540562 -0.367921  1.762666  0.034601  1.591332\n",
       "2        0 -0.858470  0.297982  0.084310 -0.980489  0.923869\n",
       "3        0 -0.275151  0.761847  1.342142 -0.406492  0.400381\n",
       "4        0 -0.065462  0.961480  1.072228  1.699816 -1.319097"
      ]
     },
     "execution_count": 21,
     "metadata": {},
     "output_type": "execute_result"
    }
   ],
   "source": [
    "mf.head()"
   ]
  },
  {
   "cell_type": "code",
   "execution_count": 22,
   "metadata": {},
   "outputs": [
    {
     "data": {
      "text/plain": [
       "pandas_ml.core.frame.ModelFrame"
      ]
     },
     "execution_count": 22,
     "metadata": {},
     "output_type": "execute_result"
    }
   ],
   "source": [
    "type(mf)"
   ]
  },
  {
   "cell_type": "code",
   "execution_count": 23,
   "metadata": {},
   "outputs": [
    {
     "data": {
      "text/plain": [
       "0    80\n",
       "1    20\n",
       "Name: .target, dtype: int64"
      ]
     },
     "execution_count": 23,
     "metadata": {},
     "output_type": "execute_result"
    }
   ],
   "source": [
    "mf.target.value_counts()"
   ]
  },
  {
   "cell_type": "markdown",
   "metadata": {},
   "source": [
    "\n",
    "## Performing Under Sampling\n",
    "* Under Sampling is a method to reduce the datapoints of the majority class equal to the data points of minority class, this practice results in a loss of information in the newly undersampled dataset\n",
    "\n",
    "https://pandas-ml.readthedocs.io/en/latest/imbalance.html"
   ]
  },
  {
   "cell_type": "code",
   "execution_count": 24,
   "metadata": {},
   "outputs": [],
   "source": [
    "sampler = mf.imbalance.under_sampling.ClusterCentroids()"
   ]
  },
  {
   "cell_type": "code",
   "execution_count": 25,
   "metadata": {},
   "outputs": [
    {
     "data": {
      "text/plain": [
       "ClusterCentroids(estimator=None, n_jobs=1, random_state=None, ratio=None,\n",
       "         sampling_strategy='auto', voting='auto')"
      ]
     },
     "execution_count": 25,
     "metadata": {},
     "output_type": "execute_result"
    }
   ],
   "source": [
    "sampler"
   ]
  },
  {
   "cell_type": "code",
   "execution_count": 26,
   "metadata": {},
   "outputs": [],
   "source": [
    "sampled = mf.fit_sample(sampler)"
   ]
  },
  {
   "cell_type": "code",
   "execution_count": 27,
   "metadata": {},
   "outputs": [
    {
     "data": {
      "text/html": [
       "<div>\n",
       "<style scoped>\n",
       "    .dataframe tbody tr th:only-of-type {\n",
       "        vertical-align: middle;\n",
       "    }\n",
       "\n",
       "    .dataframe tbody tr th {\n",
       "        vertical-align: top;\n",
       "    }\n",
       "\n",
       "    .dataframe thead th {\n",
       "        text-align: right;\n",
       "    }\n",
       "</style>\n",
       "<table border=\"1\" class=\"dataframe\">\n",
       "  <thead>\n",
       "    <tr style=\"text-align: right;\">\n",
       "      <th></th>\n",
       "      <th>.target</th>\n",
       "      <th>A</th>\n",
       "      <th>B</th>\n",
       "      <th>C</th>\n",
       "      <th>D</th>\n",
       "      <th>E</th>\n",
       "    </tr>\n",
       "  </thead>\n",
       "  <tbody>\n",
       "    <tr>\n",
       "      <th>0</th>\n",
       "      <td>0</td>\n",
       "      <td>0.973738</td>\n",
       "      <td>-0.268020</td>\n",
       "      <td>0.466730</td>\n",
       "      <td>1.181708</td>\n",
       "      <td>-0.590465</td>\n",
       "    </tr>\n",
       "    <tr>\n",
       "      <th>1</th>\n",
       "      <td>0</td>\n",
       "      <td>-1.421430</td>\n",
       "      <td>-0.561208</td>\n",
       "      <td>0.612815</td>\n",
       "      <td>-0.835204</td>\n",
       "      <td>-0.067300</td>\n",
       "    </tr>\n",
       "    <tr>\n",
       "      <th>2</th>\n",
       "      <td>0</td>\n",
       "      <td>-0.967507</td>\n",
       "      <td>-1.037346</td>\n",
       "      <td>-0.338297</td>\n",
       "      <td>1.231185</td>\n",
       "      <td>-0.655855</td>\n",
       "    </tr>\n",
       "    <tr>\n",
       "      <th>3</th>\n",
       "      <td>0</td>\n",
       "      <td>-0.083353</td>\n",
       "      <td>-1.332814</td>\n",
       "      <td>0.985812</td>\n",
       "      <td>-0.567888</td>\n",
       "      <td>0.613643</td>\n",
       "    </tr>\n",
       "    <tr>\n",
       "      <th>4</th>\n",
       "      <td>0</td>\n",
       "      <td>0.273630</td>\n",
       "      <td>1.744314</td>\n",
       "      <td>0.250174</td>\n",
       "      <td>0.825882</td>\n",
       "      <td>0.178074</td>\n",
       "    </tr>\n",
       "  </tbody>\n",
       "</table>\n",
       "</div>"
      ],
      "text/plain": [
       "   .target         A         B         C         D         E\n",
       "0        0  0.973738 -0.268020  0.466730  1.181708 -0.590465\n",
       "1        0 -1.421430 -0.561208  0.612815 -0.835204 -0.067300\n",
       "2        0 -0.967507 -1.037346 -0.338297  1.231185 -0.655855\n",
       "3        0 -0.083353 -1.332814  0.985812 -0.567888  0.613643\n",
       "4        0  0.273630  1.744314  0.250174  0.825882  0.178074"
      ]
     },
     "execution_count": 27,
     "metadata": {},
     "output_type": "execute_result"
    }
   ],
   "source": [
    "sampled.head()"
   ]
  },
  {
   "cell_type": "code",
   "execution_count": 28,
   "metadata": {},
   "outputs": [
    {
     "data": {
      "text/plain": [
       "1    20\n",
       "0    20\n",
       "Name: .target, dtype: int64"
      ]
     },
     "execution_count": 28,
     "metadata": {},
     "output_type": "execute_result"
    }
   ],
   "source": [
    "sampled.target.value_counts()"
   ]
  },
  {
   "cell_type": "markdown",
   "metadata": {},
   "source": [
    "## Performing oversampling"
   ]
  },
  {
   "cell_type": "markdown",
   "metadata": {},
   "source": [
    "### Oversampling using SMOTE\n",
    "* Oversampling is the process of creating data points of the minority class that it'll be equal to the data points of the majority class, the creation of new datapoints mainly done by copying which may lead to overfitting. `SMOTE` is a method that creates synthetic points for minority class in a more acceptable way, it evaluates the linear distance between the neighbouring feature vector of minority class points and multiply the value randomly with any point from 0 to 10."
   ]
  },
  {
   "cell_type": "code",
   "execution_count": 29,
   "metadata": {},
   "outputs": [
    {
     "data": {
      "text/plain": [
       "SMOTE(k_neighbors=5, kind='deprecated', m_neighbors='deprecated', n_jobs=1,\n",
       "   out_step='deprecated', random_state=None, ratio=None,\n",
       "   sampling_strategy='auto', svm_estimator='deprecated')"
      ]
     },
     "execution_count": 29,
     "metadata": {},
     "output_type": "execute_result"
    }
   ],
   "source": [
    "sampler = mf.imbalance.over_sampling.SMOTE()\n",
    "sampler"
   ]
  },
  {
   "cell_type": "code",
   "execution_count": 30,
   "metadata": {},
   "outputs": [
    {
     "data": {
      "text/html": [
       "<div>\n",
       "<style scoped>\n",
       "    .dataframe tbody tr th:only-of-type {\n",
       "        vertical-align: middle;\n",
       "    }\n",
       "\n",
       "    .dataframe tbody tr th {\n",
       "        vertical-align: top;\n",
       "    }\n",
       "\n",
       "    .dataframe thead th {\n",
       "        text-align: right;\n",
       "    }\n",
       "</style>\n",
       "<table border=\"1\" class=\"dataframe\">\n",
       "  <thead>\n",
       "    <tr style=\"text-align: right;\">\n",
       "      <th></th>\n",
       "      <th>.target</th>\n",
       "      <th>A</th>\n",
       "      <th>B</th>\n",
       "      <th>C</th>\n",
       "      <th>D</th>\n",
       "      <th>E</th>\n",
       "    </tr>\n",
       "  </thead>\n",
       "  <tbody>\n",
       "    <tr>\n",
       "      <th>0</th>\n",
       "      <td>0</td>\n",
       "      <td>0.110225</td>\n",
       "      <td>1.841503</td>\n",
       "      <td>-0.019234</td>\n",
       "      <td>1.351317</td>\n",
       "      <td>0.505961</td>\n",
       "    </tr>\n",
       "    <tr>\n",
       "      <th>1</th>\n",
       "      <td>0</td>\n",
       "      <td>-0.540562</td>\n",
       "      <td>-0.367921</td>\n",
       "      <td>1.762666</td>\n",
       "      <td>0.034601</td>\n",
       "      <td>1.591332</td>\n",
       "    </tr>\n",
       "    <tr>\n",
       "      <th>2</th>\n",
       "      <td>0</td>\n",
       "      <td>-0.858470</td>\n",
       "      <td>0.297982</td>\n",
       "      <td>0.084310</td>\n",
       "      <td>-0.980489</td>\n",
       "      <td>0.923869</td>\n",
       "    </tr>\n",
       "    <tr>\n",
       "      <th>3</th>\n",
       "      <td>0</td>\n",
       "      <td>-0.275151</td>\n",
       "      <td>0.761847</td>\n",
       "      <td>1.342142</td>\n",
       "      <td>-0.406492</td>\n",
       "      <td>0.400381</td>\n",
       "    </tr>\n",
       "    <tr>\n",
       "      <th>4</th>\n",
       "      <td>0</td>\n",
       "      <td>-0.065462</td>\n",
       "      <td>0.961480</td>\n",
       "      <td>1.072228</td>\n",
       "      <td>1.699816</td>\n",
       "      <td>-1.319097</td>\n",
       "    </tr>\n",
       "  </tbody>\n",
       "</table>\n",
       "</div>"
      ],
      "text/plain": [
       "   .target         A         B         C         D         E\n",
       "0        0  0.110225  1.841503 -0.019234  1.351317  0.505961\n",
       "1        0 -0.540562 -0.367921  1.762666  0.034601  1.591332\n",
       "2        0 -0.858470  0.297982  0.084310 -0.980489  0.923869\n",
       "3        0 -0.275151  0.761847  1.342142 -0.406492  0.400381\n",
       "4        0 -0.065462  0.961480  1.072228  1.699816 -1.319097"
      ]
     },
     "execution_count": 30,
     "metadata": {},
     "output_type": "execute_result"
    }
   ],
   "source": [
    "sampled = mf.fit_sample(sampler)\n",
    "sampled.head()"
   ]
  },
  {
   "cell_type": "code",
   "execution_count": 31,
   "metadata": {},
   "outputs": [
    {
     "data": {
      "text/plain": [
       "1    80\n",
       "0    80\n",
       "Name: .target, dtype: int64"
      ]
     },
     "execution_count": 31,
     "metadata": {},
     "output_type": "execute_result"
    }
   ],
   "source": [
    "sampled.target.value_counts()"
   ]
  },
  {
   "cell_type": "code",
   "execution_count": null,
   "metadata": {},
   "outputs": [],
   "source": []
  },
  {
   "cell_type": "code",
   "execution_count": null,
   "metadata": {},
   "outputs": [],
   "source": []
  },
  {
   "cell_type": "code",
   "execution_count": null,
   "metadata": {},
   "outputs": [],
   "source": []
  },
  {
   "cell_type": "code",
   "execution_count": null,
   "metadata": {},
   "outputs": [],
   "source": []
  },
  {
   "cell_type": "code",
   "execution_count": null,
   "metadata": {},
   "outputs": [],
   "source": []
  }
 ],
 "metadata": {
  "kernelspec": {
   "display_name": "Python 3",
   "language": "python",
   "name": "python3"
  },
  "language_info": {
   "codemirror_mode": {
    "name": "ipython",
    "version": 3
   },
   "file_extension": ".py",
   "mimetype": "text/x-python",
   "name": "python",
   "nbconvert_exporter": "python",
   "pygments_lexer": "ipython3",
   "version": "3.6.4"
  }
 },
 "nbformat": 4,
 "nbformat_minor": 2
}
