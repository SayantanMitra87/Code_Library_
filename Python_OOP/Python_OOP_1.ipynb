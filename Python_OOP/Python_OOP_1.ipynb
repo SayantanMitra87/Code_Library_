{
 "cells": [
  {
   "cell_type": "code",
   "execution_count": 1,
   "metadata": {},
   "outputs": [],
   "source": [
    "class Vector(object):\n",
    "    def __init__(self, coordinates):\n",
    "        try:\n",
    "            if not coordinates:\n",
    "                raise ValueError\n",
    "            self.coordinates = tuple(coordinates)\n",
    "            self.dimension = len(coordinates)\n",
    "\n",
    "        except ValueError:\n",
    "            raise ValueError('The coordinates must be nonempty')\n",
    "\n",
    "        except TypeError:\n",
    "            raise TypeError('The coordinates must be an iterable')\n",
    "\n",
    "\n",
    "    def __str__(self):\n",
    "        return 'Vector: {}'.format(self.coordinates)\n",
    "\n",
    "\n",
    "    def __eq__(self, v):\n",
    "        return self.coordinates == v.coordinates"
   ]
  },
  {
   "cell_type": "code",
   "execution_count": 5,
   "metadata": {},
   "outputs": [
    {
     "data": {
      "text/plain": [
       "<__main__.Vector at 0x7ffd5952c790>"
      ]
     },
     "execution_count": 5,
     "metadata": {},
     "output_type": "execute_result"
    }
   ],
   "source": [
    "Vector((1,2))"
   ]
  },
  {
   "cell_type": "markdown",
   "metadata": {},
   "source": [
    "#### Tech with Tim"
   ]
  },
  {
   "cell_type": "code",
   "execution_count": 6,
   "metadata": {},
   "outputs": [],
   "source": [
    "class Dog():\n",
    "    def bark(self):\n",
    "        print(\"bark\")"
   ]
  },
  {
   "cell_type": "markdown",
   "metadata": {},
   "source": [
    "**Here we have created a class `Dog`, so we can create an object of class Dog (`d` below) and call methods that an object of class dog can do.**\n",
    "\n",
    "1. A method is a function that goes inside of a class (example: `bark`). All the methods under the class dog will start with a parameter called `self`."
   ]
  },
  {
   "cell_type": "code",
   "execution_count": 8,
   "metadata": {},
   "outputs": [
    {
     "name": "stdout",
     "output_type": "stream",
     "text": [
      "<class '__main__.Dog'>\n"
     ]
    }
   ],
   "source": [
    "# Variable d is an instance of class Dog\n",
    "d = Dog()\n",
    "print(type(d))"
   ]
  },
  {
   "cell_type": "markdown",
   "metadata": {},
   "source": [
    "1. `d` is basically a new instance of class Dog.\n",
    "2. `'__main__.` : Double underscore tells us which module the class was defined (so it is `main` module here). \n",
    "3. One method/function under the object d (which is an instance of class Dog) is bark. So one of the action that object d can perform is `bark`\n"
   ]
  },
  {
   "cell_type": "code",
   "execution_count": 10,
   "metadata": {},
   "outputs": [
    {
     "name": "stdout",
     "output_type": "stream",
     "text": [
      "bark\n"
     ]
    }
   ],
   "source": [
    "# We can call the method (bark) on the object (d) of the class (dog):\n",
    "d.bark()"
   ]
  },
  {
   "cell_type": "markdown",
   "metadata": {},
   "source": [
    "#### Building on the initial Class"
   ]
  },
  {
   "cell_type": "code",
   "execution_count": 90,
   "metadata": {},
   "outputs": [],
   "source": [
    "class Dog:\n",
    "        \n",
    "    def bark(self):\n",
    "        print(\"bark\")        \n",
    "           \n",
    "    def meow(self):\n",
    "        return \"meow\"\n",
    "    \n",
    "    def add_one(self,x):\n",
    "        return x+1"
   ]
  },
  {
   "cell_type": "code",
   "execution_count": 91,
   "metadata": {},
   "outputs": [
    {
     "name": "stdout",
     "output_type": "stream",
     "text": [
      "bark\n"
     ]
    }
   ],
   "source": [
    "d = Dog()\n",
    "# No print function used as print is in the method \n",
    "d.bark() "
   ]
  },
  {
   "cell_type": "code",
   "execution_count": 92,
   "metadata": {},
   "outputs": [
    {
     "name": "stdout",
     "output_type": "stream",
     "text": [
      "meow\n",
      "101\n"
     ]
    }
   ],
   "source": [
    "# Print function used as RETURN is in the method \n",
    "print(d.meow())\n",
    "print(d.add_one(100))"
   ]
  },
  {
   "cell_type": "markdown",
   "metadata": {},
   "source": [
    "#### `__init__` explanation"
   ]
  },
  {
   "cell_type": "code",
   "execution_count": 93,
   "metadata": {},
   "outputs": [],
   "source": [
    "class Dog:\n",
    "    \n",
    "    def __init__(self):\n",
    "        pass\n",
    "        \n",
    "    def bark(self):\n",
    "        print(\"bark\")        \n",
    "           \n",
    "    def meow(self):\n",
    "        return \"meow\"\n",
    "    \n",
    "    def add_one(self,x):\n",
    "        return x+1"
   ]
  },
  {
   "cell_type": "markdown",
   "metadata": {},
   "source": [
    "1. **`__init__` method will be called whenever we instantiate the object `d` right when it is created by by `d = Dog()`**\n",
    "\n",
    "\n",
    "\n",
    "2. So in other words whenever we write `d = Dog()`, it will call the method `__init__`. So if we pass an argument when instantiating the object `d`, i.e. `d = Dog(\"Tim\")`, that argument will be automatically passed to the method `__init__`"
   ]
  },
  {
   "cell_type": "code",
   "execution_count": 94,
   "metadata": {},
   "outputs": [],
   "source": [
    "# Imagine we have to pass Dog Name when creating a dog object\n",
    "class Dog:\n",
    "    \n",
    "    def __init__(self,name):\n",
    "        # To store the dog name\n",
    "        self.name = name # This creates an attribute (name) of dog class\n",
    "        print(self.name)\n",
    "        \n",
    "    def bark(self):\n",
    "        print(\"bark\")        \n",
    "           \n",
    "    def meow(self):\n",
    "        return \"meow\"\n",
    "    \n",
    "    def add_one(self,x):\n",
    "        return x+1"
   ]
  },
  {
   "cell_type": "code",
   "execution_count": 95,
   "metadata": {},
   "outputs": [
    {
     "ename": "TypeError",
     "evalue": "__init__() missing 1 required positional argument: 'name'",
     "output_type": "error",
     "traceback": [
      "\u001b[0;31m---------------------------------------------------------------------------\u001b[0m",
      "\u001b[0;31mTypeError\u001b[0m                                 Traceback (most recent call last)",
      "\u001b[0;32m<ipython-input-95-c27d3bf8b4c5>\u001b[0m in \u001b[0;36m<module>\u001b[0;34m\u001b[0m\n\u001b[0;32m----> 1\u001b[0;31m \u001b[0md\u001b[0m \u001b[0;34m=\u001b[0m \u001b[0mDog\u001b[0m\u001b[0;34m(\u001b[0m\u001b[0;34m)\u001b[0m\u001b[0;34m\u001b[0m\u001b[0;34m\u001b[0m\u001b[0m\n\u001b[0m",
      "\u001b[0;31mTypeError\u001b[0m: __init__() missing 1 required positional argument: 'name'"
     ]
    }
   ],
   "source": [
    "d = Dog()"
   ]
  },
  {
   "cell_type": "markdown",
   "metadata": {},
   "source": [
    "**As `name` argument is required now (it is an argument of `__init__` method), we have to pass it when instantiating a Dog object, otherwise it will throw error.**"
   ]
  },
  {
   "cell_type": "code",
   "execution_count": 96,
   "metadata": {},
   "outputs": [
    {
     "name": "stdout",
     "output_type": "stream",
     "text": [
      "Tim\n"
     ]
    }
   ],
   "source": [
    "# prints out Tim because of `print(self.name)`\n",
    "d = Dog(\"Tim\")"
   ]
  },
  {
   "cell_type": "code",
   "execution_count": 97,
   "metadata": {},
   "outputs": [
    {
     "data": {
      "text/plain": [
       "'Tim'"
      ]
     },
     "execution_count": 97,
     "metadata": {},
     "output_type": "execute_result"
    }
   ],
   "source": [
    "d.name"
   ]
  },
  {
   "cell_type": "markdown",
   "metadata": {},
   "source": [
    "`self.name = name`<br>\n",
    "`object.attribute` (d.name) can be called. `name` is passed to the Dog class which has been assigned an attribute `name` (self.name=name)\n",
    "\n",
    "Now that attribute (`name`) is called with object of Dog class (`d`)"
   ]
  },
  {
   "cell_type": "code",
   "execution_count": 98,
   "metadata": {},
   "outputs": [],
   "source": [
    "####Also convert the attribute in the form of method"
   ]
  },
  {
   "cell_type": "code",
   "execution_count": 99,
   "metadata": {},
   "outputs": [
    {
     "name": "stdout",
     "output_type": "stream",
     "text": [
      "Tim\n",
      "Tim\n"
     ]
    }
   ],
   "source": [
    "class Dog:\n",
    "    \n",
    "    def __init__(self,name):\n",
    "        self.name = name \n",
    "        #print(self.name)\n",
    "    \n",
    "    def get_name(self):\n",
    "        return self.name\n",
    "    \n",
    "d = Dog('Tim')\n",
    "# calling name using attribute `.name`\n",
    "print(d.name) \n",
    "\n",
    "# calling name using method `get_name()`\n",
    "print(d.get_name())"
   ]
  },
  {
   "cell_type": "markdown",
   "metadata": {},
   "source": [
    "1st parameter will always be `self` in any method because we need to automatically pass the dog object to the method."
   ]
  },
  {
   "cell_type": "code",
   "execution_count": 100,
   "metadata": {},
   "outputs": [
    {
     "ename": "TypeError",
     "evalue": "__init__() missing 1 required positional argument: 'age'",
     "output_type": "error",
     "traceback": [
      "\u001b[0;31m---------------------------------------------------------------------------\u001b[0m",
      "\u001b[0;31mTypeError\u001b[0m                                 Traceback (most recent call last)",
      "\u001b[0;32m<ipython-input-100-481e4f326106>\u001b[0m in \u001b[0;36m<module>\u001b[0;34m\u001b[0m\n\u001b[1;32m     10\u001b[0m         \u001b[0;32mreturn\u001b[0m \u001b[0mself\u001b[0m\u001b[0;34m.\u001b[0m\u001b[0mname\u001b[0m\u001b[0;34m\u001b[0m\u001b[0;34m\u001b[0m\u001b[0m\n\u001b[1;32m     11\u001b[0m \u001b[0;34m\u001b[0m\u001b[0m\n\u001b[0;32m---> 12\u001b[0;31m \u001b[0md\u001b[0m \u001b[0;34m=\u001b[0m \u001b[0mDog\u001b[0m\u001b[0;34m(\u001b[0m\u001b[0;34m'Tim'\u001b[0m\u001b[0;34m)\u001b[0m\u001b[0;34m\u001b[0m\u001b[0;34m\u001b[0m\u001b[0m\n\u001b[0m",
      "\u001b[0;31mTypeError\u001b[0m: __init__() missing 1 required positional argument: 'age'"
     ]
    }
   ],
   "source": [
    "# We can add more attributes\n",
    "class Dog:\n",
    "    \n",
    "    def __init__(self,name,age):\n",
    "        self.name = name \n",
    "        self.age = age\n",
    "        #print(self.name)\n",
    "    \n",
    "    def get_name(self):\n",
    "        return self.name\n",
    "    \n",
    "d = Dog('Tim')"
   ]
  },
  {
   "cell_type": "markdown",
   "metadata": {},
   "source": [
    "Throws an error because now to initialize an object of Dog class we need to pass both name and age"
   ]
  },
  {
   "cell_type": "code",
   "execution_count": 101,
   "metadata": {},
   "outputs": [],
   "source": [
    "# Now runs fine\n",
    "d = Dog('Tim',34)"
   ]
  },
  {
   "cell_type": "code",
   "execution_count": 102,
   "metadata": {},
   "outputs": [],
   "source": [
    "class Dog:\n",
    "    \n",
    "    def __init__(self,name,age):\n",
    "        self.name = name \n",
    "        self.age = age\n",
    "        #print(self.name)\n",
    "    \n",
    "    def get_name(self):\n",
    "        return self.name\n",
    "    \n",
    "    def get_age(self):\n",
    "        return self.age"
   ]
  },
  {
   "cell_type": "code",
   "execution_count": 103,
   "metadata": {},
   "outputs": [
    {
     "name": "stdout",
     "output_type": "stream",
     "text": [
      "Tim\n",
      "34\n",
      "Tim\n",
      "34\n"
     ]
    }
   ],
   "source": [
    "d = Dog('Tim',34)\n",
    "# Using attributes\n",
    "print(d.name)\n",
    "print(d.age)\n",
    "\n",
    "# Uning methods\n",
    "print(d.get_name())\n",
    "print(d.get_age())"
   ]
  },
  {
   "cell_type": "markdown",
   "metadata": {},
   "source": [
    "#### Methods can be made to MODIFY attributes or CREATE new attributes"
   ]
  },
  {
   "cell_type": "code",
   "execution_count": 104,
   "metadata": {},
   "outputs": [],
   "source": [
    "class Dog:\n",
    "    \n",
    "    def __init__(self,name,age):\n",
    "    # whatever is attached with self. is the attribute name\n",
    "        self.name = name \n",
    "        self.age = age\n",
    "        #print(self.name)\n",
    "    \n",
    "    def get_name(self):\n",
    "        return self.name\n",
    "    \n",
    "    def get_age(self):\n",
    "        return self.age\n",
    "\n",
    "    def set_age(self,age):\n",
    "        self.age = age\n",
    "        return self.age"
   ]
  },
  {
   "cell_type": "code",
   "execution_count": 105,
   "metadata": {},
   "outputs": [
    {
     "name": "stdout",
     "output_type": "stream",
     "text": [
      "Tim\n",
      "34\n",
      "Tim\n",
      "34\n"
     ]
    }
   ],
   "source": [
    "d = Dog('Tim',34)\n",
    "# Using attributes\n",
    "print(d.name)\n",
    "print(d.age)\n",
    "\n",
    "# Uning methods\n",
    "print(d.get_name())\n",
    "print(d.get_age())"
   ]
  },
  {
   "cell_type": "code",
   "execution_count": 106,
   "metadata": {},
   "outputs": [
    {
     "data": {
      "text/plain": [
       "50"
      ]
     },
     "execution_count": 106,
     "metadata": {},
     "output_type": "execute_result"
    }
   ],
   "source": [
    "d.set_age(50)"
   ]
  },
  {
   "cell_type": "code",
   "execution_count": 107,
   "metadata": {},
   "outputs": [
    {
     "name": "stdout",
     "output_type": "stream",
     "text": [
      "50\n"
     ]
    }
   ],
   "source": [
    "# We can confirm the change using\n",
    "print(d.get_age())"
   ]
  },
  {
   "cell_type": "markdown",
   "metadata": {},
   "source": [
    "If we want the new age to set internally but not getting displayed as in the last cell just remove the `return` "
   ]
  },
  {
   "cell_type": "code",
   "execution_count": 108,
   "metadata": {},
   "outputs": [
    {
     "name": "stdout",
     "output_type": "stream",
     "text": [
      "Tim\n",
      "34\n",
      "Tim\n",
      "34\n"
     ]
    }
   ],
   "source": [
    "class Dog:\n",
    "    \n",
    "    def __init__(self,name,age):\n",
    "    # whatever is attached with self. is the attribute name\n",
    "        self.name = name \n",
    "        self.age = age\n",
    "        #print(self.name)\n",
    "    \n",
    "    def get_name(self):\n",
    "        return self.name\n",
    "    \n",
    "    def get_age(self):\n",
    "        return self.age\n",
    "    \n",
    "    def set_age(self,age):\n",
    "        self.age = age\n",
    "        #return self.age\n",
    "    \n",
    "d = Dog('Tim',34)\n",
    "# Using attributes\n",
    "print(d.name)\n",
    "print(d.age)\n",
    "\n",
    "# Uning methods\n",
    "print(d.get_name())\n",
    "print(d.get_age())"
   ]
  },
  {
   "cell_type": "code",
   "execution_count": 109,
   "metadata": {},
   "outputs": [],
   "source": [
    "d.set_age(50)"
   ]
  },
  {
   "cell_type": "code",
   "execution_count": 110,
   "metadata": {},
   "outputs": [
    {
     "name": "stdout",
     "output_type": "stream",
     "text": [
      "50\n"
     ]
    }
   ],
   "source": [
    "print(d.get_age())"
   ]
  },
  {
   "cell_type": "markdown",
   "metadata": {},
   "source": [
    "## How can different classes interact with each other"
   ]
  },
  {
   "cell_type": "code",
   "execution_count": 1,
   "metadata": {},
   "outputs": [],
   "source": [
    "class Student:  \n",
    "    def __init__(self,name,age,grade):\n",
    "        self.name = name\n",
    "        self.age = age\n",
    "        self.grade = grade\n",
    "        \n",
    "    def get_grade(self):\n",
    "        return self.grade\n",
    "    \n",
    "    \n",
    "class Course:\n",
    "    def __init__(self, name, max_students):\n",
    "        self.name = name\n",
    "        self.max_students = max_students\n",
    "        # adding students to a Course object\n",
    "        self.students = [] # new attribute created (which is not provided in parameter)\n",
    "    \n",
    "    def add_student(self,student):\n",
    "        if len(self.students) < self.max_students:\n",
    "            self.students.append(student)\n",
    "            return True\n",
    "        return False # if we have reached max no. of students\n",
    "    \n",
    "    def get_average_grade(self):\n",
    "        pass\n"
   ]
  },
  {
   "cell_type": "code",
   "execution_count": 2,
   "metadata": {},
   "outputs": [],
   "source": [
    "s1 = Student('Tim',19,95)\n",
    "s2 = Student('Bill',19,95)\n",
    "s3 = Student('Jim',19,95)"
   ]
  },
  {
   "cell_type": "code",
   "execution_count": 3,
   "metadata": {},
   "outputs": [
    {
     "data": {
      "text/plain": [
       "True"
      ]
     },
     "execution_count": 3,
     "metadata": {},
     "output_type": "execute_result"
    }
   ],
   "source": [
    "course = Course('Science',2)\n",
    "# Add students to the Course\n",
    "course.add_student(s1)"
   ]
  },
  {
   "cell_type": "code",
   "execution_count": 4,
   "metadata": {},
   "outputs": [
    {
     "data": {
      "text/plain": [
       "True"
      ]
     },
     "execution_count": 4,
     "metadata": {},
     "output_type": "execute_result"
    }
   ],
   "source": [
    "course.add_student(s2)"
   ]
  },
  {
   "cell_type": "code",
   "execution_count": 5,
   "metadata": {},
   "outputs": [
    {
     "data": {
      "text/plain": [
       "False"
      ]
     },
     "execution_count": 5,
     "metadata": {},
     "output_type": "execute_result"
    }
   ],
   "source": [
    "# Can not be added as max_students \n",
    "# course can take here is 2\n",
    "course.add_student(s3)"
   ]
  },
  {
   "cell_type": "code",
   "execution_count": 6,
   "metadata": {},
   "outputs": [
    {
     "data": {
      "text/plain": [
       "'Science'"
      ]
     },
     "execution_count": 6,
     "metadata": {},
     "output_type": "execute_result"
    }
   ],
   "source": [
    "course.name"
   ]
  },
  {
   "cell_type": "code",
   "execution_count": 133,
   "metadata": {},
   "outputs": [
    {
     "name": "stdout",
     "output_type": "stream",
     "text": [
      "[<__main__.Student object at 0x7ffd59b6e7d0>, <__main__.Student object at 0x7ffd59b6e610>]\n"
     ]
    },
    {
     "data": {
      "text/plain": [
       "2"
      ]
     },
     "execution_count": 133,
     "metadata": {},
     "output_type": "execute_result"
    }
   ],
   "source": [
    "# Info on course\n",
    "print(course.students)\n",
    "\n",
    "# Total students in course (should be upto or below max_Students)\n",
    "len(course.students)"
   ]
  },
  {
   "cell_type": "code",
   "execution_count": 135,
   "metadata": {},
   "outputs": [
    {
     "data": {
      "text/plain": [
       "<__main__.Student at 0x7ffd59b6e7d0>"
      ]
     },
     "execution_count": 135,
     "metadata": {},
     "output_type": "execute_result"
    }
   ],
   "source": [
    "# Shows Student class\n",
    "course.students[0]"
   ]
  },
  {
   "cell_type": "code",
   "execution_count": 136,
   "metadata": {},
   "outputs": [
    {
     "data": {
      "text/plain": [
       "'Tim'"
      ]
     },
     "execution_count": 136,
     "metadata": {},
     "output_type": "execute_result"
    }
   ],
   "source": [
    "# we can call attributes of Students class\n",
    "course.students[0].name"
   ]
  },
  {
   "cell_type": "code",
   "execution_count": 138,
   "metadata": {},
   "outputs": [
    {
     "data": {
      "text/plain": [
       "95"
      ]
     },
     "execution_count": 138,
     "metadata": {},
     "output_type": "execute_result"
    }
   ],
   "source": [
    "# we can call methods of Students class\n",
    "course.students[0].get_grade()"
   ]
  },
  {
   "cell_type": "code",
   "execution_count": 1,
   "metadata": {},
   "outputs": [],
   "source": [
    "class Student:  \n",
    "    def __init__(self,name,age,grade):\n",
    "        self.name = name\n",
    "        self.age = age\n",
    "        self.grade = grade\n",
    "        \n",
    "    def get_grade(self):\n",
    "        return self.grade\n",
    "    \n",
    "    \n",
    "class Course:\n",
    "    def __init__(self, name,max_students):\n",
    "        self.name = name\n",
    "        self.max_students = max_students\n",
    "        # adding students to a Course object\n",
    "        self.students = [] # new attribute created (which is not provided in parameter)\n",
    "    \n",
    "    def add_student(self,student):\n",
    "        if len(self.students) < self.max_students:\n",
    "            self.students.append(student)\n",
    "            return True\n",
    "        return False # if we have reached max no. of students\n",
    "    \n",
    "    def get_average_grade(self):\n",
    "        value = 0\n",
    "        for student in self.students:\n",
    "            value += student.get_grade()\n",
    "        return value/len(self.students)"
   ]
  },
  {
   "cell_type": "code",
   "execution_count": 2,
   "metadata": {},
   "outputs": [],
   "source": [
    "s1 = Student('Tim',19,95)\n",
    "s2 = Student('Bill',19,95)\n",
    "s3 = Student('Jim',19,95)"
   ]
  },
  {
   "cell_type": "code",
   "execution_count": 3,
   "metadata": {},
   "outputs": [
    {
     "data": {
      "text/plain": [
       "True"
      ]
     },
     "execution_count": 3,
     "metadata": {},
     "output_type": "execute_result"
    }
   ],
   "source": [
    "course = Course('science',2)\n",
    "course.add_student(s1)\n",
    "course.add_student(s2)"
   ]
  },
  {
   "cell_type": "code",
   "execution_count": 4,
   "metadata": {},
   "outputs": [
    {
     "data": {
      "text/plain": [
       "95.0"
      ]
     },
     "execution_count": 4,
     "metadata": {},
     "output_type": "execute_result"
    }
   ],
   "source": [
    "course.get_average_grade()"
   ]
  },
  {
   "cell_type": "markdown",
   "metadata": {},
   "source": [
    "## Inheritence\n",
    "Useful for classes that are very similar"
   ]
  },
  {
   "cell_type": "code",
   "execution_count": 7,
   "metadata": {},
   "outputs": [],
   "source": [
    "class Cat:\n",
    "    def __init__(self,name,age):\n",
    "        self.name = name\n",
    "        self.age = age\n",
    "        \n",
    "    def speak(self):\n",
    "        print(\"Meow\")\n",
    "\n",
    "        \n",
    "class Dog:\n",
    "    def __init__(self,name,age):\n",
    "        self.name = name\n",
    "        self.age = age\n",
    "        \n",
    "    def speak(self):\n",
    "        print(\"Bark\")"
   ]
  },
  {
   "cell_type": "markdown",
   "metadata": {},
   "source": [
    "In these 2 classes only 1 line of code changes i.e. line 7 vs line 16"
   ]
  },
  {
   "cell_type": "markdown",
   "metadata": {},
   "source": [
    "In these cases of classes which are very identical to each other, we don't need to write it twice, rather use **Inheritence.** Here we write an upper level class that will encompass both `Cat` and `Dog` class (and the common codes between them)."
   ]
  },
  {
   "cell_type": "code",
   "execution_count": 5,
   "metadata": {},
   "outputs": [],
   "source": [
    "# Pet is upper level class (contains common code for both Dog And Cat class)\n",
    "\n",
    "## UPPER LEVEL CLASS\n",
    "class Pet:\n",
    "    def __init__(self,name,age):\n",
    "        self.name = name\n",
    "        self.age = age\n",
    "        \n",
    "    def show(self):\n",
    "        print(f\"I'm {self.name} and I'm {self.age} years old\")\n",
    "        \n",
    "    def speak(self):\n",
    "        print(\"Not sure what to say\")\n",
    "        \n",
    "        \n",
    "## CHILD CLASS        \n",
    "# When using Inheritence we need to pass upper level class\n",
    "class Cat(Pet):\n",
    "    def speak(self):\n",
    "        print(\"Meow\")\n",
    "\n",
    "        \n",
    "class Dog(Pet):        \n",
    "    def speak(self):\n",
    "        print(\"Bark\")"
   ]
  },
  {
   "cell_type": "markdown",
   "metadata": {},
   "source": [
    "**Passing the upper level class (in Cat and Dog class) allows Cat and Dog class to inherit the codes of upper level class**\n",
    "\n",
    "* In the same line, both `Cat` and `Dog` class do NOT have `__init__` method, because it is inheriting from the upper level class i.e. `Pet` class which has `__init__` method."
   ]
  },
  {
   "cell_type": "code",
   "execution_count": 6,
   "metadata": {},
   "outputs": [
    {
     "name": "stdout",
     "output_type": "stream",
     "text": [
      "I'm Tim and I'm 19 years old\n"
     ]
    }
   ],
   "source": [
    "# Upper level class\n",
    "p = Pet('Tim', 19)\n",
    "p.show()"
   ]
  },
  {
   "cell_type": "code",
   "execution_count": 9,
   "metadata": {},
   "outputs": [
    {
     "name": "stdout",
     "output_type": "stream",
     "text": [
      "I'm Bill and I'm 12 years old\n"
     ]
    }
   ],
   "source": [
    "c = Cat('Bill', 12)\n",
    "c.show()"
   ]
  },
  {
   "cell_type": "markdown",
   "metadata": {},
   "source": [
    "There is no method `show` under `Cat` class but we can still use it because `Cat` class inherits codes from the `Pet` class (i.e. upper level class)"
   ]
  },
  {
   "cell_type": "code",
   "execution_count": 10,
   "metadata": {},
   "outputs": [
    {
     "name": "stdout",
     "output_type": "stream",
     "text": [
      "I'm Jill and I'm 20 years old\n"
     ]
    }
   ],
   "source": [
    "d = Dog('Jill', 20)\n",
    "d.show()"
   ]
  },
  {
   "cell_type": "code",
   "execution_count": 11,
   "metadata": {},
   "outputs": [
    {
     "name": "stdout",
     "output_type": "stream",
     "text": [
      "Not sure what to say\n",
      "Meow\n",
      "Bark\n"
     ]
    },
    {
     "data": {
      "text/plain": [
       "(None, None, None)"
      ]
     },
     "execution_count": 11,
     "metadata": {},
     "output_type": "execute_result"
    }
   ],
   "source": [
    "p.speak(), c.speak(), d.speak()"
   ]
  },
  {
   "cell_type": "markdown",
   "metadata": {},
   "source": [
    "Upper level class (i.e. `Pet` here), has \"not sure what to say\" for `speak` method.\n",
    "\n",
    "\n",
    "But Child classes are the classes that inherit codes from upper level class (i.e. `Cat` and `Dog` here). If Child class have a method of the same name as of the upper level class (`speak` for this example), child class will overwrite the method of the upper level class. This is why we see `p.speak()` get overwritten by `c.speak()`\n",
    "\n",
    "**Question** If it has to be overwritten then why write a method in upper level class that will eventually be overwritten by the lower level class. Reason is, there might be a new class and we are not sure what they speak! "
   ]
  },
  {
   "cell_type": "code",
   "execution_count": 12,
   "metadata": {},
   "outputs": [
    {
     "name": "stdout",
     "output_type": "stream",
     "text": [
      "Not sure what to say\n"
     ]
    }
   ],
   "source": [
    "p.speak()"
   ]
  },
  {
   "cell_type": "code",
   "execution_count": 16,
   "metadata": {},
   "outputs": [],
   "source": [
    "# Pet is upper level class (contains common code for both Dog And Cat class)\n",
    "\n",
    "## UPPER LEVEL CLASS\n",
    "class Pet:\n",
    "    def __init__(self,name,age):\n",
    "        self.name = name\n",
    "        self.age = age\n",
    "        \n",
    "    def show(self):\n",
    "        print(f\"I'm {self.name} and I'm {self.age} years old\")\n",
    "        \n",
    "    def speak(self):\n",
    "        print(\"Not sure what to say\")\n",
    "        \n",
    "        \n",
    "## CHILD CLASS        \n",
    "# When using Inheritence we need to pass upper level class\n",
    "class Cat(Pet):\n",
    "    def speak(self):\n",
    "        print(\"Meow\")\n",
    "\n",
    "        \n",
    "class Dog(Pet):        \n",
    "    def speak(self):\n",
    "        print(\"Bark\")\n",
    "        \n",
    "class Fish(Pet):\n",
    "    pass"
   ]
  },
  {
   "cell_type": "code",
   "execution_count": 17,
   "metadata": {},
   "outputs": [
    {
     "name": "stdout",
     "output_type": "stream",
     "text": [
      "Not sure what to say\n"
     ]
    }
   ],
   "source": [
    "p = Pet('Tim', 19)\n",
    "p.speak()"
   ]
  },
  {
   "cell_type": "code",
   "execution_count": 18,
   "metadata": {},
   "outputs": [
    {
     "name": "stdout",
     "output_type": "stream",
     "text": [
      "Not sure what to say\n"
     ]
    }
   ],
   "source": [
    "f = Fish(\"Bubbles\",1)\n",
    "f.speak()"
   ]
  },
  {
   "cell_type": "markdown",
   "metadata": {},
   "source": [
    "Didn't even define the function `.speak()` under Fish class. This happens because `Fish` class inherits from `Pet` class"
   ]
  },
  {
   "cell_type": "markdown",
   "metadata": {},
   "source": [
    "## Inheritence: `Super`\n",
    "\n",
    "Imagine we want to attribute a new attribute to only `Cat` class. How can we do it?\n",
    "\n",
    "**When this kind of Inheritence is important?**\n",
    "\n",
    "Imagine we want to create a class for `managers` and another class for `employees`. But we know they will have a lot of common attributes such as age, sex etc. For that we can create a Inheritence upper class, so that we don't have to repeat the common attributes in `manager` and `employee` class"
   ]
  },
  {
   "cell_type": "code",
   "execution_count": null,
   "metadata": {},
   "outputs": [],
   "source": [
    "# Pet is upper level class (contains common code for both Dog And Cat class)\n",
    "\n",
    "## UPPER LEVEL CLASS\n",
    "class Pet:\n",
    "    def __init__(self,name,age):\n",
    "        self.name = name\n",
    "        self.age = age\n",
    "        \n",
    "    def show(self):\n",
    "        print(f\"I'm {self.name} and I'm {self.age} years old\")\n",
    "        \n",
    "    def speak(self):\n",
    "        print(\"Not sure what to say\")\n",
    "        \n",
    "        \n",
    "## CHILD CLASS        \n",
    "# When using Inheritence we need to pass upper level class\n",
    "class Cat(Pet):\n",
    "    def __init__(self,name,age,color):\n",
    "        self.color = color\n",
    "        self.name = name\n",
    "        self.age = age\n",
    "    \n",
    "    def speak(self):\n",
    "        print(\"Meow\")\n",
    "\n",
    "        \n",
    "class Dog(Pet):        \n",
    "    def speak(self):\n",
    "        print(\"Bark\")\n",
    "        \n",
    "class Fish(Pet):\n",
    "    pass"
   ]
  },
  {
   "cell_type": "markdown",
   "metadata": {},
   "source": [
    "This looks simple, just overwrite the `__init__` method of the upper level class in `Cat` class. But it can raise other problems. So we should use `super`\n",
    "\n",
    "* `super` reference the super class or the upper level class.\n",
    "* In `super` we don't need to pass `self`\n",
    "* we only pass parameters that are common with upper class i.e. `name` and `age` here\n",
    "* So if we instantiate an object of `Cat` class, it will automatically run __init__ from the upper class (due to use of `super`) and then set up color attribute `self.color`"
   ]
  },
  {
   "cell_type": "code",
   "execution_count": 21,
   "metadata": {},
   "outputs": [],
   "source": [
    "# Pet is upper level class (contains common code for both Dog And Cat class)\n",
    "\n",
    "## UPPER LEVEL CLASS\n",
    "class Pet:\n",
    "    def __init__(self,name,age):\n",
    "        self.name = name\n",
    "        self.age = age\n",
    "        \n",
    "    def show(self):\n",
    "        print(f\"I'm {self.name} and I'm {self.age} years old\")\n",
    "        \n",
    "    def speak(self):\n",
    "        print(\"Not sure what to say\")\n",
    "    \n",
    "    \n",
    "        \n",
    "## CHILD CLASS        \n",
    "# When using Inheritence we need to pass upper level class\n",
    "class Cat(Pet):\n",
    "    def __init__(self,name,age,color):\n",
    "        # In `super` we don't need to pass `self`\n",
    "        # only pass parameters that are common with upper class\n",
    "        super().__init__(name, age)\n",
    "        self.color = color\n",
    "    \n",
    "    def speak(self):\n",
    "        print(\"Meow\")\n",
    "    \n",
    "    def show(self):\n",
    "        print(f\"I'm {self.name} and I'm {self.age} years old and I'm {self.color}\")\n",
    "        \n",
    "\n",
    "        \n",
    "class Dog(Pet):        \n",
    "    def speak(self):\n",
    "        print(\"Bark\")\n",
    "\n",
    "        \n",
    "        \n",
    "class Fish(Pet):\n",
    "    pass"
   ]
  },
  {
   "cell_type": "code",
   "execution_count": 22,
   "metadata": {},
   "outputs": [
    {
     "ename": "TypeError",
     "evalue": "__init__() missing 1 required positional argument: 'color'",
     "output_type": "error",
     "traceback": [
      "\u001b[0;31m---------------------------------------------------------------------------\u001b[0m",
      "\u001b[0;31mTypeError\u001b[0m                                 Traceback (most recent call last)",
      "\u001b[0;32m<ipython-input-22-302101f7e16d>\u001b[0m in \u001b[0;36m<module>\u001b[0;34m\u001b[0m\n\u001b[0;32m----> 1\u001b[0;31m \u001b[0mc\u001b[0m \u001b[0;34m=\u001b[0m \u001b[0mCat\u001b[0m\u001b[0;34m(\u001b[0m\u001b[0;34m'Bill'\u001b[0m\u001b[0;34m,\u001b[0m \u001b[0;36m12\u001b[0m\u001b[0;34m)\u001b[0m\u001b[0;34m\u001b[0m\u001b[0;34m\u001b[0m\u001b[0m\n\u001b[0m\u001b[1;32m      2\u001b[0m \u001b[0mc\u001b[0m\u001b[0;34m.\u001b[0m\u001b[0mshow\u001b[0m\u001b[0;34m(\u001b[0m\u001b[0;34m)\u001b[0m\u001b[0;34m\u001b[0m\u001b[0;34m\u001b[0m\u001b[0m\n",
      "\u001b[0;31mTypeError\u001b[0m: __init__() missing 1 required positional argument: 'color'"
     ]
    }
   ],
   "source": [
    "# This passes parameters for the attributes of UPPER class __init__func\n",
    "# We also need to pass parameter specific to CAT class __init__func i.e. color\n",
    "c = Cat('Bill', 12)\n",
    "c.show()"
   ]
  },
  {
   "cell_type": "code",
   "execution_count": 23,
   "metadata": {},
   "outputs": [
    {
     "name": "stdout",
     "output_type": "stream",
     "text": [
      "I'm Bill and I'm 12 years old and I'm Brown\n"
     ]
    }
   ],
   "source": [
    "c = Cat('Bill', 12, 'Brown')\n",
    "c.show()"
   ]
  },
  {
   "cell_type": "markdown",
   "metadata": {},
   "source": [
    "## Class Attributes"
   ]
  },
  {
   "cell_type": "markdown",
   "metadata": {},
   "source": [
    "Previously we have used `self` to define an attribute (eg: `self.name`) for a class. Those attributes are specific to the instance/object of that class. And these attributes are defined within a method (such as `__init__`)\n",
    "\n",
    "**Class attributes are the attributes that are specific to the class and NOT specific to the instance/object of the class.** Class Attributes are NOT defined within a method"
   ]
  },
  {
   "cell_type": "code",
   "execution_count": 43,
   "metadata": {},
   "outputs": [],
   "source": [
    "class Person:\n",
    "    # Class Attribute becoz it is NOT defined within a method\n",
    "    number_of_people = 0\n",
    "    \n",
    "    def __init__(self,name):\n",
    "        self.name = name"
   ]
  },
  {
   "cell_type": "code",
   "execution_count": 44,
   "metadata": {},
   "outputs": [
    {
     "name": "stdout",
     "output_type": "stream",
     "text": [
      "0\n",
      "0\n"
     ]
    }
   ],
   "source": [
    "p1 = Person(\"Tim\")\n",
    "p2 = Person(\"Sam\")\n",
    "print(p1.number_of_people)\n",
    "print(p2.number_of_people)"
   ]
  },
  {
   "cell_type": "markdown",
   "metadata": {},
   "source": [
    "So instance/object of the class `Person` has 0 `number_of_people`.\n",
    "\n",
    "But this is NOT specific to the instance/object of the class as `number_of_people` is a class attribute. This can be proved by the following line of code"
   ]
  },
  {
   "cell_type": "code",
   "execution_count": 45,
   "metadata": {},
   "outputs": [
    {
     "name": "stdout",
     "output_type": "stream",
     "text": [
      "0\n"
     ]
    }
   ],
   "source": [
    "print(Person.number_of_people)"
   ]
  },
  {
   "cell_type": "markdown",
   "metadata": {},
   "source": [
    "If `number_of_people` is a class attribute, we can also change it globally by calling `number_of_people` with the class. For this we do not need to change specifically for each instance/object of the class."
   ]
  },
  {
   "cell_type": "code",
   "execution_count": 46,
   "metadata": {},
   "outputs": [
    {
     "name": "stdout",
     "output_type": "stream",
     "text": [
      "8\n",
      "8\n"
     ]
    }
   ],
   "source": [
    "Person.number_of_people = 8\n",
    "print(p1.number_of_people)\n",
    "print(p2.number_of_people)"
   ]
  },
  {
   "cell_type": "markdown",
   "metadata": {},
   "source": [
    "**How this can be used?** One example could be to keep track of how many new `person` class is created (in other words, how many instances/objects of the Class Person is created)!"
   ]
  },
  {
   "cell_type": "code",
   "execution_count": 47,
   "metadata": {},
   "outputs": [],
   "source": [
    "class Person:\n",
    "    # Class Attribute becoz it is NOT defined within a method\n",
    "    number_of_people = 0\n",
    "    \n",
    "    def __init__(self,name):\n",
    "        self.name = name\n",
    "        Person.number_of_people += 1"
   ]
  },
  {
   "cell_type": "code",
   "execution_count": 48,
   "metadata": {},
   "outputs": [
    {
     "data": {
      "text/plain": [
       "0"
      ]
     },
     "execution_count": 48,
     "metadata": {},
     "output_type": "execute_result"
    }
   ],
   "source": [
    "Person.number_of_people"
   ]
  },
  {
   "cell_type": "code",
   "execution_count": 49,
   "metadata": {},
   "outputs": [
    {
     "data": {
      "text/plain": [
       "1"
      ]
     },
     "execution_count": 49,
     "metadata": {},
     "output_type": "execute_result"
    }
   ],
   "source": [
    "p1 = Person(\"Tim\")\n",
    "Person.number_of_people"
   ]
  },
  {
   "cell_type": "code",
   "execution_count": 50,
   "metadata": {},
   "outputs": [
    {
     "data": {
      "text/plain": [
       "2"
      ]
     },
     "execution_count": 50,
     "metadata": {},
     "output_type": "execute_result"
    }
   ],
   "source": [
    "p2 = Person(\"Sam\")\n",
    "Person.number_of_people"
   ]
  },
  {
   "cell_type": "markdown",
   "metadata": {},
   "source": [
    "Basically how we define global variables in a normal function, we can use that logic here in case of **Class Attribute** (Class attributes are global for that specific class and not an instance/object of the class)"
   ]
  },
  {
   "cell_type": "markdown",
   "metadata": {},
   "source": [
    "## Class Methods"
   ]
  },
  {
   "cell_type": "markdown",
   "metadata": {},
   "source": [
    "Similarly, class method is specific to the entire class and not specific to an instance/object of the class"
   ]
  },
  {
   "cell_type": "code",
   "execution_count": 18,
   "metadata": {},
   "outputs": [],
   "source": [
    "class Person:\n",
    "    # Class Attribute becoz it is NOT defined within a method\n",
    "    number_of_people = 0\n",
    "    \n",
    "    def __init__(self,name):\n",
    "        self.name = name\n",
    "        Person.number_of_people += 1\n",
    "\n",
    "        \n",
    "    @classmethod   # we use cls here instead of self\n",
    "    def number_of_people_(cls):\n",
    "        return cls.number_of_people # from line 3\n",
    "    \n",
    "    @classmethod   # we use cls here instead of self\n",
    "    def add_person(cls):\n",
    "        cls.number_of_people += 1  # from line 3"
   ]
  },
  {
   "cell_type": "markdown",
   "metadata": {},
   "source": [
    "`@classmethod` is a decorator to assign the method as a class method."
   ]
  },
  {
   "cell_type": "code",
   "execution_count": 19,
   "metadata": {},
   "outputs": [
    {
     "name": "stdout",
     "output_type": "stream",
     "text": [
      "1\n"
     ]
    }
   ],
   "source": [
    "p1 = Person(\"Tim\")\n",
    "print(Person.number_of_people_())"
   ]
  },
  {
   "cell_type": "markdown",
   "metadata": {},
   "source": [
    "When `p1 = Person(\"Tim\")` is run, `__init__` method is ran and it updates `number_of_people` to 1"
   ]
  },
  {
   "cell_type": "code",
   "execution_count": 20,
   "metadata": {},
   "outputs": [
    {
     "name": "stdout",
     "output_type": "stream",
     "text": [
      "2\n"
     ]
    }
   ],
   "source": [
    "p2 = Person(\"Sam\")\n",
    "print(Person.number_of_people_())"
   ]
  },
  {
   "cell_type": "code",
   "execution_count": 21,
   "metadata": {},
   "outputs": [],
   "source": [
    "Person.add_person()"
   ]
  },
  {
   "cell_type": "code",
   "execution_count": 22,
   "metadata": {},
   "outputs": [],
   "source": [
    "Person.add_person()"
   ]
  },
  {
   "cell_type": "code",
   "execution_count": 23,
   "metadata": {},
   "outputs": [],
   "source": [
    "Person.add_person()"
   ]
  },
  {
   "cell_type": "code",
   "execution_count": 24,
   "metadata": {},
   "outputs": [],
   "source": [
    "Person.add_person()"
   ]
  },
  {
   "cell_type": "code",
   "execution_count": 25,
   "metadata": {},
   "outputs": [
    {
     "name": "stdout",
     "output_type": "stream",
     "text": [
      "6\n"
     ]
    }
   ],
   "source": [
    "print(Person.number_of_people_())"
   ]
  },
  {
   "cell_type": "markdown",
   "metadata": {},
   "source": [
    "## Static Method\n",
    "\n",
    "This is useful when we want classes that will organize several functions together\n",
    "\n",
    "Here we don't pass `self` or `cls` to the **staticmethod**"
   ]
  },
  {
   "cell_type": "code",
   "execution_count": 83,
   "metadata": {},
   "outputs": [
    {
     "name": "stdout",
     "output_type": "stream",
     "text": [
      "9\n",
      "14\n"
     ]
    }
   ],
   "source": [
    "class Math:\n",
    "    \n",
    "    @staticmethod\n",
    "    def add5(x):\n",
    "        return x+5\n",
    "    \n",
    "    @staticmethod\n",
    "    def add10(x):\n",
    "        return x+10    \n",
    "    \n",
    "print(Math.add5(4))\n",
    "print(Math.add10(4))"
   ]
  }
 ],
 "metadata": {
  "hide_input": false,
  "kernelspec": {
   "display_name": "Python 3",
   "language": "python",
   "name": "python3"
  },
  "language_info": {
   "codemirror_mode": {
    "name": "ipython",
    "version": 3
   },
   "file_extension": ".py",
   "mimetype": "text/x-python",
   "name": "python",
   "nbconvert_exporter": "python",
   "pygments_lexer": "ipython3",
   "version": "3.7.4"
  },
  "varInspector": {
   "cols": {
    "lenName": 16,
    "lenType": 16,
    "lenVar": 40
   },
   "kernels_config": {
    "python": {
     "delete_cmd_postfix": "",
     "delete_cmd_prefix": "del ",
     "library": "var_list.py",
     "varRefreshCmd": "print(var_dic_list())"
    },
    "r": {
     "delete_cmd_postfix": ") ",
     "delete_cmd_prefix": "rm(",
     "library": "var_list.r",
     "varRefreshCmd": "cat(var_dic_list()) "
    }
   },
   "types_to_exclude": [
    "module",
    "function",
    "builtin_function_or_method",
    "instance",
    "_Feature"
   ],
   "window_display": false
  }
 },
 "nbformat": 4,
 "nbformat_minor": 4
}
