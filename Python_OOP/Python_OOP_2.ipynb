{
 "cells": [
  {
   "cell_type": "markdown",
   "metadata": {},
   "source": [
    "Author: Corey Schafer"
   ]
  },
  {
   "cell_type": "markdown",
   "metadata": {},
   "source": [
    "# 1. Classes and Instances"
   ]
  },
  {
   "cell_type": "code",
   "execution_count": 189,
   "metadata": {},
   "outputs": [],
   "source": [
    "class Employee:\n",
    "    pass\n",
    "\n",
    "emp_1 = Employee()\n",
    "emp_2 = Employee()"
   ]
  },
  {
   "cell_type": "markdown",
   "metadata": {},
   "source": [
    "`Employee` class is the blueprint <br>\n",
    "`emp_1` is the instance/object of the `Employee` class"
   ]
  },
  {
   "cell_type": "code",
   "execution_count": 190,
   "metadata": {},
   "outputs": [
    {
     "name": "stdout",
     "output_type": "stream",
     "text": [
      "Sayantan\n",
      "Annabelle\n"
     ]
    }
   ],
   "source": [
    "# We can manually set attributes to each instances\n",
    "# But every instance we create we need to do this\n",
    "emp_1.first = 'Sayantan'\n",
    "emp_1.last = 'Mitra'\n",
    "emp_2.first = 'Annabelle'\n",
    "emp_2.last = 'Wilde'\n",
    "\n",
    "print(emp_1.first)\n",
    "print(emp_2.first)"
   ]
  },
  {
   "cell_type": "markdown",
   "metadata": {},
   "source": [
    "#### But instead of that we can creat `__init__` method"
   ]
  },
  {
   "cell_type": "code",
   "execution_count": 191,
   "metadata": {},
   "outputs": [],
   "source": [
    "class Employee:\n",
    "    \n",
    "    def __init__(self, first, last,pay):\n",
    "        self.first = first\n",
    "        self.last = last\n",
    "        self.pay = pay\n",
    "        self.email = first + '.' + last + '@company.com'\n",
    "\n",
    "        \n",
    "emp_1 = Employee('Sayantan','Mitra',50000)\n",
    "emp_2 = Employee('Annabelle','Wilde',60000)"
   ]
  },
  {
   "cell_type": "markdown",
   "metadata": {},
   "source": [
    "When we make an instance of class `Employee` __init__ method is called automatically. So for example `emp_1` will pass as self, and then self.first=first, where self is emp_1\n",
    "\n",
    "* Doing this reduce a lot of codes from what we did before"
   ]
  },
  {
   "cell_type": "code",
   "execution_count": 192,
   "metadata": {},
   "outputs": [
    {
     "name": "stdout",
     "output_type": "stream",
     "text": [
      "Sayantan\n",
      "Annabelle\n"
     ]
    }
   ],
   "source": [
    "print(emp_1.first)\n",
    "print(emp_2.first)"
   ]
  },
  {
   "cell_type": "markdown",
   "metadata": {},
   "source": [
    "**Next, create a method to display full name**"
   ]
  },
  {
   "cell_type": "code",
   "execution_count": 193,
   "metadata": {},
   "outputs": [
    {
     "name": "stdout",
     "output_type": "stream",
     "text": [
      "Sayantan Mitra\n"
     ]
    }
   ],
   "source": [
    "print('{} {}'.format(emp_1.first, emp_1.last))"
   ]
  },
  {
   "cell_type": "markdown",
   "metadata": {},
   "source": [
    "Can we automate this as well by writing a method?"
   ]
  },
  {
   "cell_type": "code",
   "execution_count": 194,
   "metadata": {},
   "outputs": [],
   "source": [
    "class Employee:\n",
    "    \n",
    "    def __init__(self, first, last,pay):\n",
    "        self.first = first\n",
    "        self.last = last\n",
    "        self.pay = pay\n",
    "        self.email = first + '.' + last + '@company.com'\n",
    "    \n",
    "    # each method within the class automatically takes \n",
    "    # the instance of the class as the first argument\n",
    "    # so we have to provide 'self' as the first argument\n",
    "    def fullname(self):\n",
    "        return '{} {}'.format(self.first, self.last)"
   ]
  },
  {
   "cell_type": "markdown",
   "metadata": {},
   "source": [
    "### Each method within the class automatically takes the instance of the class as the first argument so we have to provide 'self' as the first argument. That way the new method have all the characteristic/attributes of the instance"
   ]
  },
  {
   "cell_type": "code",
   "execution_count": 195,
   "metadata": {},
   "outputs": [
    {
     "name": "stdout",
     "output_type": "stream",
     "text": [
      "Sayantan Mitra\n"
     ]
    }
   ],
   "source": [
    "emp_1 = Employee('Sayantan','Mitra',50000)\n",
    "print(emp_1.fullname())"
   ]
  },
  {
   "cell_type": "code",
   "execution_count": 196,
   "metadata": {},
   "outputs": [
    {
     "name": "stdout",
     "output_type": "stream",
     "text": [
      "Sayantan Mitra\n"
     ]
    }
   ],
   "source": [
    "# We can do the same by directly calling the class\n",
    "emp_1 = Employee('Sayantan','Mitra',50000)\n",
    "print(Employee.fullname(emp_1))"
   ]
  },
  {
   "cell_type": "markdown",
   "metadata": {},
   "source": [
    "# 2. Class Variables (Class attribute)\n",
    "\n",
    "Class variables are the variables that are shared with all instances of the class <br>\n",
    "\n",
    "Instance variable (instance attributes) are the variable which is specific to an instance of the class"
   ]
  },
  {
   "cell_type": "code",
   "execution_count": 197,
   "metadata": {},
   "outputs": [],
   "source": [
    "class Employee:\n",
    "    \n",
    "    def __init__(self, first, last,pay):\n",
    "        self.first = first\n",
    "        self.last = last\n",
    "        self.pay = pay\n",
    "        self.email = first + '.' + last + '@company.com'\n",
    "    \n",
    "    # each method within the class automatically takes \n",
    "    # the instance of the class as the first argument\n",
    "    # so we have to provide 'self' as the first argument\n",
    "    def fullname(self):\n",
    "        return '{} {}'.format(self.first, self.last)\n",
    "    \n",
    "    def apply_raise(self):\n",
    "        self.pay = int(self.pay*1.04)"
   ]
  },
  {
   "cell_type": "code",
   "execution_count": 198,
   "metadata": {},
   "outputs": [],
   "source": [
    "emp_1 = Employee('Sayantan','Mitra',50000)"
   ]
  },
  {
   "cell_type": "code",
   "execution_count": 199,
   "metadata": {},
   "outputs": [
    {
     "data": {
      "text/plain": [
       "50000"
      ]
     },
     "execution_count": 199,
     "metadata": {},
     "output_type": "execute_result"
    }
   ],
   "source": [
    "emp_1.pay"
   ]
  },
  {
   "cell_type": "code",
   "execution_count": 200,
   "metadata": {},
   "outputs": [
    {
     "data": {
      "text/plain": [
       "52000"
      ]
     },
     "execution_count": 200,
     "metadata": {},
     "output_type": "execute_result"
    }
   ],
   "source": [
    "emp_1.apply_raise()\n",
    "emp_1.pay"
   ]
  },
  {
   "cell_type": "markdown",
   "metadata": {},
   "source": [
    "**Here 4% is the raise amount which is irrespective of the instance of the class. So that could be `class variable` or (`class attribute`)**"
   ]
  },
  {
   "cell_type": "code",
   "execution_count": 201,
   "metadata": {},
   "outputs": [],
   "source": [
    "class Employee:\n",
    "    raise_amount = 1.04\n",
    "    \n",
    "    def __init__(self, first, last,pay):\n",
    "        self.first = first\n",
    "        self.last = last\n",
    "        self.pay = pay\n",
    "        self.email = first + '.' + last + '@company.com'\n",
    "    \n",
    "    # each method within the class automatically takes \n",
    "    # the instance of the class as the first argument\n",
    "    # so we have to provide 'self' as the first argument\n",
    "    def fullname(self):\n",
    "        return '{} {}'.format(self.first, self.last)\n",
    "    \n",
    "    def apply_raise(self):\n",
    "        self.pay = int(self.pay*self.raise_amount)"
   ]
  },
  {
   "cell_type": "markdown",
   "metadata": {},
   "source": [
    "We can put `self.raise_amount`, so getting the class variable through the instance  <br>\n",
    "Or we can also put `Employee.raise_amount`, so getting the class variable through the class"
   ]
  },
  {
   "cell_type": "code",
   "execution_count": 202,
   "metadata": {},
   "outputs": [
    {
     "name": "stdout",
     "output_type": "stream",
     "text": [
      "1.04\n",
      "1.04\n"
     ]
    }
   ],
   "source": [
    "emp_1 = Employee('Sayantan','Mitra',50000)\n",
    "\n",
    "# access class variable through class\n",
    "print(Employee.raise_amount)\n",
    "\n",
    "# access class variable through instance of the class\n",
    "print(emp_1.raise_amount)"
   ]
  },
  {
   "cell_type": "markdown",
   "metadata": {},
   "source": [
    "Instances (emp_1) do NOT have the attribute `raise_amount` themselves. They are accessing class's `raise_amount` attribute"
   ]
  },
  {
   "cell_type": "code",
   "execution_count": 203,
   "metadata": {},
   "outputs": [
    {
     "name": "stdout",
     "output_type": "stream",
     "text": [
      "{'first': 'Sayantan', 'last': 'Mitra', 'pay': 50000, 'email': 'Sayantan.Mitra@company.com'}\n"
     ]
    }
   ],
   "source": [
    "print(emp_1.__dict__)"
   ]
  },
  {
   "cell_type": "markdown",
   "metadata": {},
   "source": [
    "These are instance variables (attributes). We do NOT see any `raise_amount` attribute for the instance"
   ]
  },
  {
   "cell_type": "code",
   "execution_count": 204,
   "metadata": {},
   "outputs": [
    {
     "name": "stdout",
     "output_type": "stream",
     "text": [
      "{'__module__': '__main__', 'raise_amount': 1.04, '__init__': <function Employee.__init__ at 0x7f84415fad40>, 'fullname': <function Employee.fullname at 0x7f8441296b90>, 'apply_raise': <function Employee.apply_raise at 0x7f8441296050>, '__dict__': <attribute '__dict__' of 'Employee' objects>, '__weakref__': <attribute '__weakref__' of 'Employee' objects>, '__doc__': None}\n"
     ]
    }
   ],
   "source": [
    "print(Employee.__dict__)"
   ]
  },
  {
   "cell_type": "markdown",
   "metadata": {},
   "source": [
    "We do see `raise_amount` attribute for the class"
   ]
  },
  {
   "cell_type": "markdown",
   "metadata": {},
   "source": [
    "Another way to prove `raise_amount` is a class variable/attribute and NOT an instance variable, by following:"
   ]
  },
  {
   "cell_type": "code",
   "execution_count": 205,
   "metadata": {},
   "outputs": [
    {
     "name": "stdout",
     "output_type": "stream",
     "text": [
      "1.05\n",
      "1.05\n"
     ]
    }
   ],
   "source": [
    "Employee.raise_amount = 1.05\n",
    "# access class variable through class\n",
    "print(Employee.raise_amount)\n",
    "\n",
    "# access class variable through instance of the class\n",
    "print(emp_1.raise_amount)"
   ]
  },
  {
   "cell_type": "markdown",
   "metadata": {},
   "source": [
    "So although I do NOT change instance variable (`raise_amount`) sepeartely, it changes as I change the class variable (`raise_amount`) "
   ]
  },
  {
   "cell_type": "code",
   "execution_count": 206,
   "metadata": {},
   "outputs": [
    {
     "name": "stdout",
     "output_type": "stream",
     "text": [
      "1.05\n",
      "1.08 \n",
      "\n",
      "{'first': 'Sayantan', 'last': 'Mitra', 'pay': 50000, 'email': 'Sayantan.Mitra@company.com', 'raise_amount': 1.08} \n",
      "\n",
      "{'__module__': '__main__', 'raise_amount': 1.05, '__init__': <function Employee.__init__ at 0x7f84415fad40>, 'fullname': <function Employee.fullname at 0x7f8441296b90>, 'apply_raise': <function Employee.apply_raise at 0x7f8441296050>, '__dict__': <attribute '__dict__' of 'Employee' objects>, '__weakref__': <attribute '__weakref__' of 'Employee' objects>, '__doc__': None}\n"
     ]
    }
   ],
   "source": [
    "emp_1.raise_amount = 1.08\n",
    "# access class variable through class\n",
    "print(Employee.raise_amount)\n",
    "\n",
    "# access class variable through instance of the class\n",
    "print(emp_1.raise_amount,'\\n')\n",
    "print(emp_1.__dict__,'\\n')\n",
    "print(Employee.__dict__)"
   ]
  },
  {
   "cell_type": "markdown",
   "metadata": {},
   "source": [
    "So we can change `raise_amount` of the class instance, then it would be specific to that instance. And not the entire class\n",
    "\n",
    "So it is good to use `self.raise_amount` instead of `Employee.raise_amount`. Basically this way we can alter the raise_amount of an instance of the class and NOT the entire class."
   ]
  },
  {
   "cell_type": "markdown",
   "metadata": {},
   "source": [
    "**But in the following example it makes more sense to call `Employee` instead of the instance.** This is because every time we create an employee instance, we are adding an employee so we should add that to class variable and not instance variable (as each instance is each employee/input here)"
   ]
  },
  {
   "cell_type": "code",
   "execution_count": 207,
   "metadata": {},
   "outputs": [],
   "source": [
    "class Employee:\n",
    "    \n",
    "    num_of_emps = 0\n",
    "    raise_amount = 1.04\n",
    "    \n",
    "    def __init__(self, first, last,pay):\n",
    "        self.first = first\n",
    "        self.last = last\n",
    "        self.pay = pay\n",
    "        self.email = first + '.' + last + '@company.com'\n",
    "        Employee.num_of_emps += 1\n",
    "    \n",
    "    # each method within the class automatically takes \n",
    "    # the instance of the class as the first argument\n",
    "    # so we have to provide 'self' as the first argument\n",
    "    def fullname(self):\n",
    "        return '{} {}'.format(self.first, self.last)\n",
    "    \n",
    "    def apply_raise(self):\n",
    "        self.pay = int(self.pay*self.raise_amount)"
   ]
  },
  {
   "cell_type": "code",
   "execution_count": 208,
   "metadata": {},
   "outputs": [
    {
     "name": "stdout",
     "output_type": "stream",
     "text": [
      "1\n",
      "2\n"
     ]
    }
   ],
   "source": [
    "emp_1 = Employee('Sayantan','Mitra',50000)\n",
    "print(Employee.num_of_emps)\n",
    "emp_2 = Employee('Annabelle','Wilde',60000)\n",
    "print(Employee.num_of_emps)"
   ]
  },
  {
   "cell_type": "markdown",
   "metadata": {},
   "source": [
    "# 3. Class Methods"
   ]
  },
  {
   "cell_type": "markdown",
   "metadata": {},
   "source": [
    "Regular method takes the instance of the class as the first argument i.e. `self` <br>\n",
    "\n",
    "But Class Method takes class as the first argument (`cls`) instead of the instance"
   ]
  },
  {
   "cell_type": "code",
   "execution_count": 209,
   "metadata": {},
   "outputs": [],
   "source": [
    "class Employee:\n",
    "    \n",
    "    num_of_emps = 0\n",
    "    raise_amt = 1.04\n",
    "    \n",
    "    def __init__(self, first, last,pay):\n",
    "        self.first = first\n",
    "        self.last = last\n",
    "        self.pay = pay\n",
    "        self.email = first + '.' + last + '@company.com'\n",
    "        Employee.num_of_emps += 1\n",
    "    \n",
    "    # each method within the class automatically takes \n",
    "    # the instance of the class as the first argument\n",
    "    # so we have to provide 'self' as the first argument\n",
    "    def fullname(self):\n",
    "        return '{} {}'.format(self.first, self.last)\n",
    "    \n",
    "    def apply_raise(self):\n",
    "        self.pay = int(self.pay*self.raise_amount)\n",
    "        \n",
    "    @classmethod\n",
    "    def set_raise_amt(cls, amount):\n",
    "        cls.raise_amount = amount"
   ]
  },
  {
   "cell_type": "code",
   "execution_count": 210,
   "metadata": {},
   "outputs": [
    {
     "name": "stdout",
     "output_type": "stream",
     "text": [
      "1.04\n",
      "1.04\n",
      "1.04\n"
     ]
    }
   ],
   "source": [
    "emp_1 = Employee('Sayantan','Mitra',50000)\n",
    "emp_2 = Employee('Annabelle','Wilde',60000)\n",
    "\n",
    "print(Employee.raise_amt)\n",
    "print(emp_1.raise_amt)\n",
    "print(emp_1.raise_amt)"
   ]
  },
  {
   "cell_type": "markdown",
   "metadata": {},
   "source": [
    "Now the **class attribute (class variable)** `raise_amt` is 1.04. So for Employee class `raise_amt` is 1.04. And as `raise_amt` is a class attribute, any instances of this class (emp_1, and emp_2) will have same value for `raise_amt`"
   ]
  },
  {
   "cell_type": "code",
   "execution_count": 211,
   "metadata": {},
   "outputs": [],
   "source": [
    "class Employee:\n",
    "    \n",
    "    num_of_emps = 0\n",
    "    raise_amt = 1.04\n",
    "    \n",
    "    def __init__(self, first, last,pay):\n",
    "        self.first = first\n",
    "        self.last = last\n",
    "        self.pay = pay\n",
    "        self.email = first + '.' + last + '@company.com'\n",
    "        Employee.num_of_emps += 1\n",
    "    \n",
    "    # each method within the class automatically takes \n",
    "    # the instance of the class as the first argument\n",
    "    # so we have to provide 'self' as the first argument\n",
    "    def fullname(self):\n",
    "        return '{} {}'.format(self.first, self.last)\n",
    "    \n",
    "    def apply_raise(self):\n",
    "        self.pay = int(self.pay*self.raise_amount)\n",
    "        \n",
    "    @classmethod\n",
    "    def set_raise_amt(cls, amount):\n",
    "        cls.raise_amt = amount"
   ]
  },
  {
   "cell_type": "code",
   "execution_count": 212,
   "metadata": {},
   "outputs": [
    {
     "name": "stdout",
     "output_type": "stream",
     "text": [
      "1.15\n",
      "1.15\n",
      "1.15\n"
     ]
    }
   ],
   "source": [
    "emp_1 = Employee('Sayantan','Mitra',50000)\n",
    "emp_2 = Employee('Annabelle','Wilde',60000)\n",
    "Employee.set_raise_amt(1.15)\n",
    "\n",
    "print(Employee.raise_amt)\n",
    "print(emp_1.raise_amt)\n",
    "print(emp_1.raise_amt)"
   ]
  },
  {
   "cell_type": "markdown",
   "metadata": {},
   "source": [
    "Here we only change the `raise_amt` for the class, and `raise_amt` changes for all the instances of the class (emp_1, emp_2)\n",
    "\n",
    "`raise_amt` can be changed through any instance of the class. But more intuitive to change from the original class (instead of a class instance), as it will change the character of the entire class. \n",
    "\n",
    "Although we change `raise_amt` of an instance of the class but it changes for the entire class because in the **class method** we are calling `cls` i.e. the actual class (and not `self` which calls the instance of the class)"
   ]
  },
  {
   "cell_type": "code",
   "execution_count": 213,
   "metadata": {},
   "outputs": [
    {
     "name": "stdout",
     "output_type": "stream",
     "text": [
      "1.45\n",
      "1.45\n",
      "1.45\n"
     ]
    }
   ],
   "source": [
    "emp_1 = Employee('Sayantan','Mitra',50000)\n",
    "emp_2 = Employee('Annabelle','Wilde',60000)\n",
    "emp_1.set_raise_amt(1.45)\n",
    "\n",
    "print(Employee.raise_amt)\n",
    "print(emp_1.raise_amt)\n",
    "print(emp_1.raise_amt)"
   ]
  },
  {
   "cell_type": "markdown",
   "metadata": {},
   "source": [
    "**But can we do the same thing directly by changing the **Class Attribute (class variable)****\n",
    "\n",
    "ABSOLUTELY"
   ]
  },
  {
   "cell_type": "code",
   "execution_count": 214,
   "metadata": {},
   "outputs": [
    {
     "name": "stdout",
     "output_type": "stream",
     "text": [
      "1.95\n",
      "1.95\n",
      "1.95\n"
     ]
    }
   ],
   "source": [
    "emp_1 = Employee('Sayantan','Mitra',50000)\n",
    "emp_2 = Employee('Annabelle','Wilde',60000)\n",
    "Employee.raise_amt =1.95\n",
    "\n",
    "print(Employee.raise_amt)\n",
    "print(emp_1.raise_amt)\n",
    "print(emp_1.raise_amt)"
   ]
  },
  {
   "cell_type": "markdown",
   "metadata": {},
   "source": [
    "### 3b. Class Methods as Alternative Constructors"
   ]
  },
  {
   "cell_type": "markdown",
   "metadata": {},
   "source": [
    "Imagine there is stream of info of firstname, lastname, salary separated by a dash. Then how to handle it?"
   ]
  },
  {
   "cell_type": "code",
   "execution_count": 215,
   "metadata": {},
   "outputs": [],
   "source": [
    "class Employee:\n",
    "    \n",
    "    num_of_emps = 0\n",
    "    raise_amt = 1.04\n",
    "    \n",
    "    def __init__(self, first, last,pay):\n",
    "        self.first = first\n",
    "        self.last = last\n",
    "        self.pay = pay\n",
    "        self.email = first + '.' + last + '@company.com'\n",
    "        Employee.num_of_emps += 1\n",
    "    \n",
    "    # each method within the class automatically takes \n",
    "    # the instance of the class as the first argument\n",
    "    # so we have to provide 'self' as the first argument\n",
    "    def fullname(self):\n",
    "        return '{} {}'.format(self.first, self.last)\n",
    "    \n",
    "    def apply_raise(self):\n",
    "        self.pay = int(self.pay*self.raise_amount)\n",
    "        \n",
    "    @classmethod\n",
    "    def set_raise_amt(cls, amount):\n",
    "        cls.raise_amt = amount"
   ]
  },
  {
   "cell_type": "code",
   "execution_count": 216,
   "metadata": {},
   "outputs": [],
   "source": [
    "emp_str_1 = 'John-Doe-10000'\n",
    "emp_str_2 = 'Steve-Smith-20000'\n",
    "emp_str_3 = 'Jane-Doe-30000'\n",
    "\n",
    "first, last, pay = emp_str_1.split('-')"
   ]
  },
  {
   "cell_type": "code",
   "execution_count": 217,
   "metadata": {},
   "outputs": [
    {
     "name": "stdout",
     "output_type": "stream",
     "text": [
      "John.Doe@company.com\n",
      "10000\n"
     ]
    }
   ],
   "source": [
    "new_emp_1 = Employee(first, last, pay)\n",
    "\n",
    "print(new_emp_1.email)\n",
    "print(new_emp_1.pay)"
   ]
  },
  {
   "cell_type": "markdown",
   "metadata": {},
   "source": [
    "But if there is a lot of info coming in this manner, we can't split everytime separately and run this, so we have to use something different i.e. alternate constructor. That basically means we will create a new class method that will take care of this (parsing) and thus it will act as a constructor."
   ]
  },
  {
   "cell_type": "code",
   "execution_count": 218,
   "metadata": {},
   "outputs": [],
   "source": [
    "class Employee:\n",
    "    \n",
    "    num_of_emps = 0\n",
    "    raise_amt = 1.04\n",
    "    \n",
    "    def __init__(self, first, last, pay):\n",
    "        self.first = first\n",
    "        self.last = last\n",
    "        self.pay = pay\n",
    "        self.email = first + '.' + last + '@company.com'\n",
    "        Employee.num_of_emps += 1\n",
    "    \n",
    "    # each method within the class automatically takes \n",
    "    # the instance of the class as the first argument\n",
    "    # so we have to provide 'self' as the first argument\n",
    "    def fullname(self):\n",
    "        return '{} {}'.format(self.first, self.last)\n",
    "    \n",
    "    def apply_raise(self):\n",
    "        self.pay = int(self.pay*self.raise_amount)\n",
    "        \n",
    "    @classmethod\n",
    "    def set_raise_amt(cls, amount):\n",
    "        cls.raise_amt = amount\n",
    "        \n",
    "    @classmethod\n",
    "    def from_string(cls, emp_str): # class method, so `cls` is passed inside\n",
    "        first, last, pay = emp_str.split('-')\n",
    "        return cls(first, last, pay)      "
   ]
  },
  {
   "cell_type": "code",
   "execution_count": 219,
   "metadata": {},
   "outputs": [
    {
     "name": "stdout",
     "output_type": "stream",
     "text": [
      "John.Doe@company.com\n",
      "10000\n"
     ]
    }
   ],
   "source": [
    "emp_str_1 = 'John-Doe-10000'\n",
    "emp_str_2 = 'Steve-Smith-20000'\n",
    "emp_str_3 = 'Jane-Doe-30000'\n",
    "\n",
    "new_emp_11 = Employee.from_string(emp_str_1)\n",
    "\n",
    "print(new_emp_11.email)\n",
    "print(new_emp_11.pay)"
   ]
  },
  {
   "cell_type": "markdown",
   "metadata": {},
   "source": [
    "By the creation of alternate constructor `from_string` we don't have to write following lines of code:\n",
    "\n",
    "`first, last, pay = emp_str_1.split('-')` <br>\n",
    "`new_emp_1 = Employee(first, last, pay)`"
   ]
  },
  {
   "cell_type": "markdown",
   "metadata": {},
   "source": [
    "# 4. Inheritence - Creating Subclasses"
   ]
  },
  {
   "cell_type": "markdown",
   "metadata": {},
   "source": [
    "Here we want to create 2 classes **Developers** and **Managers**. Both classes are Employees. So Employee can be parent class. And Employee characteristics can be inherited by the subclasses **Developers** and **Managers**"
   ]
  },
  {
   "cell_type": "code",
   "execution_count": 220,
   "metadata": {},
   "outputs": [],
   "source": [
    "class Employee:\n",
    "    \n",
    "    num_of_emps = 0\n",
    "    raise_amt = 1.04\n",
    "    \n",
    "    def __init__(self, first, last, pay):\n",
    "        self.first = first\n",
    "        self.last = last\n",
    "        self.pay = pay\n",
    "        self.email = first + '.' + last + '@company.com'\n",
    "        Employee.num_of_emps += 1\n",
    "    \n",
    "    # each method within the class automatically takes \n",
    "    # the instance of the class as the first argument\n",
    "    # so we have to provide 'self' as the first argument\n",
    "    def fullname(self):\n",
    "        return '{} {}'.format(self.first, self.last)\n",
    "    \n",
    "    def apply_raise(self):\n",
    "        self.pay = int(self.pay*self.raise_amt)\n",
    "        \n",
    "    @classmethod\n",
    "    def set_raise_amt(cls, amount):\n",
    "        cls.raise_amt = amount\n",
    "        \n",
    "#     @classmethod\n",
    "#     def from_string(cls, emp_str): # class method, so `cls` is passed inside\n",
    "#         first, last, pay = emp_str.split('-')\n",
    "#         return cls(first, last, pay)\n",
    "\n",
    "\n",
    "class Developer(Employee): \n",
    "    #within paranthesis we put the class name that we want to inherit from\n",
    "    pass"
   ]
  },
  {
   "cell_type": "code",
   "execution_count": 221,
   "metadata": {},
   "outputs": [
    {
     "name": "stdout",
     "output_type": "stream",
     "text": [
      "Sayantan.Mitra@company.com\n",
      "Annabelle.Wilde@company.com\n"
     ]
    }
   ],
   "source": [
    "emp_1 = Employee('Sayantan','Mitra',50000)\n",
    "emp_2 = Employee('Annabelle','Wilde',60000)\n",
    "\n",
    "print(emp_1.email)\n",
    "print(emp_2.email)"
   ]
  },
  {
   "cell_type": "markdown",
   "metadata": {},
   "source": [
    "**Now lets check whether Developer inheriting from Employer**"
   ]
  },
  {
   "cell_type": "code",
   "execution_count": 222,
   "metadata": {},
   "outputs": [
    {
     "name": "stdout",
     "output_type": "stream",
     "text": [
      "Sayantan.Mitra@company.com\n",
      "Annabelle.Wilde@company.com\n"
     ]
    }
   ],
   "source": [
    "dev_1 = Developer('Sayantan','Mitra',50000)\n",
    "dev_2 = Developer('Annabelle','Wilde',60000)\n",
    "\n",
    "print(dev_1.email)\n",
    "print(dev_2.email)"
   ]
  },
  {
   "cell_type": "markdown",
   "metadata": {},
   "source": [
    "Without writing any code within `Developer` class, we are inheriting all characteristic (attributes, methods) of the parent class i.e. `Employer` class\n",
    "\n",
    "So when we pass `Developer('Sayantan','Mitra',50000)` it will atfirst try to call `__init__()` for developer class. But as it is currently empty it will move to check it's parent class (i.e. `Employer`)"
   ]
  },
  {
   "cell_type": "markdown",
   "metadata": {},
   "source": [
    "#### Now let's modify some attributes that Developer class gets through it's parent. "
   ]
  },
  {
   "cell_type": "code",
   "execution_count": 223,
   "metadata": {},
   "outputs": [
    {
     "name": "stdout",
     "output_type": "stream",
     "text": [
      "50000\n",
      "52000\n"
     ]
    }
   ],
   "source": [
    "dev_1 = Developer('Sayantan','Mitra',50000)\n",
    "dev_2 = Developer('Annabelle','Wilde',60000)\n",
    "\n",
    "print(dev_1.pay)\n",
    "dev_1.apply_raise()\n",
    "print(dev_1.pay)"
   ]
  },
  {
   "cell_type": "markdown",
   "metadata": {},
   "source": [
    "**But we want developer's only to have a raise of 10%**, that means we have to alter only `Developer` class"
   ]
  },
  {
   "cell_type": "code",
   "execution_count": 224,
   "metadata": {},
   "outputs": [],
   "source": [
    "class Employee:\n",
    "    \n",
    "    num_of_emps = 0\n",
    "    raise_amt = 1.04\n",
    "    \n",
    "    def __init__(self, first, last, pay):\n",
    "        self.first = first\n",
    "        self.last = last\n",
    "        self.pay = pay\n",
    "        self.email = first + '.' + last + '@company.com'\n",
    "        Employee.num_of_emps += 1\n",
    "    \n",
    "    # each method within the class automatically takes \n",
    "    # the instance of the class as the first argument\n",
    "    # so we have to provide 'self' as the first argument\n",
    "    def fullname(self):\n",
    "        return '{} {}'.format(self.first, self.last)\n",
    "    \n",
    "    def apply_raise(self):\n",
    "        self.pay = int(self.pay*self.raise_amt)\n",
    "        \n",
    "    @classmethod\n",
    "    def set_raise_amt(cls, amount):\n",
    "        cls.raise_amt = amount\n",
    "        \n",
    "#     @classmethod\n",
    "#     def from_string(cls, emp_str): # class method, so `cls` is passed inside\n",
    "#         first, last, pay = emp_str.split('-')\n",
    "#         return cls(first, last, pay)\n",
    "\n",
    "\n",
    "class Developer(Employee): \n",
    "    #within paranthesis we put the class name that we want to inherit from\n",
    "    raise_amt = 1.10"
   ]
  },
  {
   "cell_type": "code",
   "execution_count": 225,
   "metadata": {},
   "outputs": [
    {
     "name": "stdout",
     "output_type": "stream",
     "text": [
      "50000\n",
      "55000\n"
     ]
    }
   ],
   "source": [
    "dev_1 = Developer('Sayantan','Mitra',50000)\n",
    "dev_2 = Developer('Annabelle','Wilde',60000)\n",
    "\n",
    "print(dev_1.pay)\n",
    "dev_1.apply_raise()\n",
    "print(dev_1.pay)"
   ]
  },
  {
   "cell_type": "code",
   "execution_count": 226,
   "metadata": {},
   "outputs": [
    {
     "name": "stdout",
     "output_type": "stream",
     "text": [
      "50000\n",
      "52000\n"
     ]
    }
   ],
   "source": [
    "emp_1 = Employee('Sayantan','Mitra',50000)\n",
    "emp_2 = Employee('Annabelle','Wilde',60000)\n",
    "\n",
    "print(emp_1.pay)\n",
    "emp_1.apply_raise()\n",
    "print(emp_1.pay)"
   ]
  },
  {
   "cell_type": "markdown",
   "metadata": {},
   "source": [
    "So only Developer class's `raise_amt` change and not the parent class (`Employer`)"
   ]
  },
  {
   "cell_type": "markdown",
   "metadata": {},
   "source": [
    "#### Now what we want to add some attributes specific to subclass such as `Developer` class. Here additional attribute is `prog_lang`"
   ]
  },
  {
   "cell_type": "code",
   "execution_count": 227,
   "metadata": {},
   "outputs": [],
   "source": [
    "class Employee:\n",
    "    \n",
    "    num_of_emps = 0\n",
    "    raise_amt = 1.04\n",
    "    \n",
    "    def __init__(self, first, last, pay):\n",
    "        self.first = first\n",
    "        self.last = last\n",
    "        self.pay = pay\n",
    "        self.email = first + '.' + last + '@company.com'\n",
    "        Employee.num_of_emps += 1\n",
    "    \n",
    "    # each method within the class automatically takes \n",
    "    # the instance of the class as the first argument\n",
    "    # so we have to provide 'self' as the first argument\n",
    "    def fullname(self):\n",
    "        return '{} {}'.format(self.first, self.last)\n",
    "    \n",
    "    def apply_raise(self):\n",
    "        self.pay = int(self.pay*self.raise_amt)\n",
    "        \n",
    "    @classmethod\n",
    "    def set_raise_amt(cls, amount):\n",
    "        cls.raise_amt = amount\n",
    "        \n",
    "#     @classmethod\n",
    "#     def from_string(cls, emp_str): # class method, so `cls` is passed inside\n",
    "#         first, last, pay = emp_str.split('-')\n",
    "#         return cls(first, last, pay)\n",
    "\n",
    "\n",
    "class Developer(Employee): \n",
    "    #within paranthesis we put the class name that we want to inherit from\n",
    "    raise_amt = 1.10\n",
    "    \n",
    "    def __init__(self, first, last, pay, prog_lang):\n",
    "        # with super we will take all the attributes, methods of the parent class\n",
    "        super().__init__(first, last, pay) \n",
    "        self.prog_lang = prog_lang"
   ]
  },
  {
   "cell_type": "code",
   "execution_count": 228,
   "metadata": {},
   "outputs": [
    {
     "ename": "TypeError",
     "evalue": "__init__() missing 1 required positional argument: 'prog_lang'",
     "output_type": "error",
     "traceback": [
      "\u001b[0;31m---------------------------------------------------------------------------\u001b[0m",
      "\u001b[0;31mTypeError\u001b[0m                                 Traceback (most recent call last)",
      "\u001b[0;32m<ipython-input-228-50b2f6adf1d2>\u001b[0m in \u001b[0;36m<module>\u001b[0;34m\u001b[0m\n\u001b[0;32m----> 1\u001b[0;31m \u001b[0mdev_1\u001b[0m \u001b[0;34m=\u001b[0m \u001b[0mDeveloper\u001b[0m\u001b[0;34m(\u001b[0m\u001b[0;34m'Sayantan'\u001b[0m\u001b[0;34m,\u001b[0m\u001b[0;34m'Mitra'\u001b[0m\u001b[0;34m,\u001b[0m\u001b[0;36m50000\u001b[0m\u001b[0;34m)\u001b[0m\u001b[0;34m\u001b[0m\u001b[0;34m\u001b[0m\u001b[0m\n\u001b[0m\u001b[1;32m      2\u001b[0m \u001b[0mdev_2\u001b[0m \u001b[0;34m=\u001b[0m \u001b[0mDeveloper\u001b[0m\u001b[0;34m(\u001b[0m\u001b[0;34m'Annabelle'\u001b[0m\u001b[0;34m,\u001b[0m\u001b[0;34m'Wilde'\u001b[0m\u001b[0;34m,\u001b[0m\u001b[0;36m60000\u001b[0m\u001b[0;34m)\u001b[0m\u001b[0;34m\u001b[0m\u001b[0;34m\u001b[0m\u001b[0m\n",
      "\u001b[0;31mTypeError\u001b[0m: __init__() missing 1 required positional argument: 'prog_lang'"
     ]
    }
   ],
   "source": [
    "dev_1 = Developer('Sayantan','Mitra',50000)\n",
    "dev_2 = Developer('Annabelle','Wilde',60000)"
   ]
  },
  {
   "cell_type": "markdown",
   "metadata": {},
   "source": [
    "Now `Developer` class wants the additional variable `prog_lang`"
   ]
  },
  {
   "cell_type": "code",
   "execution_count": 229,
   "metadata": {},
   "outputs": [
    {
     "name": "stdout",
     "output_type": "stream",
     "text": [
      "Sayantan.Mitra@company.com\n",
      "python\n"
     ]
    }
   ],
   "source": [
    "dev_1 = Developer('Sayantan','Mitra',50000, 'python')\n",
    "dev_2 = Developer('Annabelle','Wilde',60000, 'java')\n",
    "\n",
    "print(dev_1.email)\n",
    "print(dev_1.prog_lang)"
   ]
  },
  {
   "cell_type": "markdown",
   "metadata": {},
   "source": [
    "#### Now a new subclass `Manager` would be created"
   ]
  },
  {
   "cell_type": "code",
   "execution_count": 230,
   "metadata": {},
   "outputs": [],
   "source": [
    "class Employee:\n",
    "    \n",
    "    num_of_emps = 0\n",
    "    raise_amt = 1.04\n",
    "    \n",
    "    def __init__(self, first, last, pay):\n",
    "        self.first = first\n",
    "        self.last = last\n",
    "        self.pay = pay\n",
    "        self.email = first + '.' + last + '@company.com'\n",
    "        Employee.num_of_emps += 1\n",
    "    \n",
    "    # each method within the class automatically takes \n",
    "    # the instance of the class as the first argument\n",
    "    # so we have to provide 'self' as the first argument\n",
    "    def fullname(self):\n",
    "        return '{} {}'.format(self.first, self.last)\n",
    "    \n",
    "    def apply_raise(self):\n",
    "        self.pay = int(self.pay*self.raise_amt)\n",
    "        \n",
    "    @classmethod\n",
    "    def set_raise_amt(cls, amount):\n",
    "        cls.raise_amt = amount\n",
    "        \n",
    "#     @classmethod\n",
    "#     def from_string(cls, emp_str): # class method, so `cls` is passed inside\n",
    "#         first, last, pay = emp_str.split('-')\n",
    "#         return cls(first, last, pay)\n",
    "\n",
    "\n",
    "\n",
    "#######################    SUBCLASS 1    ##################################\n",
    "class Developer(Employee): \n",
    "    #within paranthesis we put the class name that we want to inherit from\n",
    "    raise_amt = 1.10\n",
    "    \n",
    "    def __init__(self, first, last, pay, prog_lang):\n",
    "        # with super we will take all the attributes, methods of the parent class\n",
    "        super().__init__(first, last, pay) \n",
    "        self.prog_lang = prog_lang\n",
    "        \n",
    "        \n",
    "        \n",
    "#######################    SUBCLASS 2    ##################################        \n",
    "class Manager(Employee): \n",
    "    #within paranthesis we put the class name that we want to inherit from\n",
    "    raise_amt = 1.50 # Manager raise amount is higher\n",
    "    \n",
    "    # employees: which employees manager will manage\n",
    "    def __init__(self, first, last, pay, employees=None):\n",
    "        # with super we will take all the attributes, methods of the parent class\n",
    "        super().__init__(first, last, pay) \n",
    "        if employees is None:\n",
    "            self.employees=[]\n",
    "        else:\n",
    "            self.employees=employees\n",
    "            \n",
    "       \n",
    "    # add employee the manager manages\n",
    "    def add_emp(self, emp):\n",
    "        if emp not in self.employees:\n",
    "            self.employees.append(emp)\n",
    "\n",
    "    # remove employee the manager manages\n",
    "    def remove_emp(self, emp):\n",
    "        if emp in self.employees:\n",
    "            self.employees.remove(emp)\n",
    "    \n",
    "    # print out name of employees managed by the manager\n",
    "    def print_emps(self):\n",
    "        for emp in self.employees:\n",
    "            print('--->', emp.fullname())"
   ]
  },
  {
   "cell_type": "markdown",
   "metadata": {},
   "source": [
    "**Reason we don't put an empty list as a default argument instead of `None`, because we shouldn't put a mutable datatype (Such as a list or dictionary) as a default argument**"
   ]
  },
  {
   "cell_type": "code",
   "execution_count": 231,
   "metadata": {},
   "outputs": [],
   "source": [
    "dev_1 = Developer('Sayantan','Mitra',50000, 'python')\n",
    "dev_2 = Developer('Annabelle','Wilde',60000, 'java')\n",
    "\n",
    "# Manager 1 manages emp_1\n",
    "mgr_1 = Manager('habib', 'Singh', 900000, [dev_1])"
   ]
  },
  {
   "cell_type": "code",
   "execution_count": 232,
   "metadata": {},
   "outputs": [
    {
     "name": "stdout",
     "output_type": "stream",
     "text": [
      "habib.Singh@company.com\n",
      "habib Singh\n",
      "---> Sayantan Mitra\n"
     ]
    }
   ],
   "source": [
    "print(mgr_1.email)\n",
    "print(mgr_1.fullname())\n",
    "mgr_1.print_emps()"
   ]
  },
  {
   "cell_type": "code",
   "execution_count": 233,
   "metadata": {},
   "outputs": [
    {
     "name": "stdout",
     "output_type": "stream",
     "text": [
      "---> Sayantan Mitra\n",
      "---> Annabelle Wilde\n"
     ]
    }
   ],
   "source": [
    "# Add more people under the manager\n",
    "mgr_1.add_emp(dev_2)\n",
    "mgr_1.print_emps()"
   ]
  },
  {
   "cell_type": "code",
   "execution_count": 234,
   "metadata": {},
   "outputs": [
    {
     "name": "stdout",
     "output_type": "stream",
     "text": [
      "---> Annabelle Wilde\n"
     ]
    }
   ],
   "source": [
    "mgr_1.remove_emp(dev_1)\n",
    "mgr_1.print_emps()"
   ]
  },
  {
   "cell_type": "markdown",
   "metadata": {},
   "source": [
    "**`isinstance`** tells you if an object is an instance of a class <br>"
   ]
  },
  {
   "cell_type": "code",
   "execution_count": 235,
   "metadata": {},
   "outputs": [
    {
     "name": "stdout",
     "output_type": "stream",
     "text": [
      "True\n",
      "True\n",
      "False\n"
     ]
    }
   ],
   "source": [
    "# mgr_1 is an instance of Manager class\n",
    "print(isinstance(mgr_1, Manager))\n",
    "\n",
    "# mgr_1 is an instance of Employee class: Employee is the parent class\n",
    "print(isinstance(mgr_1, Employee))\n",
    "\n",
    "# mgr_1 is an NOT an instance of Developer class\n",
    "print(isinstance(mgr_1, Developer))"
   ]
  },
  {
   "cell_type": "markdown",
   "metadata": {},
   "source": [
    "**`issubclass`** tells you if one class is a subclass of another class"
   ]
  },
  {
   "cell_type": "code",
   "execution_count": 236,
   "metadata": {},
   "outputs": [
    {
     "name": "stdout",
     "output_type": "stream",
     "text": [
      "True\n",
      "True\n",
      "False\n"
     ]
    }
   ],
   "source": [
    "# Developer is a subclass of Employee: Employee is parent class\n",
    "print(issubclass(Developer, Employee))\n",
    "\n",
    "# Manager is a subclass of Employee: Employee is parent class\n",
    "print(issubclass(Manager, Employee))\n",
    "\n",
    "# Manager and Developer are not subclasses\n",
    "print(issubclass(Manager, Developer))"
   ]
  },
  {
   "cell_type": "markdown",
   "metadata": {},
   "source": [
    "# 5. Special (Magic/Dunder) Methods"
   ]
  },
  {
   "cell_type": "code",
   "execution_count": 237,
   "metadata": {},
   "outputs": [
    {
     "name": "stdout",
     "output_type": "stream",
     "text": [
      "3\n",
      "ab\n"
     ]
    }
   ],
   "source": [
    "# Why we need to know this?\n",
    "print(1+2)\n",
    "print('a'+'b')"
   ]
  },
  {
   "cell_type": "markdown",
   "metadata": {},
   "source": [
    "Here for string it concatenated and for numbers it was a regular addition."
   ]
  },
  {
   "cell_type": "code",
   "execution_count": 53,
   "metadata": {},
   "outputs": [],
   "source": [
    "class Employee:\n",
    "    \n",
    "    num_of_emps = 0\n",
    "    raise_amt = 1.04\n",
    "    \n",
    "    def __init__(self, first, last, pay):\n",
    "        self.first = first\n",
    "        self.last = last\n",
    "        self.pay = pay\n",
    "        self.email = first + '.' + last + '@company.com'\n",
    "        Employee.num_of_emps += 1\n",
    "    \n",
    "    # each method within the class automatically takes \n",
    "    # the instance of the class as the first argument\n",
    "    # so we have to provide 'self' as the first argument\n",
    "    def fullname(self):\n",
    "        return '{} {}'.format(self.first, self.last)\n",
    "    \n",
    "    def apply_raise(self):\n",
    "        self.pay = int(self.pay*self.raise_amt)"
   ]
  },
  {
   "cell_type": "code",
   "execution_count": 54,
   "metadata": {},
   "outputs": [
    {
     "name": "stdout",
     "output_type": "stream",
     "text": [
      "<__main__.Employee object at 0x7f8441270090>\n"
     ]
    }
   ],
   "source": [
    "emp_1 = Employee('Sayantan','Mitra',50000)\n",
    "emp_2 = Employee('Annabelle','Wilde',60000)\n",
    "print(emp_1)"
   ]
  },
  {
   "cell_type": "markdown",
   "metadata": {},
   "source": [
    "We would like to see some more meaningful output and not the `.Employee Object`. This will be achievable by defining special methods or magic methods.\n",
    "\n",
    "`__init__` is a special (magic/dunder) method as we can see from the double underscores at the beginning and end."
   ]
  },
  {
   "cell_type": "code",
   "execution_count": 55,
   "metadata": {},
   "outputs": [],
   "source": [
    "class Employee:\n",
    "    \n",
    "    num_of_emps = 0\n",
    "    raise_amt = 1.04\n",
    "    \n",
    "    def __init__(self, first, last, pay):\n",
    "        self.first = first\n",
    "        self.last = last\n",
    "        self.pay = pay\n",
    "        self.email = first + '.' + last + '@company.com'\n",
    "        Employee.num_of_emps += 1\n",
    "    \n",
    "    # each method within the class automatically takes \n",
    "    # the instance of the class as the first argument\n",
    "    # so we have to provide 'self' as the first argument\n",
    "    def fullname(self):\n",
    "        return '{} {}'.format(self.first, self.last)\n",
    "    \n",
    "    def apply_raise(self):\n",
    "        self.pay = int(self.pay*self.raise_amt)\n",
    "        \n",
    "    \n",
    "    # repr is used mostly for other developers\n",
    "    def __repr__(self):\n",
    "        # instead of <__main__.Employee object at 0x7fce192e6ed0> it will\n",
    "        # output something that would be undersatndable\n",
    "        return \"Employee('{}', '{}', {})\".format(self.first, self.last, self.pay)\n",
    "    \n",
    "    \n",
    "    # str is mostly used for readable representation of the object\n",
    "#     def __str__(self):\n",
    "#         pass"
   ]
  },
  {
   "cell_type": "code",
   "execution_count": 56,
   "metadata": {},
   "outputs": [
    {
     "name": "stdout",
     "output_type": "stream",
     "text": [
      "Employee('Sayantan', 'Mitra', 50000)\n"
     ]
    }
   ],
   "source": [
    "emp_1 = Employee('Sayantan','Mitra',50000)\n",
    "emp_2 = Employee('Annabelle','Wilde',60000)\n",
    "print(emp_1)"
   ]
  },
  {
   "cell_type": "markdown",
   "metadata": {},
   "source": [
    "Now it is outputting something understandable instead of `<__main__.Employee object at 0x7fce192e6ed0>`"
   ]
  },
  {
   "cell_type": "code",
   "execution_count": 240,
   "metadata": {},
   "outputs": [],
   "source": [
    "class Employee:\n",
    "    \n",
    "    num_of_emps = 0\n",
    "    raise_amt = 1.04\n",
    "    \n",
    "    def __init__(self, first, last, pay):\n",
    "        self.first = first\n",
    "        self.last = last\n",
    "        self.pay = pay\n",
    "        self.email = first + '.' + last + '@company.com'\n",
    "        Employee.num_of_emps += 1\n",
    "    \n",
    "    # each method within the class automatically takes \n",
    "    # the instance of the class as the first argument\n",
    "    # so we have to provide 'self' as the first argument\n",
    "    def fullname(self):\n",
    "        return '{} {}'.format(self.first, self.last)\n",
    "    \n",
    "    def apply_raise(self):\n",
    "        self.pay = int(self.pay*self.raise_amt)\n",
    "        \n",
    "    \n",
    "    # repr is used mostly for other developers\n",
    "    def __repr__(self):\n",
    "        # instead of <__main__.Employee object at 0x7fce192e6ed0> it will\n",
    "        # output something that would be undersatndable\n",
    "        return \"Employee('{}', '{}', {})\".format(self.first, self.last, self.pay)\n",
    "    \n",
    "    \n",
    "    # str is mostly used for readable representation of the object\n",
    "    def __str__(self):\n",
    "        return '{}-{}'.format(self.fullname(), self.email)"
   ]
  },
  {
   "cell_type": "code",
   "execution_count": 241,
   "metadata": {},
   "outputs": [
    {
     "name": "stdout",
     "output_type": "stream",
     "text": [
      "Sayantan Mitra-Sayantan.Mitra@company.com\n"
     ]
    }
   ],
   "source": [
    "emp_1 = Employee('Sayantan','Mitra',50000)\n",
    "emp_2 = Employee('Annabelle','Wilde',60000)\n",
    "print(emp_1)"
   ]
  },
  {
   "cell_type": "markdown",
   "metadata": {},
   "source": [
    "Now when we have both `__repr__` and `__str__`, it is outputting the return value of `__str__`\n",
    "\n",
    "\n",
    "But we can access both `__repr__` and `__str__` separately as follows:"
   ]
  },
  {
   "cell_type": "code",
   "execution_count": 242,
   "metadata": {},
   "outputs": [
    {
     "name": "stdout",
     "output_type": "stream",
     "text": [
      "Employee('Sayantan', 'Mitra', 50000)\n",
      "Sayantan Mitra-Sayantan.Mitra@company.com\n"
     ]
    }
   ],
   "source": [
    "print(repr(emp_1))\n",
    "print(str(emp_1))"
   ]
  },
  {
   "cell_type": "markdown",
   "metadata": {},
   "source": [
    "When we `print(repr(emp_1))` and `print(str(emp_1))`, it is directly calling these special methods as evident from the following:"
   ]
  },
  {
   "cell_type": "code",
   "execution_count": 243,
   "metadata": {},
   "outputs": [
    {
     "name": "stdout",
     "output_type": "stream",
     "text": [
      "Employee('Sayantan', 'Mitra', 50000)\n",
      "Sayantan Mitra-Sayantan.Mitra@company.com\n"
     ]
    }
   ],
   "source": [
    "print(emp_1.__repr__())\n",
    "print(emp_1.__str__())"
   ]
  },
  {
   "cell_type": "markdown",
   "metadata": {},
   "source": [
    "Now these special methods caused the following addition different"
   ]
  },
  {
   "cell_type": "code",
   "execution_count": 244,
   "metadata": {},
   "outputs": [
    {
     "name": "stdout",
     "output_type": "stream",
     "text": [
      "3\n",
      "ab\n"
     ]
    }
   ],
   "source": [
    "print(1+2)\n",
    "print('a'+'b')"
   ]
  },
  {
   "cell_type": "markdown",
   "metadata": {},
   "source": [
    "Because `__add__` for `int` and `str` are different and thats why it gives different output"
   ]
  },
  {
   "cell_type": "code",
   "execution_count": 245,
   "metadata": {},
   "outputs": [
    {
     "name": "stdout",
     "output_type": "stream",
     "text": [
      "3\n",
      "ab\n"
     ]
    }
   ],
   "source": [
    "print(int.__add__(1,2))\n",
    "print(str.__add__('a','b'))"
   ]
  },
  {
   "cell_type": "markdown",
   "metadata": {},
   "source": [
    "**So can we use this magic/dunder/special methods to add 2 employees and add just their salary?**"
   ]
  },
  {
   "cell_type": "code",
   "execution_count": 65,
   "metadata": {},
   "outputs": [],
   "source": [
    "class Employee:\n",
    "    \n",
    "    num_of_emps = 0\n",
    "    raise_amt = 1.04\n",
    "    \n",
    "    def __init__(self, first, last, pay):\n",
    "        self.first = first\n",
    "        self.last = last\n",
    "        self.pay = pay\n",
    "        self.email = first + '.' + last + '@company.com'\n",
    "        Employee.num_of_emps += 1\n",
    "    \n",
    "    # each method within the class automatically takes \n",
    "    # the instance of the class as the first argument\n",
    "    # so we have to provide 'self' as the first argument\n",
    "    def fullname(self):\n",
    "        return '{} {}'.format(self.first, self.last)\n",
    "    \n",
    "    def apply_raise(self):\n",
    "        self.pay = int(self.pay*self.raise_amt)\n",
    "        \n",
    "    \n",
    "    # repr is used mostly for other developers\n",
    "    def __repr__(self):\n",
    "        # instead of <__main__.Employee object at 0x7fce192e6ed0> it will\n",
    "        # output something that would be undersatndable\n",
    "        return \"Employee('{}', '{}', {})\".format(self.first, self.last, self.pay)\n",
    "    \n",
    "    \n",
    "    # str is mostly used for readable representation of the object\n",
    "    def __str__(self):\n",
    "        return '{}-{}'.format(self.fullname(), self.email)\n",
    "    \n",
    "    \n",
    "#     def __add__(self, other): #self: 1 employee object; #other: another employee object\n",
    "#         return selff.pay + other.pay"
   ]
  },
  {
   "cell_type": "code",
   "execution_count": 67,
   "metadata": {},
   "outputs": [
    {
     "ename": "TypeError",
     "evalue": "unsupported operand type(s) for +: 'Employee' and 'Employee'",
     "output_type": "error",
     "traceback": [
      "\u001b[0;31m---------------------------------------------------------------------------\u001b[0m",
      "\u001b[0;31mTypeError\u001b[0m                                 Traceback (most recent call last)",
      "\u001b[0;32m<ipython-input-67-53ef1f2ab09e>\u001b[0m in \u001b[0;36m<module>\u001b[0;34m\u001b[0m\n\u001b[1;32m      1\u001b[0m \u001b[0memp_1\u001b[0m \u001b[0;34m=\u001b[0m \u001b[0mEmployee\u001b[0m\u001b[0;34m(\u001b[0m\u001b[0;34m'Sayantan'\u001b[0m\u001b[0;34m,\u001b[0m\u001b[0;34m'Mitra'\u001b[0m\u001b[0;34m,\u001b[0m\u001b[0;36m50000\u001b[0m\u001b[0;34m)\u001b[0m\u001b[0;34m\u001b[0m\u001b[0;34m\u001b[0m\u001b[0m\n\u001b[1;32m      2\u001b[0m \u001b[0memp_2\u001b[0m \u001b[0;34m=\u001b[0m \u001b[0mEmployee\u001b[0m\u001b[0;34m(\u001b[0m\u001b[0;34m'Annabelle'\u001b[0m\u001b[0;34m,\u001b[0m\u001b[0;34m'Wilde'\u001b[0m\u001b[0;34m,\u001b[0m\u001b[0;36m60000\u001b[0m\u001b[0;34m)\u001b[0m\u001b[0;34m\u001b[0m\u001b[0;34m\u001b[0m\u001b[0m\n\u001b[0;32m----> 3\u001b[0;31m \u001b[0mprint\u001b[0m\u001b[0;34m(\u001b[0m\u001b[0memp_1\u001b[0m\u001b[0;34m+\u001b[0m\u001b[0memp_2\u001b[0m\u001b[0;34m)\u001b[0m\u001b[0;34m\u001b[0m\u001b[0;34m\u001b[0m\u001b[0m\n\u001b[0m",
      "\u001b[0;31mTypeError\u001b[0m: unsupported operand type(s) for +: 'Employee' and 'Employee'"
     ]
    }
   ],
   "source": [
    "emp_1 = Employee('Sayantan','Mitra',50000)\n",
    "emp_2 = Employee('Annabelle','Wilde',60000)\n",
    "print(emp_1+emp_2)"
   ]
  },
  {
   "cell_type": "markdown",
   "metadata": {},
   "source": [
    "**Can't add until we add the specoal/dunder/magic methods**"
   ]
  },
  {
   "cell_type": "code",
   "execution_count": 97,
   "metadata": {},
   "outputs": [],
   "source": [
    "class Employee:\n",
    "    \n",
    "    num_of_emps = 0\n",
    "    raise_amt = 1.04\n",
    "    \n",
    "    def __init__(self, first, last, pay):\n",
    "        self.first = first\n",
    "        self.last = last\n",
    "        self.pay = pay\n",
    "        self.email = first + '.' + last + '@company.com'\n",
    "        Employee.num_of_emps += 1\n",
    "    \n",
    "    # each method within the class automatically takes \n",
    "    # the instance of the class as the first argument\n",
    "    # so we have to provide 'self' as the first argument\n",
    "    def fullname(self):\n",
    "        return '{} {}'.format(self.first, self.last)\n",
    "    \n",
    "    def apply_raise(self):\n",
    "        self.pay = int(self.pay*self.raise_amt)\n",
    "        \n",
    "    \n",
    "    # repr is used mostly for other developers\n",
    "    def __repr__(self):\n",
    "        # instead of <__main__.Employee object at 0x7fce192e6ed0> it will\n",
    "        # output something that would be undersatndable\n",
    "        return \"Employee('{}', '{}', {})\".format(self.first, self.last, self.pay)\n",
    "    \n",
    "    \n",
    "    # str is mostly used for readable representation of the object\n",
    "    def __str__(self):\n",
    "        return '{}-{}'.format(self.fullname(), self.email)\n",
    "    \n",
    "    \n",
    "    def __add__(self, other): #self: 1 employee object; #other: another employee object\n",
    "        return self.pay + other.pay"
   ]
  },
  {
   "cell_type": "code",
   "execution_count": 98,
   "metadata": {},
   "outputs": [
    {
     "name": "stdout",
     "output_type": "stream",
     "text": [
      "110000\n"
     ]
    }
   ],
   "source": [
    "emp_1 = Employee('Sayantan','Mitra',50000)\n",
    "emp_2 = Employee('Annabelle','Wilde',60000)\n",
    "print(emp_1+emp_2)"
   ]
  },
  {
   "cell_type": "code",
   "execution_count": 100,
   "metadata": {},
   "outputs": [
    {
     "ename": "NameError",
     "evalue": "name 'add' is not defined",
     "output_type": "error",
     "traceback": [
      "\u001b[0;31m---------------------------------------------------------------------------\u001b[0m",
      "\u001b[0;31mNameError\u001b[0m                                 Traceback (most recent call last)",
      "\u001b[0;32m<ipython-input-100-026295b5aeef>\u001b[0m in \u001b[0;36m<module>\u001b[0;34m\u001b[0m\n\u001b[0;32m----> 1\u001b[0;31m \u001b[0mprint\u001b[0m\u001b[0;34m(\u001b[0m\u001b[0madd\u001b[0m\u001b[0;34m(\u001b[0m\u001b[0memp_1\u001b[0m\u001b[0;34m,\u001b[0m\u001b[0memp_2\u001b[0m\u001b[0;34m)\u001b[0m\u001b[0;34m)\u001b[0m\u001b[0;34m\u001b[0m\u001b[0;34m\u001b[0m\u001b[0m\n\u001b[0m",
      "\u001b[0;31mNameError\u001b[0m: name 'add' is not defined"
     ]
    }
   ],
   "source": [
    "print(add(emp_1,emp_2))"
   ]
  },
  {
   "cell_type": "markdown",
   "metadata": {},
   "source": [
    "**Can we have a special method returning length of the full name of employee**"
   ]
  },
  {
   "cell_type": "code",
   "execution_count": 81,
   "metadata": {},
   "outputs": [
    {
     "name": "stdout",
     "output_type": "stream",
     "text": [
      "4\n",
      "4\n"
     ]
    }
   ],
   "source": [
    "# len is also a special/dunder/magic method\n",
    "print(len('test'))\n",
    "print('test'.__len__())"
   ]
  },
  {
   "cell_type": "code",
   "execution_count": 82,
   "metadata": {},
   "outputs": [
    {
     "ename": "TypeError",
     "evalue": "object of type 'Employee' has no len()",
     "output_type": "error",
     "traceback": [
      "\u001b[0;31m---------------------------------------------------------------------------\u001b[0m",
      "\u001b[0;31mTypeError\u001b[0m                                 Traceback (most recent call last)",
      "\u001b[0;32m<ipython-input-82-d7de67d5f226>\u001b[0m in \u001b[0;36m<module>\u001b[0;34m\u001b[0m\n\u001b[0;32m----> 1\u001b[0;31m \u001b[0mprint\u001b[0m\u001b[0;34m(\u001b[0m\u001b[0mlen\u001b[0m\u001b[0;34m(\u001b[0m\u001b[0memp_1\u001b[0m\u001b[0;34m)\u001b[0m\u001b[0;34m)\u001b[0m\u001b[0;34m\u001b[0m\u001b[0;34m\u001b[0m\u001b[0m\n\u001b[0m",
      "\u001b[0;31mTypeError\u001b[0m: object of type 'Employee' has no len()"
     ]
    }
   ],
   "source": [
    "print(len(emp_1))"
   ]
  },
  {
   "cell_type": "code",
   "execution_count": 84,
   "metadata": {},
   "outputs": [],
   "source": [
    "class Employee:\n",
    "    \n",
    "    num_of_emps = 0\n",
    "    raise_amt = 1.04\n",
    "    \n",
    "    def __init__(self, first, last, pay):\n",
    "        self.first = first\n",
    "        self.last = last\n",
    "        self.pay = pay\n",
    "        self.email = first + '.' + last + '@company.com'\n",
    "        Employee.num_of_emps += 1\n",
    "    \n",
    "    # each method within the class automatically takes \n",
    "    # the instance of the class as the first argument\n",
    "    # so we have to provide 'self' as the first argument\n",
    "    def fullname(self):\n",
    "        return '{} {}'.format(self.first, self.last)\n",
    "    \n",
    "    def apply_raise(self):\n",
    "        self.pay = int(self.pay*self.raise_amt)\n",
    "        \n",
    "    \n",
    "    # repr is used mostly for other developers\n",
    "    def __repr__(self):\n",
    "        # instead of <__main__.Employee object at 0x7fce192e6ed0> it will\n",
    "        # output something that would be undersatndable\n",
    "        return \"Employee('{}', '{}', {})\".format(self.first, self.last, self.pay)\n",
    "    \n",
    "    \n",
    "    # str is mostly used for readable representation of the object\n",
    "    def __str__(self):\n",
    "        return '{}-{}'.format(self.fullname(), self.email)\n",
    "    \n",
    "    \n",
    "    def __add__(self, other): #self: 1 employee object; #other: another employee object\n",
    "        return self.pay + other.pay\n",
    "    \n",
    "    \n",
    "    def __len__(self):\n",
    "        return len(self.fullname())"
   ]
  },
  {
   "cell_type": "code",
   "execution_count": 85,
   "metadata": {},
   "outputs": [
    {
     "name": "stdout",
     "output_type": "stream",
     "text": [
      "14\n",
      "14\n"
     ]
    }
   ],
   "source": [
    "emp_1 = Employee('Sayantan','Mitra',50000)\n",
    "emp_2 = Employee('Annabelle','Wilde',60000)\n",
    "print(len(emp_1))\n",
    "print(emp_1.__len__())"
   ]
  },
  {
   "cell_type": "markdown",
   "metadata": {},
   "source": [
    "# 6. Property Decorator: Getters, Setters, and Deleters"
   ]
  },
  {
   "cell_type": "code",
   "execution_count": 101,
   "metadata": {},
   "outputs": [],
   "source": [
    "class Employee:\n",
    "    \n",
    "    num_of_emps = 0\n",
    "    raise_amt = 1.04\n",
    "    \n",
    "    def __init__(self, first, last, pay):\n",
    "        self.first = first\n",
    "        self.last = last\n",
    "        self.pay = pay\n",
    "        self.email = first + '.' + last + '@company.com'\n",
    "        Employee.num_of_emps += 1\n",
    "    \n",
    "    # each method within the class automatically takes \n",
    "    # the instance of the class as the first argument\n",
    "    # so we have to provide 'self' as the first argument\n",
    "    def fullname(self):\n",
    "        return '{} {}'.format(self.first, self.last)"
   ]
  },
  {
   "cell_type": "code",
   "execution_count": 103,
   "metadata": {},
   "outputs": [
    {
     "name": "stdout",
     "output_type": "stream",
     "text": [
      "Sayantan\n",
      "Sayantan.Mitra@company.com\n",
      "Sayantan Mitra\n"
     ]
    }
   ],
   "source": [
    "emp_1 = Employee('Sayantan','Mitra',50000)\n",
    "#emp_2 = Employee('Annabelle','Wilde',60000)\n",
    "\n",
    "print(emp_1.first)\n",
    "print(emp_1.email)\n",
    "print(emp_1.fullname())"
   ]
  },
  {
   "cell_type": "markdown",
   "metadata": {},
   "source": [
    "If we change the first name we see `first` changes as well as `fullname` changes but not email (it has the old name).\n",
    "\n",
    "\n",
    "`fullname` don't have this issue because when we run this method it gets the updated `first`"
   ]
  },
  {
   "cell_type": "code",
   "execution_count": 105,
   "metadata": {},
   "outputs": [
    {
     "name": "stdout",
     "output_type": "stream",
     "text": [
      "Anna\n",
      "Sayantan.Mitra@company.com\n",
      "Anna Mitra\n"
     ]
    }
   ],
   "source": [
    "emp_1 = Employee('Sayantan','Mitra',50000)\n",
    "#emp_2 = Employee('Annabelle','Wilde',60000)\n",
    "emp_1.first = 'Anna'\n",
    "\n",
    "\n",
    "print(emp_1.first)\n",
    "print(emp_1.email)\n",
    "print(emp_1.fullname())"
   ]
  },
  {
   "cell_type": "markdown",
   "metadata": {},
   "source": [
    "To fix this we need to use `property`. **`property`** decorator allows to access a method as an attribute"
   ]
  },
  {
   "cell_type": "code",
   "execution_count": 110,
   "metadata": {},
   "outputs": [],
   "source": [
    "class Employee:\n",
    "    \n",
    "    num_of_emps = 0\n",
    "    raise_amt = 1.04\n",
    "    \n",
    "    def __init__(self, first, last, pay):\n",
    "        self.first = first\n",
    "        self.last = last\n",
    "        self.pay = pay\n",
    "        #self.email = first + '.' + last + '@company.com'\n",
    "        Employee.num_of_emps += 1\n",
    "    \n",
    "    # each method within the class automatically takes \n",
    "    # the instance of the class as the first argument\n",
    "    # so we have to provide 'self' as the first argument\n",
    "    def fullname(self):\n",
    "        return '{} {}'.format(self.first, self.last)\n",
    "    \n",
    "    @property # Be sure to remove original email attribute\n",
    "    def email(self):\n",
    "        return '{}.{}@company.com'.format(self.first, self.last)"
   ]
  },
  {
   "cell_type": "code",
   "execution_count": 111,
   "metadata": {},
   "outputs": [
    {
     "name": "stdout",
     "output_type": "stream",
     "text": [
      "Anna\n",
      "Anna.Mitra@company.com\n",
      "Anna Mitra\n"
     ]
    }
   ],
   "source": [
    "emp_1 = Employee('Sayantan','Mitra',50000)\n",
    "#emp_2 = Employee('Annabelle','Wilde',60000)\n",
    "emp_1.first = 'Anna'\n",
    "\n",
    "\n",
    "print(emp_1.first)\n",
    "print(emp_1.email)\n",
    "print(emp_1.fullname())"
   ]
  },
  {
   "cell_type": "markdown",
   "metadata": {},
   "source": [
    "We didn't need to make use of the decorator `property` but in that case we would have to still define `email` method. And we have to change the code from `emp_1.email` to `emp_1.email()`. `property` allows to use the method as an attribute. This helps to avoid people to change the codes back and forth. Check the example below:"
   ]
  },
  {
   "cell_type": "code",
   "execution_count": 112,
   "metadata": {},
   "outputs": [],
   "source": [
    "class Employee:\n",
    "    \n",
    "    num_of_emps = 0\n",
    "    raise_amt = 1.04\n",
    "    \n",
    "    def __init__(self, first, last, pay):\n",
    "        self.first = first\n",
    "        self.last = last\n",
    "        self.pay = pay\n",
    "        #self.email = first + '.' + last + '@company.com'\n",
    "        Employee.num_of_emps += 1\n",
    "    \n",
    "    # each method within the class automatically takes \n",
    "    # the instance of the class as the first argument\n",
    "    # so we have to provide 'self' as the first argument\n",
    "    def fullname(self):\n",
    "        return '{} {}'.format(self.first, self.last)\n",
    "    \n",
    "    def email(self):\n",
    "        return '{}.{}@company.com'.format(self.first, self.last)"
   ]
  },
  {
   "cell_type": "code",
   "execution_count": 113,
   "metadata": {},
   "outputs": [
    {
     "name": "stdout",
     "output_type": "stream",
     "text": [
      "Anna\n",
      "<bound method Employee.email of <__main__.Employee object at 0x7f844159dad0>>\n",
      "Anna.Mitra@company.com\n",
      "Anna Mitra\n"
     ]
    }
   ],
   "source": [
    "emp_1 = Employee('Sayantan','Mitra',50000)\n",
    "#emp_2 = Employee('Annabelle','Wilde',60000)\n",
    "emp_1.first = 'Anna'\n",
    "\n",
    "\n",
    "print(emp_1.first)\n",
    "print(emp_1.email)\n",
    "print(emp_1.email())\n",
    "print(emp_1.fullname())"
   ]
  },
  {
   "cell_type": "markdown",
   "metadata": {},
   "source": [
    "As I removed `property` decorator, `email` can now only be called as a method."
   ]
  },
  {
   "cell_type": "markdown",
   "metadata": {},
   "source": [
    "**Can we just change fullname (which is a method) and automatically change `firstname`, `lastname`, `email`**?"
   ]
  },
  {
   "cell_type": "code",
   "execution_count": 124,
   "metadata": {},
   "outputs": [],
   "source": [
    "class Employee:\n",
    "    \n",
    "    num_of_emps = 0\n",
    "    raise_amt = 1.04\n",
    "    \n",
    "    def __init__(self, first, last, pay):\n",
    "        self.first = first\n",
    "        self.last = last\n",
    "        self.pay = pay\n",
    "        #self.email = first + '.' + last + '@company.com'\n",
    "        Employee.num_of_emps += 1\n",
    "    \n",
    "    # each method within the class automatically takes \n",
    "    # the instance of the class as the first argument\n",
    "    # so we have to provide 'self' as the first argument\n",
    "    @property\n",
    "    def fullname(self):\n",
    "        return '{} {}'.format(self.first, self.last)\n",
    "    \n",
    "    @property\n",
    "    def email(self):\n",
    "        return '{}.{}@company.com'.format(self.first, self.last)"
   ]
  },
  {
   "cell_type": "code",
   "execution_count": 125,
   "metadata": {},
   "outputs": [
    {
     "ename": "AttributeError",
     "evalue": "can't set attribute",
     "output_type": "error",
     "traceback": [
      "\u001b[0;31m---------------------------------------------------------------------------\u001b[0m",
      "\u001b[0;31mAttributeError\u001b[0m                            Traceback (most recent call last)",
      "\u001b[0;32m<ipython-input-125-900acc72ed2a>\u001b[0m in \u001b[0;36m<module>\u001b[0;34m\u001b[0m\n\u001b[1;32m      1\u001b[0m \u001b[0memp_1\u001b[0m \u001b[0;34m=\u001b[0m \u001b[0mEmployee\u001b[0m\u001b[0;34m(\u001b[0m\u001b[0;34m'Sayantan'\u001b[0m\u001b[0;34m,\u001b[0m\u001b[0;34m'Mitra'\u001b[0m\u001b[0;34m,\u001b[0m\u001b[0;36m50000\u001b[0m\u001b[0;34m)\u001b[0m\u001b[0;34m\u001b[0m\u001b[0;34m\u001b[0m\u001b[0m\n\u001b[1;32m      2\u001b[0m \u001b[0;31m#emp_2 = Employee('Annabelle','Wilde',60000)\u001b[0m\u001b[0;34m\u001b[0m\u001b[0;34m\u001b[0m\u001b[0;34m\u001b[0m\u001b[0m\n\u001b[0;32m----> 3\u001b[0;31m \u001b[0memp_1\u001b[0m\u001b[0;34m.\u001b[0m\u001b[0mfullname\u001b[0m \u001b[0;34m=\u001b[0m \u001b[0;34m'Anna Wilde'\u001b[0m\u001b[0;34m\u001b[0m\u001b[0;34m\u001b[0m\u001b[0m\n\u001b[0m\u001b[1;32m      4\u001b[0m \u001b[0;34m\u001b[0m\u001b[0m\n\u001b[1;32m      5\u001b[0m \u001b[0;34m\u001b[0m\u001b[0m\n",
      "\u001b[0;31mAttributeError\u001b[0m: can't set attribute"
     ]
    }
   ],
   "source": [
    "emp_1 = Employee('Sayantan','Mitra',50000)\n",
    "#emp_2 = Employee('Annabelle','Wilde',60000)\n",
    "emp_1.fullname = 'Anna Wilde'\n",
    "\n",
    "\n",
    "print(emp_1.first)\n",
    "print(emp_1.email)\n",
    "print(emp_1.fullname)"
   ]
  },
  {
   "cell_type": "markdown",
   "metadata": {},
   "source": [
    "So, we are getting error We have to use **`setter`** for this kind of tasks."
   ]
  },
  {
   "cell_type": "code",
   "execution_count": 127,
   "metadata": {},
   "outputs": [],
   "source": [
    "class Employee:\n",
    "    \n",
    "    num_of_emps = 0\n",
    "    raise_amt = 1.04\n",
    "    \n",
    "    def __init__(self, first, last, pay):\n",
    "        self.first = first\n",
    "        self.last = last\n",
    "        self.pay = pay\n",
    "        #self.email = first + '.' + last + '@company.com'\n",
    "        Employee.num_of_emps += 1\n",
    "    \n",
    "    # each method within the class automatically takes \n",
    "    # the instance of the class as the first argument\n",
    "    # so we have to provide 'self' as the first argument\n",
    "    @property\n",
    "    def fullname(self):\n",
    "        return '{} {}'.format(self.first, self.last)\n",
    "    \n",
    "    @fullname.setter\n",
    "    def fullname(self, name):\n",
    "        # This will help to update first and last\n",
    "        first, last = name.split(' ')\n",
    "        self.first = first\n",
    "        self.last = last\n",
    "    \n",
    "    @property\n",
    "    def email(self):\n",
    "        return '{}.{}@company.com'.format(self.first, self.last)"
   ]
  },
  {
   "cell_type": "code",
   "execution_count": 128,
   "metadata": {},
   "outputs": [
    {
     "name": "stdout",
     "output_type": "stream",
     "text": [
      "Anna\n",
      "Anna.Wilde@company.com\n",
      "Anna Wilde\n"
     ]
    }
   ],
   "source": [
    "emp_1 = Employee('Sayantan','Mitra',50000)\n",
    "#emp_2 = Employee('Annabelle','Wilde',60000)\n",
    "emp_1.fullname = 'Anna Wilde'\n",
    "\n",
    "\n",
    "print(emp_1.first)\n",
    "print(emp_1.email)\n",
    "print(emp_1.fullname)"
   ]
  },
  {
   "cell_type": "markdown",
   "metadata": {},
   "source": [
    "Now this works as because of `setter`, `first` and `last` get updated. So both `fullname` and `email` are updated with new values we incorporated."
   ]
  },
  {
   "cell_type": "markdown",
   "metadata": {},
   "source": [
    "Like **`setter`** we can also use **`deleter`**"
   ]
  },
  {
   "cell_type": "code",
   "execution_count": 130,
   "metadata": {},
   "outputs": [],
   "source": [
    "class Employee:\n",
    "    \n",
    "    num_of_emps = 0\n",
    "    raise_amt = 1.04\n",
    "    \n",
    "    def __init__(self, first, last, pay):\n",
    "        self.first = first\n",
    "        self.last = last\n",
    "        self.pay = pay\n",
    "        #self.email = first + '.' + last + '@company.com'\n",
    "        Employee.num_of_emps += 1\n",
    "    \n",
    "    # each method within the class automatically takes \n",
    "    # the instance of the class as the first argument\n",
    "    # so we have to provide 'self' as the first argument\n",
    "    @property\n",
    "    def fullname(self):\n",
    "        return '{} {}'.format(self.first, self.last)\n",
    "    \n",
    "    @fullname.setter\n",
    "    def fullname(self, name):\n",
    "        # This will help to update first and last\n",
    "        first, last = name.split(' ')\n",
    "        self.first = first\n",
    "        self.last = last\n",
    "        \n",
    "    @fullname.deleter\n",
    "    def fullname(self):\n",
    "        print('Name deleted')\n",
    "        self.first = None\n",
    "        self.last = None\n",
    "    \n",
    "    @property\n",
    "    def email(self):\n",
    "        return '{}.{}@company.com'.format(self.first, self.last)"
   ]
  },
  {
   "cell_type": "code",
   "execution_count": 131,
   "metadata": {},
   "outputs": [
    {
     "name": "stdout",
     "output_type": "stream",
     "text": [
      "Anna\n",
      "Anna.Wilde@company.com\n",
      "Anna Wilde\n",
      "Name deleted\n"
     ]
    }
   ],
   "source": [
    "emp_1 = Employee('Sayantan','Mitra',50000)\n",
    "#emp_2 = Employee('Annabelle','Wilde',60000)\n",
    "emp_1.fullname = 'Anna Wilde'\n",
    "\n",
    "\n",
    "print(emp_1.first)\n",
    "print(emp_1.email)\n",
    "print(emp_1.fullname)\n",
    "del emp_1.fullname"
   ]
  },
  {
   "cell_type": "code",
   "execution_count": 132,
   "metadata": {},
   "outputs": [
    {
     "name": "stdout",
     "output_type": "stream",
     "text": [
      "None None\n"
     ]
    }
   ],
   "source": [
    "print(emp_1.fullname)"
   ]
  }
 ],
 "metadata": {
  "hide_input": false,
  "kernelspec": {
   "display_name": "Python 3",
   "language": "python",
   "name": "python3"
  },
  "language_info": {
   "codemirror_mode": {
    "name": "ipython",
    "version": 3
   },
   "file_extension": ".py",
   "mimetype": "text/x-python",
   "name": "python",
   "nbconvert_exporter": "python",
   "pygments_lexer": "ipython3",
   "version": "3.7.4"
  },
  "varInspector": {
   "cols": {
    "lenName": 16,
    "lenType": 16,
    "lenVar": 40
   },
   "kernels_config": {
    "python": {
     "delete_cmd_postfix": "",
     "delete_cmd_prefix": "del ",
     "library": "var_list.py",
     "varRefreshCmd": "print(var_dic_list())"
    },
    "r": {
     "delete_cmd_postfix": ") ",
     "delete_cmd_prefix": "rm(",
     "library": "var_list.r",
     "varRefreshCmd": "cat(var_dic_list()) "
    }
   },
   "types_to_exclude": [
    "module",
    "function",
    "builtin_function_or_method",
    "instance",
    "_Feature"
   ],
   "window_display": false
  }
 },
 "nbformat": 4,
 "nbformat_minor": 4
}
