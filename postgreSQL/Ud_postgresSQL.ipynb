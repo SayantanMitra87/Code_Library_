{
 "cells": [
  {
   "cell_type": "markdown",
   "metadata": {},
   "source": [
    "# SQL Statement Fundamentals"
   ]
  },
  {
   "cell_type": "code",
   "execution_count": null,
   "metadata": {},
   "outputs": [],
   "source": []
  },
  {
   "cell_type": "markdown",
   "metadata": {},
   "source": [
    "<div class=\"alert alert-info\" style:\"margin:20px\"> \n",
    "    \n",
    "### SELECT<div/>"
   ]
  },
  {
   "cell_type": "markdown",
   "metadata": {},
   "source": [
    "**`SELECT * FROM table_name;`** -will select all rows and columns from the table \n",
    "\n",
    "**`SELECT column_name1, column_name2 FROM table_name;`** -will select all rows and columns from the table "
   ]
  },
  {
   "cell_type": "code",
   "execution_count": null,
   "metadata": {},
   "outputs": [],
   "source": []
  },
  {
   "cell_type": "markdown",
   "metadata": {},
   "source": [
    "<div class=\"alert alert-info\" style:\"margin:20px\"> \n",
    "    \n",
    "### DISTINCT (similar to unique in pandas)\n",
    "<div/>"
   ]
  },
  {
   "cell_type": "markdown",
   "metadata": {},
   "source": [
    "## Distinct (similar to unique in pandas)\n",
    "\n",
    "**`SELECT DISTINCT column_name1,column_name2 FROM table_name;`** -will select all UNIQUE values of that column"
   ]
  },
  {
   "cell_type": "code",
   "execution_count": null,
   "metadata": {},
   "outputs": [],
   "source": []
  },
  {
   "cell_type": "markdown",
   "metadata": {},
   "source": [
    "<div class=\"alert alert-info\" style:\"margin:20px\"> \n",
    "    \n",
    "### SELECT WHERE  (to query particular rows based on condition)\n",
    "<div/>"
   ]
  },
  {
   "cell_type": "markdown",
   "metadata": {},
   "source": [
    "## SELECT WHERE \n",
    "\n",
    "**`SELECT DISTINCT column_name1,column_name2 \n",
    "FROM table_name\n",
    "WHERE conditions;`** -will select all rows (with the columns queried) that satisfy the condition\n",
    "\n",
    "\n",
    "`AND` or `OR` or logical operators can be used for multiple conditions\n",
    "\n",
    "`< <= > >= !=` mathematical operators can be used with conditions too"
   ]
  },
  {
   "cell_type": "code",
   "execution_count": null,
   "metadata": {},
   "outputs": [],
   "source": []
  },
  {
   "cell_type": "markdown",
   "metadata": {},
   "source": [
    "<div class=\"alert alert-info\" style:\"margin:20px\"> \n",
    "    \n",
    "### COUNT  (returns number of rows selected)\n",
    "### LIMIT (controls number of rows returned)\n",
    "<div/>"
   ]
  },
  {
   "cell_type": "markdown",
   "metadata": {},
   "source": [
    "## COUNT\n",
    "**`SELECT COUNT(*) FROM table_name;`** -returns number of rows selected |dont include NaN values\n",
    "\n",
    "**`SELECT COUNT(column_name) FROM table_name;`** \n",
    "\n",
    "**`SELECT COUNT(DISTINCT column_name) FROM table_name;`**<br>"
   ]
  },
  {
   "cell_type": "markdown",
   "metadata": {},
   "source": [
    "## LIMIT\n",
    "**`SELECT * FROM table_name\n",
    "LIMIT 5;`** -returns a limited number of rows [all columns and only 5 rows]<br>"
   ]
  },
  {
   "cell_type": "code",
   "execution_count": null,
   "metadata": {},
   "outputs": [],
   "source": []
  },
  {
   "cell_type": "markdown",
   "metadata": {},
   "source": [
    "<div class=\"alert alert-info\" style:\"margin:20px\"> \n",
    "    \n",
    "### ORDER BY (*SORT* the rows return from SELECT in ascending/descending order)\n",
    "<div/>"
   ]
  },
  {
   "cell_type": "markdown",
   "metadata": {},
   "source": [
    "## ORDER BY\n",
    "\n",
    "**`SELECT column_name1,column_name2 \n",
    "FROM table_name\n",
    "ORDER BY column_name1 ASC/DESC;`** -for sorting by the values of column_1\n",
    "\n",
    "**`SELECT column_name1,column_name2 \n",
    "FROM table_name\n",
    "ORDER BY column_name1 ASC, column_2 DESC;`** -for sorting by the values of column_1 in ascending manner and then column_2 as descending manner\n",
    "\n",
    "* **`ASC:`** ascending order is the default. Not necessary to mention"
   ]
  },
  {
   "cell_type": "code",
   "execution_count": null,
   "metadata": {},
   "outputs": [],
   "source": []
  },
  {
   "cell_type": "markdown",
   "metadata": {},
   "source": [
    "<div class=\"alert alert-info\" style:\"margin:20px\"> \n",
    "    \n",
    "### BETWEEN | NOT BETWEEN\n",
    "<div/>"
   ]
  },
  {
   "cell_type": "markdown",
   "metadata": {},
   "source": [
    "**`SELECT column_name1,column_name2 FROM table_name\n",
    "WHERE column_name1 BETWEEN 8 AND 9;`** -for selecting rows where column_name1 value is between 8 and 9\n",
    "\n",
    "\n",
    "We can also use <br>\n",
    "**`SELECT column_name1,column_name2 FROM table_name\n",
    "WHERE column_name1 NOT BETWEEN 8 AND 9;`** \n",
    "\n",
    "\n",
    "We can also use <br>\n",
    "**`SELECT column_name1,column_name2 FROM table_name\n",
    "WHERE payment_date BETWEEN '2007-02-07' AND '2007=02-15';`** "
   ]
  },
  {
   "cell_type": "markdown",
   "metadata": {},
   "source": [
    "<div class=\"alert alert-info\" style:\"margin:20px\"> \n",
    "    \n",
    "### IN | NOT IN\n",
    "<div/>"
   ]
  },
  {
   "cell_type": "markdown",
   "metadata": {},
   "source": [
    "**`SELECT column_name1,column_name2 \n",
    "FROM table_name\n",
    "WHERE column_name2 IN (1,2)\n",
    "ORDER BY column_name1 DESC;`** -for sorting by the values of column_1 in the case where column_2 values are either 1 and 2\n",
    "\n",
    "* This is really valuable than using `AND | OR | BETWEEN` statements"
   ]
  },
  {
   "cell_type": "code",
   "execution_count": null,
   "metadata": {},
   "outputs": [],
   "source": []
  },
  {
   "cell_type": "markdown",
   "metadata": {},
   "source": [
    "<div class=\"alert alert-info\" style:\"margin:20px\"> \n",
    "    \n",
    "### LIKE | NOT LIKE |  ILIKE\n",
    "<div/>"
   ]
  },
  {
   "cell_type": "markdown",
   "metadata": {},
   "source": [
    "**`SELECT column_name1,column_name2 \n",
    "FROM table_name\n",
    "WHERE column_name1 LIKE 'Jen%';`** - to find rows where column_name1 contains elements that starts with Jen\n",
    "\n",
    "* Use `%` to match any NUMBER of characters\n",
    "* Use `_` to match a single character\n",
    "* If name ends with y use `'%y'`\n",
    "* even we just know the name has `er` in the name, use `'%er%'`\n",
    "* Use `'_her%'` will result into `Cheryl`\n",
    "* we can also use **`NOT LIKE`**\n",
    "\n",
    "* Use **ILIKE** to make it case-insensitive"
   ]
  },
  {
   "cell_type": "code",
   "execution_count": null,
   "metadata": {},
   "outputs": [],
   "source": []
  },
  {
   "cell_type": "markdown",
   "metadata": {},
   "source": [
    "# GROUP BY statements"
   ]
  },
  {
   "cell_type": "code",
   "execution_count": null,
   "metadata": {},
   "outputs": [],
   "source": []
  },
  {
   "cell_type": "markdown",
   "metadata": {},
   "source": [
    "<div class=\"alert alert-info\" style:\"margin:20px\"> \n",
    "    \n",
    "### MIN | MAX | SUM | AVG <div/>"
   ]
  },
  {
   "cell_type": "markdown",
   "metadata": {},
   "source": [
    "**`SELECT ROUND(AVG(column_name1),2) \n",
    "FROM table_name;`** - will prodce avergae of column_name with 2 decimal amount\n",
    "\n",
    "* These are aggregate functions <br>"
   ]
  },
  {
   "cell_type": "code",
   "execution_count": null,
   "metadata": {},
   "outputs": [],
   "source": []
  },
  {
   "cell_type": "markdown",
   "metadata": {},
   "source": [
    "<div class=\"alert alert-info\" style:\"margin:20px\"> \n",
    "    \n",
    "### GROUP BY <div/>"
   ]
  },
  {
   "cell_type": "markdown",
   "metadata": {},
   "source": [
    "**`SELECT column_name1, AVG(column_name2) \n",
    "FROM table_name\n",
    "GROUP BY column_name1;`** \n",
    "\n",
    "\n",
    "**`SELECT column_name1, AVG(column_name2) \n",
    "FROM table_name\n",
    "GROUP BY column_name1\n",
    "ORDER BY AVG(column_name2) ;`** "
   ]
  },
  {
   "cell_type": "code",
   "execution_count": null,
   "metadata": {},
   "outputs": [],
   "source": []
  },
  {
   "cell_type": "markdown",
   "metadata": {},
   "source": [
    "\n",
    "<div class=\"alert alert-info\" style:\"margin:20px\"> \n",
    "    \n",
    "### HAVING <div/>"
   ]
  },
  {
   "cell_type": "markdown",
   "metadata": {},
   "source": [
    "**`SELECT column_name1, SUM(column_name2) \n",
    "FROM table_name\n",
    "GROUP BY column_name1\n",
    "HAVING SUM(column_name2) > 200;`** \n",
    "\n",
    "**`SELECT column_name1, SUM(column_name2) \n",
    "FROM table_name\n",
    "WHERE column_name IN ('A', 'B', 'C')\n",
    "GROUP BY column_name\n",
    "HAVING SUM(column_name2) > 200;`** \n",
    "\n",
    "`HAVING` is very similar to `WHERE` statement. `HAVING` is used after the GROUP BY statement. `WHERE` is used before GROUP BY"
   ]
  },
  {
   "cell_type": "code",
   "execution_count": null,
   "metadata": {},
   "outputs": [],
   "source": []
  },
  {
   "cell_type": "markdown",
   "metadata": {},
   "source": [
    "# JOINS"
   ]
  },
  {
   "cell_type": "code",
   "execution_count": null,
   "metadata": {},
   "outputs": [],
   "source": []
  },
  {
   "cell_type": "markdown",
   "metadata": {},
   "source": [
    "<div class=\"alert alert-info\" style:\"margin:20px\"> \n",
    "    \n",
    "### AS <div/>"
   ]
  },
  {
   "cell_type": "markdown",
   "metadata": {},
   "source": [
    "* `AS` allows us to rename columns (really useful with groupby)\n",
    "\n",
    "**`SELECT column_name1, SUM(column_name2) AS total_spent\n",
    "FROM table_name\n",
    "GROUP BY column_name1;`** - here total_Spent becomes the new column name after group by\n",
    "\n",
    "* More advanced people just use a `<space>` <br>\n",
    "**`SELECT column_name1, SUM(column_name2) total_spent\n",
    "FROM table_name\n",
    "GROUP BY column_name1;`**"
   ]
  },
  {
   "cell_type": "code",
   "execution_count": null,
   "metadata": {},
   "outputs": [],
   "source": []
  },
  {
   "cell_type": "markdown",
   "metadata": {},
   "source": [
    "<div class=\"alert alert-info\" style:\"margin:20px\"> \n",
    "    \n",
    "### Overview of INNER JOINS: returns the common rows  <div/>"
   ]
  },
  {
   "cell_type": "markdown",
   "metadata": {},
   "source": [
    "**`SELECT A.column1, A.column2, B.column1, B.column2\n",
    "FROM A\n",
    "INNER JOIN B ON A.column1 = B.column2\n",
    "WHERE A.column2 = 2\n",
    "ORDER BY A.column1;`** # or just column1 if column1 is **unique** to a table\n",
    "\n",
    "* two tables name: `A`, and `B` <br>\n",
    "* column1 from Table A and column2 from Table B are same, so join by them <br>\n",
    "* For columns unique to only one Table (example- if column `start_date` is only present in Table A, we dont have to mention `dot` annotation as SQL already knows which table it is from as the other table dont have the similar named column) so just use `start_date` instead of `A.start_date`\n",
    "\n",
    "\n",
    "* 1st line: Specify the column that we need along with which table they belongs to <br>\n",
    "* 2nd line: Specify the main table  <br>\n",
    "* 3rd line: Use `INNER JOIN` and `ON`\n",
    "\n",
    "\n",
    "\n",
    " * **Instead of `INNER JOIN` we can use `JOIN`**"
   ]
  },
  {
   "cell_type": "code",
   "execution_count": null,
   "metadata": {},
   "outputs": [],
   "source": []
  },
  {
   "cell_type": "markdown",
   "metadata": {},
   "source": [
    "<div class=\"alert alert-info\" style:\"margin:20px\"> \n",
    "    \n",
    "### Examples of INNER JOINS: returns the common rows  <div/>"
   ]
  },
  {
   "cell_type": "code",
   "execution_count": null,
   "metadata": {},
   "outputs": [],
   "source": []
  },
  {
   "cell_type": "markdown",
   "metadata": {},
   "source": [
    "<div class=\"alert alert-info\" style:\"margin:20px\"> \n",
    "### JOINS: <div/>\n",
    "<img src=\"1UKp7.png\" width=\"840\" height=\"540\" align=\"center\"/>"
   ]
  },
  {
   "cell_type": "markdown",
   "metadata": {},
   "source": [
    "* **INNER JOIN** produces whatever is common in both tables\n",
    "<br>\n",
    "<br>\n",
    "* **FULL OUTER JOIN** produces everything in both tables, records absent will show null\n",
    "<br>\n",
    "<br>\n",
    "* **FULL OUTER JOIN with WHERE** produces everything that is UNIQUE in both tables, \n",
    "<br>\n",
    "<br>\n",
    "* **LEFT OUTER JOIN** produces everything that is in the left table, and for right table only whatever is common between left and right table\n",
    "<br>\n",
    "<br>\n",
    "* **RIGHT OUTER JOIN** produces everything that is in the RIGHT table, and for LEFT table only whatever is common between left and right table\n",
    "<br>\n",
    "<br>\n",
    "* **LEFT OUTER JOIN with WHERE** produces everything that is in left table except what is NOT in right table\n",
    "<br>\n",
    "<br>\n",
    "* **RIGHT OUTER JOIN with WHERE** produces everything that is in right table except what is NOT in left table"
   ]
  },
  {
   "cell_type": "markdown",
   "metadata": {},
   "source": [
    "<div class=\"alert alert-info\" style:\"margin:20px\"> \n",
    "### INNER JOINS: <div/>\n",
    "<img src=\"1.png\" width=\"840\" height=\"540\" align=\"center\"/>"
   ]
  },
  {
   "cell_type": "markdown",
   "metadata": {},
   "source": [
    "<div class=\"alert alert-info\" style:\"margin:20px\"> \n",
    "### FULL OUTER JOINS: <div/>\n",
    "<img src=\"2.png\" width=\"840\" height=\"540\" align=\"center\"/>"
   ]
  },
  {
   "cell_type": "markdown",
   "metadata": {},
   "source": [
    "<div class=\"alert alert-info\" style:\"margin:20px\"> \n",
    "### FULL OUTER JOINS WITH WHERE: <div/>\n",
    "<img src=\"5.png\" width=\"840\" height=\"540\" align=\"center\"/>"
   ]
  },
  {
   "cell_type": "markdown",
   "metadata": {},
   "source": [
    "<div class=\"alert alert-info\" style:\"margin:20px\"> \n",
    "### LEFT OUTER JOINS OR LEFT JOIN: <div/>\n",
    "<img src=\"3.png\" width=\"840\" height=\"540\" align=\"center\"/>"
   ]
  },
  {
   "cell_type": "markdown",
   "metadata": {},
   "source": [
    "<div class=\"alert alert-info\" style:\"margin:20px\"> \n",
    "### LEFT OUTER JOINS WITH WHERE: <div/>\n",
    "<img src=\"4.png\" width=\"840\" height=\"540\" align=\"center\"/>"
   ]
  },
  {
   "cell_type": "markdown",
   "metadata": {},
   "source": []
  },
  {
   "cell_type": "markdown",
   "metadata": {},
   "source": [
    "<div class=\"alert alert-info\" style:\"margin:20px\"> \n",
    "    \n",
    "### LEFT OUTER JOIN or LEFT JOIN  <div/>"
   ]
  },
  {
   "cell_type": "markdown",
   "metadata": {},
   "source": [
    "* **LEFT OUTER JOIN** produces everything that is in the left table, and for right table only whatever is common between left and right table\n",
    "<br>\n",
    "<br>\n",
    "\n",
    "**`SELECT A.column1, A.column2, B.column1, B.column2\n",
    "FROM A\n",
    "LEFT OUTER JOIN B ON A.column1 = B.column2;`**\n",
    "<br>\n",
    "<br>\n",
    "\n",
    "**To find all the rows that has null values**<br>\n",
    "**`SELECT A.column1, A.column2, B.column1, B.column2\n",
    "FROM A\n",
    "LEFT OUTER JOIN B ON A.column1 = B.column2\n",
    "WHERE B.column2 IS NULL;`** |**OR** `WHERE column2 IS NULL;`"
   ]
  },
  {
   "cell_type": "code",
   "execution_count": null,
   "metadata": {},
   "outputs": [],
   "source": []
  },
  {
   "cell_type": "markdown",
   "metadata": {},
   "source": [
    "<div class=\"alert alert-info\" style:\"margin:20px\"> \n",
    "    \n",
    "### UNION  <div/>"
   ]
  },
  {
   "cell_type": "markdown",
   "metadata": {},
   "source": [
    "**`SELECT column1, column2\n",
    "FROM Table_A\n",
    "UNION\n",
    "SELECT column_M, column_N\n",
    "FROM Table_B;`**\n",
    "\n",
    "* If we use `UNION` DUPLICATE ROWS are deleted. To prevent this we have to use `UNION ALL`"
   ]
  },
  {
   "cell_type": "code",
   "execution_count": null,
   "metadata": {},
   "outputs": [],
   "source": []
  },
  {
   "cell_type": "markdown",
   "metadata": {},
   "source": [
    "# Advanced SQL Commands"
   ]
  },
  {
   "cell_type": "markdown",
   "metadata": {},
   "source": [
    "<div class=\"alert alert-info\" style:\"margin:20px\"> \n",
    "    \n",
    "### Timestamps & EXTRACT <div/>"
   ]
  },
  {
   "cell_type": "markdown",
   "metadata": {},
   "source": [
    "<img src=\"EXTRACT.png\" width=\"840\" height=\"640\" align=\"center\"/>\n",
    "\n",
    "[More info](https://www.postgresql.org/docs/9.6/functions-datetime.html)"
   ]
  },
  {
   "cell_type": "markdown",
   "metadata": {},
   "source": [
    "**`SELECT extract (unit from date_column) FROM Table_A;`**\n",
    "\n",
    "\n",
    "example<br>\n",
    "**`SELECT extract (day from date_column) FROM Table_A;`**"
   ]
  },
  {
   "cell_type": "code",
   "execution_count": null,
   "metadata": {},
   "outputs": [],
   "source": []
  },
  {
   "cell_type": "markdown",
   "metadata": {},
   "source": [
    "<div class=\"alert alert-info\" style:\"margin:20px\"> \n",
    "    \n",
    "### Mathematical Functions <div/>"
   ]
  },
  {
   "cell_type": "markdown",
   "metadata": {},
   "source": [
    "[Documentation](https://www.postgresql.org/docs/9.5/functions-math.html)\n",
    "\n",
    "* Use any mathmatical operator such as `-`, `*`, `/` <br>\n",
    "**`SELECT column_A + column_B FROM Table_1;`**\n",
    "\n",
    "\n",
    "\n",
    "* **`SELECT AVG(column_A) FROM Table_1;`** Here we can replace AVG with any other mathematical function from documentation"
   ]
  },
  {
   "cell_type": "code",
   "execution_count": null,
   "metadata": {},
   "outputs": [],
   "source": []
  },
  {
   "cell_type": "markdown",
   "metadata": {},
   "source": [
    "<div class=\"alert alert-info\" style:\"margin:20px\"> \n",
    "    \n",
    "### String Function & Operators <div/>"
   ]
  },
  {
   "cell_type": "markdown",
   "metadata": {},
   "source": [
    "[Documentation](https://www.postgresql.org/docs/9.1/functions-string.html)\n",
    "\n",
    "\n",
    "* concatenation with a space in between <br>\n",
    "**`SELECT column_A || column_B FROM Table_1;`**\n",
    "\n",
    "* **`SELECT char_length(column_A) FROM Table_1;`** Replace char_length function with other functions from documentation\n",
    "\n",
    "* **Regular expression** can be used and is in documentation"
   ]
  },
  {
   "cell_type": "code",
   "execution_count": null,
   "metadata": {},
   "outputs": [],
   "source": []
  },
  {
   "cell_type": "markdown",
   "metadata": {},
   "source": [
    "<div class=\"alert alert-info\" style:\"margin:20px\"> \n",
    "    \n",
    "### Subquery <div/>"
   ]
  },
  {
   "cell_type": "markdown",
   "metadata": {},
   "source": [
    "* A subquery allows to use multiple `SELECT` statements. This is almost a query within a query\n",
    "\n",
    "To find the rows where price is greater than avergae price generally we need 2 steps: <br>\n",
    "\n",
    "\n",
    "**`SELECT AVG(price) FROM shop;`** suppose result is 5\n",
    "\n",
    "**`SELECT price\n",
    "FROM shop\n",
    "WHERE price > 5;`**\n",
    "\n",
    "\n",
    "With `subquery` we can do that in 1 step\n",
    "\n",
    "**`SELECT price\n",
    "FROM shop\n",
    "WHERE price > (SELECT AVG(price) FROM shop);`**\n",
    "\n",
    "\n",
    "* If subquery returns a lot SINGLE NUMBER/STRING USE comparison operators\n",
    "* If subquery returns a lot of rows use `IN` for example `WHERE price IN (SUBQUERY STATEMENT);`"
   ]
  },
  {
   "cell_type": "code",
   "execution_count": null,
   "metadata": {},
   "outputs": [],
   "source": []
  },
  {
   "cell_type": "markdown",
   "metadata": {},
   "source": [
    "<div class=\"alert alert-info\" style:\"margin:20px\"> \n",
    "    \n",
    "### Self-Join <div/>"
   ]
  },
  {
   "cell_type": "markdown",
   "metadata": {},
   "source": [
    "* `Self-Join` joins the same table to itself\n",
    "\n",
    "* **common interview question:** [Manager employee self join](https://stackoverflow.com/questions/11427300/self-join-to-get-employee-manager-name)\n",
    "\n",
    "`SELECT b.emp_id, b.emp_name,e.emp_id as managerID, e.emp_name as managerName\n",
    "FROM Employee AS b\n",
    "JOIN Employee AS e ON b.emp_ID = e.emp_mgr_id`\n",
    "    \n",
    "\n",
    "**OR** <br>\n",
    "`SELECT e1.column\n",
    "FROM Employee AS e1, Employee AS e2\n",
    "WHERE\n",
    "e1.column2 = e2.column2\n",
    "AND E2.column = 'abc';`\n",
    "\n",
    "\n",
    "**MORE examples** Output where a.column1  and b.column2 are same <br>\n",
    "`SELECT a.column1, a.column2, b.column1, b.column2\n",
    "FROM Table_name AS a, Table_name AS b\n",
    "WHERE a.column1 = b.column2;` <br>\n",
    "**Alternative way**\n",
    "`SELECT a.column1, a.column2, b.column1, b.column2\n",
    "FROM Table_name AS a\n",
    "JOIN Table_name AS b\n",
    "ON a.column1 = b.column2;`"
   ]
  },
  {
   "cell_type": "code",
   "execution_count": null,
   "metadata": {},
   "outputs": [],
   "source": []
  },
  {
   "cell_type": "markdown",
   "metadata": {},
   "source": [
    "# Creating Databases and Tables"
   ]
  },
  {
   "cell_type": "markdown",
   "metadata": {},
   "source": [
    "<div class=\"alert alert-info\" style:\"margin:20px\"> \n",
    "    \n",
    "### Data Types <div/>"
   ]
  },
  {
   "cell_type": "markdown",
   "metadata": {},
   "source": [
    "**Boolean:** *boolean* or *bool* keywords are used to declare type of a column Boolean datatype. 1, yes, y, t will be converted to `true` and 0, no, false will be converted to `false`. PostgreSQL display `t` for true, `f` for false, and `space` character for Null.\n",
    "\n",
    "**Character** PostgreSQL has 3 type of character datatype. \n",
    "1. A single character: char\n",
    "2. Fixed-length character strings: char(n)\n",
    "3. Variable-length character strings: varchar(n)\n",
    "\n",
    "**Number**\n",
    "1. Integer: smallint, int, serial (auto increments)\n",
    "2. Floating point numbers: float(n), real | float8, numeric | numeric(p,s) (p number of digits with s number after decimal points)\n",
    "\n",
    "**Temporal** stores date and time\n",
    "1. date (stores date data),\n",
    "2. time (stores time data), \n",
    "3. timestamp (stores date and time), \n",
    "4. interval(difference in timestamps), \n",
    "5. timestamptz (store both timestamp and timezone data)"
   ]
  },
  {
   "cell_type": "code",
   "execution_count": null,
   "metadata": {},
   "outputs": [],
   "source": []
  },
  {
   "cell_type": "markdown",
   "metadata": {},
   "source": [
    "<div class=\"alert alert-info\" style:\"margin:20px\"> \n",
    "    \n",
    "### Primary and Foreign Keys <div/>"
   ]
  },
  {
   "cell_type": "markdown",
   "metadata": {},
   "source": [
    "**Primary key:** Each table can have one primary key to uniquely identify a row in the table \n",
    "\n",
    "**Foreign key:** Foreign key uniquely identifies rows in another table i.e. the column acting as a foreign key in 1 table is actually a primary key in a different table. table that contains foreign key is called *Child table*. The table where the foreign key is a primary key is called *Parent table*"
   ]
  },
  {
   "cell_type": "markdown",
   "metadata": {},
   "source": [
    "<div class=\"alert alert-info\" style:\"margin:20px\"> \n",
    "    \n",
    "### Create Database <div/>"
   ]
  },
  {
   "cell_type": "markdown",
   "metadata": {},
   "source": [
    "`CREATE DATABASE database_name;` or could be created manually from pgAdmin4"
   ]
  },
  {
   "cell_type": "markdown",
   "metadata": {},
   "source": [
    "<div class=\"alert alert-info\" style:\"margin:20px\"> \n",
    "    \n",
    "### Create Table <div/>"
   ]
  },
  {
   "cell_type": "markdown",
   "metadata": {},
   "source": [
    "**Code format**\n",
    "\n",
    "**`CREATE TABLE table_name\n",
    "(column_name TYPE column_constraint, table_constraint)\n",
    "INHERITS existing_table_name;`** : Inherit part is optional\n",
    "\n",
    "\n",
    "**Column constraint:** <br>\n",
    "`NOT NULL`: Column value can NOT be Null<br>\n",
    "`UNIQUE`: Column value should be unique across the entire table <br>(PostgreSQL (unlike SQL) treats each Null value as unique, so unique column can have multiple null values)<br>\n",
    "`PRIMARY KEY`: combination of NOT NULL and UNIQUE constraints<br>\n",
    "`CHECK`: check a condition when one insert or update a data (example price column should always have positive values when a new value is update)<br>\n",
    "`REFERENCES`: When value of a column of a table exists in a column of another table. i.e. used for foreign key\n",
    "\n",
    "\n",
    "**Table constraint:** <br>\n",
    "similar to column constraint but these are applicable to entire table\n",
    "`UNIQUE`, `PRIMARY KEY`, `CHECK`, `REFERENCES`"
   ]
  },
  {
   "cell_type": "markdown",
   "metadata": {},
   "source": [
    "**Example of new table creation**\n",
    "\n",
    "**Table 1:**<br>\n",
    "**`CREATE TABLE account(\n",
    "user_id serial PRIMARY KEY,\n",
    "username VARCHAR (50) UNIQUE NOT NULL, \n",
    "password VARCHAR (50) NOT NULL,\n",
    "email VARCHAR (355) UNIQUE NOT NULL,\n",
    "created_on TIMESTAMP NOT NULL,\n",
    "last_login TIMESTAMP\n",
    ");`**\n",
    "\n",
    "Username needs to be unique and thats why `UNIQUE`constraint and it should nt be left empty thats why constraint `NOT NULL`"
   ]
  },
  {
   "cell_type": "markdown",
   "metadata": {},
   "source": [
    "**Table 2:** <br>\n",
    "**`CREATE TABLE role(\n",
    "role_id serial PRIMARY KEY,\n",
    "role_name VARCHAR (255) UNIQUE NOT NULL\n",
    ");`**"
   ]
  },
  {
   "cell_type": "markdown",
   "metadata": {},
   "source": [
    "**Table 3: This connects table 1 and 2**<br>\n",
    "**`CREATE TABLE account_role\n",
    "(\n",
    "  user_id integer NOT NULL,\n",
    "  role_id integer NOT NULL,\n",
    "  grant_date timestamp without time zone,\n",
    "  PRIMARY KEY (user_id, role_id),\n",
    "  CONSTRAINT account_role_role_id_fkey FOREIGN KEY (role_id)\n",
    "      REFERENCES role (role_id) MATCH SIMPLE\n",
    "      ON UPDATE NO ACTION ON DELETE NO ACTION,    \n",
    "  CONSTRAINT account_role_user_id_fkey FOREIGN KEY (user_id)\n",
    "      REFERENCES account (user_id) MATCH SIMPLE\n",
    "      ON UPDATE NO ACTION ON DELETE NO ACTION\n",
    ")`**\n",
    "\n",
    "\n",
    "\n",
    "\n",
    "**Another example:** <br>\n",
    "**`CREATE TABLE students(\n",
    "student_id SERIAL PRIMARY KEY,\n",
    "first_name VARCHAR(50) NOT NULL,\n",
    "last_name VARCHAR(50) NOT NULL,\n",
    "homeroom_number integer,\n",
    "phone integer UNIQUE NOT NULL,\n",
    "email varchar(100) UNIQUE,\n",
    "graduation_year integer);`**"
   ]
  },
  {
   "cell_type": "code",
   "execution_count": null,
   "metadata": {},
   "outputs": [],
   "source": []
  },
  {
   "cell_type": "markdown",
   "metadata": {},
   "source": [
    "<div class=\"alert alert-info\" style:\"margin:20px\"> \n",
    "    \n",
    "### Insert <div/>"
   ]
  },
  {
   "cell_type": "markdown",
   "metadata": {},
   "source": [
    "**To insert one or more rows to a newly created table**<br>\n",
    "**`INSERT INTO table__name(column1, column2)\n",
    "VALUES(value1, value2);`** # Value1 will be inserted into column1 and value2 will be inserted in column2\n",
    "\n",
    "**Insert MULTIPLE rows** <br>\n",
    "**`INSERT INTO table__name(column1, column2)\n",
    "VALUES(value1, value2),\n",
    "      (value1, value2);`**\n",
    "      \n",
    "**Insert data from another table** <br>\n",
    "**`INSERT INTO table__name\n",
    "SELECT column1, column2 \n",
    "FROM another_table\n",
    "WHERE condition;`** # where coditionals is NOT manadatory  # column1, column2 are from another_table\n",
    "\n",
    "\n",
    "**Make copy of a table**<br> Only copies name of the column or the schema of the table\n",
    "**`CREATE TABLE new_table_name(LIKE old_table_name);`**"
   ]
  },
  {
   "cell_type": "code",
   "execution_count": null,
   "metadata": {},
   "outputs": [],
   "source": []
  },
  {
   "cell_type": "markdown",
   "metadata": {},
   "source": [
    "<div class=\"alert alert-info\" style:\"margin:20px\"> \n",
    "    \n",
    "### Update <div/>"
   ]
  },
  {
   "cell_type": "markdown",
   "metadata": {},
   "source": [
    "**`UPDATE table_name\n",
    "SET column1=value1,\n",
    "    column2=value2,\n",
    "WHERE condition;`** WHERE is NOT mandatory\n",
    "\n",
    "\n",
    "*To make column1 inputs like column2*<br>\n",
    "**`UPDATE table_name\n",
    "SET column1=column2;`**\n",
    "\n",
    "*To just see the changes add one line with **`RETURNING`*<br>\n",
    "**`UPDATE table_name\n",
    "SET column1=value1\n",
    "WHERE column2=value2\n",
    "RETURNING column1, column2, column3, column4;`**"
   ]
  },
  {
   "cell_type": "code",
   "execution_count": null,
   "metadata": {},
   "outputs": [],
   "source": []
  },
  {
   "cell_type": "markdown",
   "metadata": {},
   "source": [
    "<div class=\"alert alert-info\" style:\"margin:20px\"> \n",
    "    \n",
    "### Delete <div/>"
   ]
  },
  {
   "cell_type": "markdown",
   "metadata": {},
   "source": [
    "**`DELETE FROM table_name\n",
    "WHERE condition`** If WHERE condition is not mentioned, all rows will be deleted\n",
    "\n",
    "\n",
    "*To ONLY see deleted rows*<br>\n",
    "**`DELETE FROM table_name\n",
    "WHERE condition\n",
    "RETURNING *`** Here `*` will return all columns Or we can select the specific columns that has been DELETED"
   ]
  },
  {
   "cell_type": "code",
   "execution_count": null,
   "metadata": {},
   "outputs": [],
   "source": []
  },
  {
   "cell_type": "markdown",
   "metadata": {},
   "source": [
    "<div class=\"alert alert-info\" style:\"margin:20px\"> \n",
    "    \n",
    "### Alter Table <div/>"
   ]
  },
  {
   "cell_type": "markdown",
   "metadata": {},
   "source": [
    "**`ALTER TABLE table_name ACTION`** \n",
    "\n",
    "**Different types of actions possible**<br>\n",
    "-Add, remove, or rename column<br>\n",
    "-Set default value of column<br>\n",
    "-Add CHECK constraint to a column<br>\n",
    "-Rename a table<br>\n",
    "\n",
    "\n",
    "**`DROP TABLE IF EXISTS table_name;`** # This removes a table\n",
    "\n",
    "*Add a Boolean type column<br>*\n",
    "**`ALTER TABLE table_name ADD COLUMN new_column_name boolean;`** \n",
    "\n",
    "*Drop a column<br>*\n",
    "**`ALTER TABLE table_name DROP COLUMN column_name;`** \n",
    "\n",
    "*Rename a column<br>*\n",
    "**`ALTER TABLE table_name RENAME COLUMN column_name TO new_column_name;`** \n",
    "\n",
    "*Rename the entire Table<br>*\n",
    "**`ALTER TABLE table_name RENAME TO new_table_name;`** "
   ]
  },
  {
   "cell_type": "code",
   "execution_count": null,
   "metadata": {},
   "outputs": [],
   "source": []
  },
  {
   "cell_type": "markdown",
   "metadata": {},
   "source": [
    "<div class=\"alert alert-info\" style:\"margin:20px\"> \n",
    "    \n",
    "### Drop Table <div/>"
   ]
  },
  {
   "cell_type": "markdown",
   "metadata": {},
   "source": [
    "**`DROP TABLE IF EXISTS table_name;`** # `IF EXISTS` is used to avoid error if table is not present in the database.\n",
    "\n",
    "If we want to drop a table and table has constrainsts or other object has dependencies on the table we have to use `CASCADE` <br>\n",
    "**`DROP TABLE IF EXISTS table_name CASCADE`** "
   ]
  },
  {
   "cell_type": "code",
   "execution_count": null,
   "metadata": {},
   "outputs": [],
   "source": []
  },
  {
   "cell_type": "markdown",
   "metadata": {},
   "source": [
    "<div class=\"alert alert-info\" style:\"margin:20px\"> \n",
    "    \n",
    "### CHECK Constraint <div/>"
   ]
  },
  {
   "cell_type": "markdown",
   "metadata": {},
   "source": [
    "* If values of the column pass CHECK (boolean check), PostgreSQL will insert or update the row.\n",
    "\n",
    "**`CREATE TABLE new_users(\n",
    "user_id serial PRIMARY KEY,\n",
    "username VARCHAR(50) NOT NULL, \n",
    "birthdate DATE CHECK(birthdate > '1900=01-01'),\n",
    "joindate DATE CHECK(joindate > birthdate),\n",
    "salary integer CHECK(salary > 0)\n",
    ");`**"
   ]
  },
  {
   "cell_type": "code",
   "execution_count": null,
   "metadata": {},
   "outputs": [],
   "source": []
  },
  {
   "cell_type": "markdown",
   "metadata": {},
   "source": [
    "<div class=\"alert alert-info\" style:\"margin:20px\"> \n",
    "    \n",
    "### NOT-NULL Constraint <div/>"
   ]
  },
  {
   "cell_type": "markdown",
   "metadata": {},
   "source": [
    "**Null means `unknown` or `missing` data. It is DIFFERENT from `empty string` or `zero` value.**\n",
    "\n",
    "* If we dont want a column to have NULL values, we need to pass the **constraint `NOT NULL`**"
   ]
  },
  {
   "cell_type": "markdown",
   "metadata": {},
   "source": [
    "<div class=\"alert alert-info\" style:\"margin:20px\"> \n",
    "    \n",
    "### UNIQUE Constraint <div/>"
   ]
  },
  {
   "cell_type": "markdown",
   "metadata": {},
   "source": [
    "**UNIQUE constraint** makes sure the value inserted or updated in the row is NOT present before"
   ]
  },
  {
   "cell_type": "markdown",
   "metadata": {},
   "source": [
    "**`CREATE TABLE account(\n",
    "user_id serial PRIMARY KEY,\n",
    "username VARCHAR(50) UNIQUE NOT NULL, \n",
    "password VARCHAR(50) NOT NULL,\n",
    "email VARCHAR(355) UNIQUE NOT NULL,\n",
    "created_on TIMESTAMP NOT NULL,\n",
    "last_login TIMESTAMP\n",
    ");`**"
   ]
  },
  {
   "cell_type": "code",
   "execution_count": null,
   "metadata": {},
   "outputs": [],
   "source": []
  },
  {
   "cell_type": "markdown",
   "metadata": {},
   "source": [
    "<div class=\"alert alert-info\" style:\"margin:20px\"> \n",
    "    \n",
    "### VIEWS <div/>"
   ]
  },
  {
   "cell_type": "markdown",
   "metadata": {},
   "source": [
    "3 TABLES with 3 columns<br>\n",
    "* Table T1 has columns C1, C2, C3<br>\n",
    "* Table T2 has columns C1, C4, C5<br>\n",
    "* Table T3 has columns C2, C6<br>\n",
    "\n",
    "We can combine/join the  tables in the following manner<br>\n",
    "**`SELECT C1, C2, C3, C4, C5, C6\n",
    "FROM T1\n",
    "JOIN T2 ON T1.C1 = T2.C1\n",
    "JOIN T3 ON T1.C2 = T3.C2;`**\n",
    "\n",
    "We do not need to write the above query everyday if the output is important, by using **VIEW** `CREATE VIEW view_name AS query` [Generic]\n",
    "\n",
    "\n",
    "Thus Overall code will become <br>\n",
    "**`CREATE VIEW view_name AS\n",
    "SELECT C1, C2, C3, C4, C5, C6\n",
    "FROM T1\n",
    "JOIN T2 ON T1.C1 = T2.C1\n",
    "JOIN T3 ON T1.C2 = T3.C2;`**\n",
    "\n",
    "We can confirm by checking following\n",
    "`SELECT * FROM view_name`"
   ]
  },
  {
   "cell_type": "markdown",
   "metadata": {},
   "source": [
    "### **ALTER & RENAME: renames the VIEW**\n",
    "\n",
    "\n",
    "**`ALTER VIEW view_name RENAME TO new_view_name;`**"
   ]
  },
  {
   "cell_type": "markdown",
   "metadata": {},
   "source": [
    "### **REMOVE a VIEW**\n",
    "\n",
    "**`DROP VIEW IF EXISTS view_name;`**"
   ]
  },
  {
   "cell_type": "code",
   "execution_count": null,
   "metadata": {},
   "outputs": [],
   "source": []
  },
  {
   "cell_type": "markdown",
   "metadata": {},
   "source": [
    "<div class=\"alert alert-info\" style:\"margin:20px\"> \n",
    "    \n",
    "## Psycopg2: PostgreSQL with Pythin in Jupyter Notebook<div/>"
   ]
  },
  {
   "cell_type": "code",
   "execution_count": 2,
   "metadata": {},
   "outputs": [],
   "source": [
    "import psycopg2 as pg2"
   ]
  },
  {
   "cell_type": "code",
   "execution_count": 5,
   "metadata": {},
   "outputs": [],
   "source": [
    "## connecting to database (postgresql)\n",
    "# if everything is set to default # user will be 'postgres'\n",
    "conn = pg2.connect(database='dvdrental', user='postgres', password='Puchu123')"
   ]
  },
  {
   "cell_type": "code",
   "execution_count": 6,
   "metadata": {},
   "outputs": [],
   "source": [
    "# create a cursor\n",
    "cur = conn.cursor()"
   ]
  },
  {
   "cell_type": "code",
   "execution_count": 7,
   "metadata": {},
   "outputs": [],
   "source": [
    "#### Now we can excute SQL queries ####"
   ]
  },
  {
   "cell_type": "code",
   "execution_count": 8,
   "metadata": {},
   "outputs": [],
   "source": [
    "# now within the cursor we can execute whatever we want to query\n",
    "cur.execute('SELECT * FROM payment')"
   ]
  },
  {
   "cell_type": "code",
   "execution_count": 9,
   "metadata": {},
   "outputs": [
    {
     "data": {
      "text/plain": [
       "(17503,\n",
       " 341,\n",
       " 2,\n",
       " 1520,\n",
       " Decimal('7.99'),\n",
       " datetime.datetime(2007, 2, 15, 22, 25, 46, 996577))"
      ]
     },
     "execution_count": 9,
     "metadata": {},
     "output_type": "execute_result"
    }
   ],
   "source": [
    "cur.fetchone() # fetchone() will return the first row of the data"
   ]
  },
  {
   "cell_type": "code",
   "execution_count": 10,
   "metadata": {},
   "outputs": [
    {
     "data": {
      "text/plain": [
       "[(17504,\n",
       "  341,\n",
       "  1,\n",
       "  1778,\n",
       "  Decimal('1.99'),\n",
       "  datetime.datetime(2007, 2, 16, 17, 23, 14, 996577)),\n",
       " (17505,\n",
       "  341,\n",
       "  1,\n",
       "  1849,\n",
       "  Decimal('7.99'),\n",
       "  datetime.datetime(2007, 2, 16, 22, 41, 45, 996577)),\n",
       " (17506,\n",
       "  341,\n",
       "  2,\n",
       "  2829,\n",
       "  Decimal('2.99'),\n",
       "  datetime.datetime(2007, 2, 19, 19, 39, 56, 996577))]"
      ]
     },
     "execution_count": 10,
     "metadata": {},
     "output_type": "execute_result"
    }
   ],
   "source": [
    "cur.fetchmany(3) # fetchmany() will return the number of rows of data specified\n",
    "# as it returns tupule, we can use tupule unpacking"
   ]
  },
  {
   "cell_type": "code",
   "execution_count": 11,
   "metadata": {},
   "outputs": [],
   "source": [
    "data = cur.fetchall() # cur.fetchall() : This will return all the rows in tupule format"
   ]
  },
  {
   "cell_type": "code",
   "execution_count": 12,
   "metadata": {},
   "outputs": [
    {
     "data": {
      "text/plain": [
       "(17507,\n",
       " 341,\n",
       " 2,\n",
       " 3130,\n",
       " Decimal('7.99'),\n",
       " datetime.datetime(2007, 2, 20, 17, 31, 48, 996577))"
      ]
     },
     "execution_count": 12,
     "metadata": {},
     "output_type": "execute_result"
    }
   ],
   "source": [
    "data[0]"
   ]
  },
  {
   "cell_type": "code",
   "execution_count": 18,
   "metadata": {},
   "outputs": [
    {
     "data": {
      "text/plain": [
       "(32098,\n",
       " 264,\n",
       " 2,\n",
       " 14243,\n",
       " Decimal('2.99'),\n",
       " datetime.datetime(2007, 5, 14, 13, 44, 29, 996577))"
      ]
     },
     "execution_count": 18,
     "metadata": {},
     "output_type": "execute_result"
    }
   ],
   "source": [
    "data[-1]"
   ]
  },
  {
   "cell_type": "code",
   "execution_count": 19,
   "metadata": {},
   "outputs": [],
   "source": [
    "### How to take a SQL table and convert it into pandas df ####"
   ]
  },
  {
   "cell_type": "code",
   "execution_count": 20,
   "metadata": {},
   "outputs": [],
   "source": [
    "import pandas as pd"
   ]
  },
  {
   "cell_type": "code",
   "execution_count": 21,
   "metadata": {},
   "outputs": [
    {
     "data": {
      "text/html": [
       "<div>\n",
       "<style scoped>\n",
       "    .dataframe tbody tr th:only-of-type {\n",
       "        vertical-align: middle;\n",
       "    }\n",
       "\n",
       "    .dataframe tbody tr th {\n",
       "        vertical-align: top;\n",
       "    }\n",
       "\n",
       "    .dataframe thead th {\n",
       "        text-align: right;\n",
       "    }\n",
       "</style>\n",
       "<table border=\"1\" class=\"dataframe\">\n",
       "  <thead>\n",
       "    <tr style=\"text-align: right;\">\n",
       "      <th></th>\n",
       "      <th>0</th>\n",
       "      <th>1</th>\n",
       "      <th>2</th>\n",
       "      <th>3</th>\n",
       "      <th>4</th>\n",
       "      <th>5</th>\n",
       "    </tr>\n",
       "  </thead>\n",
       "  <tbody>\n",
       "    <tr>\n",
       "      <td>0</td>\n",
       "      <td>17507</td>\n",
       "      <td>341</td>\n",
       "      <td>2</td>\n",
       "      <td>3130</td>\n",
       "      <td>7.99</td>\n",
       "      <td>2007-02-20 17:31:48.996577</td>\n",
       "    </tr>\n",
       "    <tr>\n",
       "      <td>1</td>\n",
       "      <td>17508</td>\n",
       "      <td>341</td>\n",
       "      <td>1</td>\n",
       "      <td>3382</td>\n",
       "      <td>5.99</td>\n",
       "      <td>2007-02-21 12:33:49.996577</td>\n",
       "    </tr>\n",
       "    <tr>\n",
       "      <td>2</td>\n",
       "      <td>17509</td>\n",
       "      <td>342</td>\n",
       "      <td>2</td>\n",
       "      <td>2190</td>\n",
       "      <td>5.99</td>\n",
       "      <td>2007-02-17 23:58:17.996577</td>\n",
       "    </tr>\n",
       "    <tr>\n",
       "      <td>3</td>\n",
       "      <td>17510</td>\n",
       "      <td>342</td>\n",
       "      <td>1</td>\n",
       "      <td>2914</td>\n",
       "      <td>5.99</td>\n",
       "      <td>2007-02-20 02:11:44.996577</td>\n",
       "    </tr>\n",
       "    <tr>\n",
       "      <td>4</td>\n",
       "      <td>17511</td>\n",
       "      <td>342</td>\n",
       "      <td>1</td>\n",
       "      <td>3081</td>\n",
       "      <td>2.99</td>\n",
       "      <td>2007-02-20 13:57:39.996577</td>\n",
       "    </tr>\n",
       "    <tr>\n",
       "      <td>...</td>\n",
       "      <td>...</td>\n",
       "      <td>...</td>\n",
       "      <td>...</td>\n",
       "      <td>...</td>\n",
       "      <td>...</td>\n",
       "      <td>...</td>\n",
       "    </tr>\n",
       "    <tr>\n",
       "      <td>14587</td>\n",
       "      <td>32094</td>\n",
       "      <td>245</td>\n",
       "      <td>2</td>\n",
       "      <td>12682</td>\n",
       "      <td>2.99</td>\n",
       "      <td>2007-05-14 13:44:29.996577</td>\n",
       "    </tr>\n",
       "    <tr>\n",
       "      <td>14588</td>\n",
       "      <td>32095</td>\n",
       "      <td>251</td>\n",
       "      <td>1</td>\n",
       "      <td>14107</td>\n",
       "      <td>0.99</td>\n",
       "      <td>2007-05-14 13:44:29.996577</td>\n",
       "    </tr>\n",
       "    <tr>\n",
       "      <td>14589</td>\n",
       "      <td>32096</td>\n",
       "      <td>252</td>\n",
       "      <td>2</td>\n",
       "      <td>13756</td>\n",
       "      <td>4.99</td>\n",
       "      <td>2007-05-14 13:44:29.996577</td>\n",
       "    </tr>\n",
       "    <tr>\n",
       "      <td>14590</td>\n",
       "      <td>32097</td>\n",
       "      <td>263</td>\n",
       "      <td>1</td>\n",
       "      <td>15293</td>\n",
       "      <td>0.99</td>\n",
       "      <td>2007-05-14 13:44:29.996577</td>\n",
       "    </tr>\n",
       "    <tr>\n",
       "      <td>14591</td>\n",
       "      <td>32098</td>\n",
       "      <td>264</td>\n",
       "      <td>2</td>\n",
       "      <td>14243</td>\n",
       "      <td>2.99</td>\n",
       "      <td>2007-05-14 13:44:29.996577</td>\n",
       "    </tr>\n",
       "  </tbody>\n",
       "</table>\n",
       "<p>14592 rows × 6 columns</p>\n",
       "</div>"
      ],
      "text/plain": [
       "           0    1  2      3     4                          5\n",
       "0      17507  341  2   3130  7.99 2007-02-20 17:31:48.996577\n",
       "1      17508  341  1   3382  5.99 2007-02-21 12:33:49.996577\n",
       "2      17509  342  2   2190  5.99 2007-02-17 23:58:17.996577\n",
       "3      17510  342  1   2914  5.99 2007-02-20 02:11:44.996577\n",
       "4      17511  342  1   3081  2.99 2007-02-20 13:57:39.996577\n",
       "...      ...  ... ..    ...   ...                        ...\n",
       "14587  32094  245  2  12682  2.99 2007-05-14 13:44:29.996577\n",
       "14588  32095  251  1  14107  0.99 2007-05-14 13:44:29.996577\n",
       "14589  32096  252  2  13756  4.99 2007-05-14 13:44:29.996577\n",
       "14590  32097  263  1  15293  0.99 2007-05-14 13:44:29.996577\n",
       "14591  32098  264  2  14243  2.99 2007-05-14 13:44:29.996577\n",
       "\n",
       "[14592 rows x 6 columns]"
      ]
     },
     "execution_count": 21,
     "metadata": {},
     "output_type": "execute_result"
    }
   ],
   "source": [
    "pd.DataFrame(data)"
   ]
  },
  {
   "cell_type": "code",
   "execution_count": 23,
   "metadata": {},
   "outputs": [],
   "source": [
    "# close connection at the end\n",
    "conn.close()"
   ]
  },
  {
   "cell_type": "markdown",
   "metadata": {},
   "source": [
    "# Table Schema\n",
    "\n",
    "Imagine I open another dvd store. Now the format of the table (or schema) would be same but inputs will vary."
   ]
  },
  {
   "cell_type": "markdown",
   "metadata": {},
   "source": [
    "1. Create a new database\n",
    "2. Right click --> `restore` --> select the `.tar` file of previous store --> click `restore options 1` --> select `only schema` --> select `restore`"
   ]
  },
  {
   "cell_type": "markdown",
   "metadata": {},
   "source": [
    "Another case could be all entries in a database contain errors. We need to keep only table schema in the database and delete every row \n",
    "\n",
    "1. We will be using same database\n",
    "2. Right click --->  restore ----> select the right .tar file ----> click restore options 1 ---> select only schema --> click restore option 2 ----> select `clean before restore` ----> select `restore`"
   ]
  }
 ],
 "metadata": {
  "kernelspec": {
   "display_name": "Python 3",
   "language": "python",
   "name": "python3"
  },
  "language_info": {
   "codemirror_mode": {
    "name": "ipython",
    "version": 3
   },
   "file_extension": ".py",
   "mimetype": "text/x-python",
   "name": "python",
   "nbconvert_exporter": "python",
   "pygments_lexer": "ipython3",
   "version": "3.7.4"
  },
  "varInspector": {
   "cols": {
    "lenName": 16,
    "lenType": 16,
    "lenVar": 40
   },
   "kernels_config": {
    "python": {
     "delete_cmd_postfix": "",
     "delete_cmd_prefix": "del ",
     "library": "var_list.py",
     "varRefreshCmd": "print(var_dic_list())"
    },
    "r": {
     "delete_cmd_postfix": ") ",
     "delete_cmd_prefix": "rm(",
     "library": "var_list.r",
     "varRefreshCmd": "cat(var_dic_list()) "
    }
   },
   "types_to_exclude": [
    "module",
    "function",
    "builtin_function_or_method",
    "instance",
    "_Feature"
   ],
   "window_display": false
  }
 },
 "nbformat": 4,
 "nbformat_minor": 2
}
